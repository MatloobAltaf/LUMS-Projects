{
  "nbformat": 4,
  "nbformat_minor": 0,
  "metadata": {
    "colab": {
      "name": "ML_Project_SpeakerRecognition.ipynb",
      "provenance": [],
      "collapsed_sections": [],
      "toc_visible": true
    },
    "kernelspec": {
      "name": "python3",
      "display_name": "Python 3"
    },
    "accelerator": "GPU"
  },
  "cells": [
    {
      "cell_type": "markdown",
      "metadata": {
        "id": "Ki5IQliODrnS"
      },
      "source": [
        "\n",
        "\n",
        "# Create Dataset\n",
        "\n"
      ]
    },
    {
      "cell_type": "code",
      "metadata": {
        "id": "7IS0DoJ7YaKH"
      },
      "source": [
        "!unzip /content/drive/MyDrive/Colab Notebooks/ML-Project/LUMS_FALL2020_PROJECT_DATA.zip"
      ],
      "execution_count": null,
      "outputs": []
    },
    {
      "cell_type": "code",
      "metadata": {
        "colab": {
          "base_uri": "https://localhost:8080/"
        },
        "id": "BoOD2j40pubJ",
        "outputId": "c704d73b-2d6d-4fee-a05d-a261f94ebcab"
      },
      "source": [
        "!pip install python_speech_features\n"
      ],
      "execution_count": null,
      "outputs": [
        {
          "output_type": "stream",
          "text": [
            "Collecting python_speech_features\n",
            "  Downloading https://files.pythonhosted.org/packages/ff/d1/94c59e20a2631985fbd2124c45177abaa9e0a4eee8ba8a305aa26fc02a8e/python_speech_features-0.6.tar.gz\n",
            "Building wheels for collected packages: python-speech-features\n",
            "  Building wheel for python-speech-features (setup.py) ... \u001b[?25l\u001b[?25hdone\n",
            "  Created wheel for python-speech-features: filename=python_speech_features-0.6-cp36-none-any.whl size=5887 sha256=6d52bfbaf3a79e1412dfc339d24b7302c89da389681e5361564870af1309769e\n",
            "  Stored in directory: /root/.cache/pip/wheels/3c/42/7c/f60e9d1b40015cd69b213ad90f7c18a9264cd745b9888134be\n",
            "Successfully built python-speech-features\n",
            "Installing collected packages: python-speech-features\n",
            "Successfully installed python-speech-features-0.6\n"
          ],
          "name": "stdout"
        }
      ]
    },
    {
      "cell_type": "code",
      "metadata": {
        "id": "hWeQ-vq_qI4c"
      },
      "source": [
        "# import python_speech_features as mfcc\n",
        "from scipy.io.wavfile import read\n",
        "import numpy as np\n",
        "import os\n",
        "import pandas as pd\n",
        "from sklearn.preprocessing import MinMaxScaler\n",
        "import matplotlib.pyplot as plt\n",
        "from sklearn.metrics import precision_recall_fscore_support\n",
        "from sklearn.metrics import precision_score\n",
        "from sklearn.metrics import recall_score\n",
        "from sklearn.metrics import f1_score\n",
        "from sklearn.metrics import confusion_matrix"
      ],
      "execution_count": null,
      "outputs": []
    },
    {
      "cell_type": "code",
      "metadata": {
        "colab": {
          "base_uri": "https://localhost:8080/"
        },
        "id": "kIjdmmv-2elf",
        "outputId": "7a05acf1-8beb-4f1e-c47c-66c41e9e421c"
      },
      "source": [
        "from google.colab import drive\n",
        "drive.mount('/content/drive')"
      ],
      "execution_count": null,
      "outputs": [
        {
          "output_type": "stream",
          "text": [
            "Mounted at /content/drive\n"
          ],
          "name": "stdout"
        }
      ]
    },
    {
      "cell_type": "code",
      "metadata": {
        "colab": {
          "base_uri": "https://localhost:8080/",
          "height": 35
        },
        "id": "n-BleFrNN9UN",
        "outputId": "37e08d18-7585-401a-c1a4-5dba05b50f50"
      },
      "source": [
        "import tensorflow as tf\n",
        "tf.test.gpu_device_name()"
      ],
      "execution_count": null,
      "outputs": [
        {
          "output_type": "execute_result",
          "data": {
            "application/vnd.google.colaboratory.intrinsic+json": {
              "type": "string"
            },
            "text/plain": [
              "'/device:GPU:0'"
            ]
          },
          "metadata": {
            "tags": []
          },
          "execution_count": 3
        }
      ]
    },
    {
      "cell_type": "code",
      "metadata": {
        "id": "YINXwovIXm09"
      },
      "source": [
        "# !unzip \"/content/drive/MyDrive/LUMS_FALL2020_PROJECT_DATA.zip\" -d \"/content/drive/MyDrive/ml project\""
      ],
      "execution_count": null,
      "outputs": []
    },
    {
      "cell_type": "markdown",
      "metadata": {
        "id": "O7Xd085nyQMQ"
      },
      "source": [
        "Get features from audio files"
      ]
    },
    {
      "cell_type": "code",
      "metadata": {
        "id": "NbryRdsYD3xN"
      },
      "source": [
        "def get_MFCC(audio, sr):\n",
        "    features = mfcc.mfcc(audio, sr, 0.025, 0.01, 13, appendEnergy = True)\n",
        "    return np.mean(features, axis=0)"
      ],
      "execution_count": null,
      "outputs": []
    },
    {
      "cell_type": "code",
      "metadata": {
        "id": "dV99Nso_D6_b"
      },
      "source": [
        "# for Speaker Recognition \n",
        "your_path = \"/content/drive/MyDrive/Ml assignmentsa/ml project\"\n",
        "test_path=your_path+\"/Speaker_Recognition/Test\"\n",
        "train_path=your_path+\"/Speaker_Recognition/Train\"\n",
        "validation_path=your_path+\"/Speaker_Recognition/Valid\""
      ],
      "execution_count": null,
      "outputs": []
    },
    {
      "cell_type": "markdown",
      "metadata": {
        "id": "2wQiEFk9yKrh"
      },
      "source": [
        "Dataset creation function"
      ]
    },
    {
      "cell_type": "code",
      "metadata": {
        "id": "vCUdRs76Wlon"
      },
      "source": [
        "def dataset_generator(path):\n",
        "  speaker=os.listdir(path)\n",
        "  output=np.array([]);\n",
        "  for a,s in enumerate(speaker):\n",
        "    speaker_id=s\n",
        "    # print(speaker_id)\n",
        "    path_to_speaker=os.path.join(path,speaker_id)\n",
        "    speaker_wav_files=os.listdir(path_to_speaker)\n",
        "    for b,wav_files in enumerate(speaker_wav_files):\n",
        "      wav_path=os.path.join(path_to_speaker,wav_files)\n",
        "      sr, audio = read(wav_path)\n",
        "      features = get_MFCC(audio, sr)\n",
        "      # print(speaker_id)\n",
        "      features=np.append(features,speaker_id)\n",
        "      features=np.reshape(features,(1,features.shape[0]))\n",
        "      if a==0 and b==0:\n",
        "        # first iteration\n",
        "        output= features\n",
        "        continue\n",
        "      output=np.append(output,features,axis=0)\n",
        "  return output"
      ],
      "execution_count": null,
      "outputs": []
    },
    {
      "cell_type": "code",
      "metadata": {
        "id": "bCbH8o7wYtMi"
      },
      "source": [
        "df_train=dataset_generator(train_path)\n",
        "df_test=dataset_generator(test_path)\n",
        "df_valid=dataset_generator(validation_path)"
      ],
      "execution_count": null,
      "outputs": []
    },
    {
      "cell_type": "code",
      "metadata": {
        "id": "pK9oaVMhERm1"
      },
      "source": [
        "df_train=pd.DataFrame(df_train)\n",
        "df_test=pd.DataFrame(df_test)\n",
        "df_valid=pd.DataFrame(df_valid)"
      ],
      "execution_count": null,
      "outputs": []
    },
    {
      "cell_type": "code",
      "metadata": {
        "id": "4_tDihfDU3pe",
        "colab": {
          "base_uri": "https://localhost:8080/",
          "height": 222
        },
        "outputId": "ec2f4cd6-fe99-4c36-8816-367b6f082d8f"
      },
      "source": [
        "df_valid.head()"
      ],
      "execution_count": null,
      "outputs": [
        {
          "output_type": "execute_result",
          "data": {
            "text/html": [
              "<div>\n",
              "<style scoped>\n",
              "    .dataframe tbody tr th:only-of-type {\n",
              "        vertical-align: middle;\n",
              "    }\n",
              "\n",
              "    .dataframe tbody tr th {\n",
              "        vertical-align: top;\n",
              "    }\n",
              "\n",
              "    .dataframe thead th {\n",
              "        text-align: right;\n",
              "    }\n",
              "</style>\n",
              "<table border=\"1\" class=\"dataframe\">\n",
              "  <thead>\n",
              "    <tr style=\"text-align: right;\">\n",
              "      <th></th>\n",
              "      <th>0</th>\n",
              "      <th>1</th>\n",
              "      <th>2</th>\n",
              "      <th>3</th>\n",
              "      <th>4</th>\n",
              "      <th>5</th>\n",
              "      <th>6</th>\n",
              "      <th>7</th>\n",
              "      <th>8</th>\n",
              "      <th>9</th>\n",
              "      <th>10</th>\n",
              "      <th>11</th>\n",
              "      <th>12</th>\n",
              "      <th>13</th>\n",
              "    </tr>\n",
              "  </thead>\n",
              "  <tbody>\n",
              "    <tr>\n",
              "      <th>0</th>\n",
              "      <td>17.278290950077114</td>\n",
              "      <td>2.354893150480693</td>\n",
              "      <td>1.0161695147375605</td>\n",
              "      <td>-0.5687022107459759</td>\n",
              "      <td>-7.965851860827861</td>\n",
              "      <td>-26.00033532129601</td>\n",
              "      <td>-17.87307501074799</td>\n",
              "      <td>4.904871961204424</td>\n",
              "      <td>-8.918135686558918</td>\n",
              "      <td>-13.003069020094511</td>\n",
              "      <td>1.1968840465238377</td>\n",
              "      <td>3.2777428854887134</td>\n",
              "      <td>-12.374534862084067</td>\n",
              "      <td>SPK086_M</td>\n",
              "    </tr>\n",
              "    <tr>\n",
              "      <th>1</th>\n",
              "      <td>16.253376089659913</td>\n",
              "      <td>-9.096056833997995</td>\n",
              "      <td>-6.928088316179635</td>\n",
              "      <td>-0.6329989807515547</td>\n",
              "      <td>-4.868892981517167</td>\n",
              "      <td>-12.658145560126078</td>\n",
              "      <td>-8.497969113713573</td>\n",
              "      <td>-6.597929158081389</td>\n",
              "      <td>-8.224489149537536</td>\n",
              "      <td>-7.325384232715156</td>\n",
              "      <td>-1.625273817338401</td>\n",
              "      <td>-7.300184802437506</td>\n",
              "      <td>-7.916564384670338</td>\n",
              "      <td>SPK086_M</td>\n",
              "    </tr>\n",
              "    <tr>\n",
              "      <th>2</th>\n",
              "      <td>14.087744623408726</td>\n",
              "      <td>-13.588406186995272</td>\n",
              "      <td>-7.407456015877126</td>\n",
              "      <td>-6.3673414158801185</td>\n",
              "      <td>-8.228904351107934</td>\n",
              "      <td>-6.224702507748562</td>\n",
              "      <td>-20.92772487150831</td>\n",
              "      <td>-1.336778385145467</td>\n",
              "      <td>-8.082371973160855</td>\n",
              "      <td>-9.155356786872828</td>\n",
              "      <td>-9.789015186844843</td>\n",
              "      <td>-10.184427272043704</td>\n",
              "      <td>-2.334254057323882</td>\n",
              "      <td>SPK111_F</td>\n",
              "    </tr>\n",
              "    <tr>\n",
              "      <th>3</th>\n",
              "      <td>13.986740879567995</td>\n",
              "      <td>-14.0054408027811</td>\n",
              "      <td>-8.260546867127713</td>\n",
              "      <td>-5.317771471671326</td>\n",
              "      <td>-10.57843424293087</td>\n",
              "      <td>-5.569725603091103</td>\n",
              "      <td>-19.531892193220234</td>\n",
              "      <td>-5.231989245379567</td>\n",
              "      <td>-9.841404141603276</td>\n",
              "      <td>-14.910297619566967</td>\n",
              "      <td>-7.28344003102763</td>\n",
              "      <td>-10.420741624758195</td>\n",
              "      <td>-3.6809770930435994</td>\n",
              "      <td>SPK111_F</td>\n",
              "    </tr>\n",
              "    <tr>\n",
              "      <th>4</th>\n",
              "      <td>14.840030812714337</td>\n",
              "      <td>0.7525762005731215</td>\n",
              "      <td>-16.25513842326426</td>\n",
              "      <td>0.3430494931765365</td>\n",
              "      <td>3.7840897972568532</td>\n",
              "      <td>-13.048374638666651</td>\n",
              "      <td>-8.544708494874332</td>\n",
              "      <td>1.4027877308013748</td>\n",
              "      <td>-12.048142815404642</td>\n",
              "      <td>5.857084589730357</td>\n",
              "      <td>-12.773497438706972</td>\n",
              "      <td>-1.115007457231582</td>\n",
              "      <td>-2.461205033633584</td>\n",
              "      <td>SPK039_M</td>\n",
              "    </tr>\n",
              "  </tbody>\n",
              "</table>\n",
              "</div>"
            ],
            "text/plain": [
              "                   0                    1   ...                   12        13\n",
              "0  17.278290950077114    2.354893150480693  ...  -12.374534862084067  SPK086_M\n",
              "1  16.253376089659913   -9.096056833997995  ...   -7.916564384670338  SPK086_M\n",
              "2  14.087744623408726  -13.588406186995272  ...   -2.334254057323882  SPK111_F\n",
              "3  13.986740879567995    -14.0054408027811  ...  -3.6809770930435994  SPK111_F\n",
              "4  14.840030812714337   0.7525762005731215  ...   -2.461205033633584  SPK039_M\n",
              "\n",
              "[5 rows x 14 columns]"
            ]
          },
          "metadata": {
            "tags": []
          },
          "execution_count": 22
        }
      ]
    },
    {
      "cell_type": "code",
      "metadata": {
        "id": "8yKaRVpp57Vp",
        "colab": {
          "base_uri": "https://localhost:8080/",
          "height": 222
        },
        "outputId": "78aedcc3-6f38-4ae9-f194-3a7960f515bd"
      },
      "source": [
        "df_train.head()"
      ],
      "execution_count": null,
      "outputs": [
        {
          "output_type": "execute_result",
          "data": {
            "text/html": [
              "<div>\n",
              "<style scoped>\n",
              "    .dataframe tbody tr th:only-of-type {\n",
              "        vertical-align: middle;\n",
              "    }\n",
              "\n",
              "    .dataframe tbody tr th {\n",
              "        vertical-align: top;\n",
              "    }\n",
              "\n",
              "    .dataframe thead th {\n",
              "        text-align: right;\n",
              "    }\n",
              "</style>\n",
              "<table border=\"1\" class=\"dataframe\">\n",
              "  <thead>\n",
              "    <tr style=\"text-align: right;\">\n",
              "      <th></th>\n",
              "      <th>0</th>\n",
              "      <th>1</th>\n",
              "      <th>2</th>\n",
              "      <th>3</th>\n",
              "      <th>4</th>\n",
              "      <th>5</th>\n",
              "      <th>6</th>\n",
              "      <th>7</th>\n",
              "      <th>8</th>\n",
              "      <th>9</th>\n",
              "      <th>10</th>\n",
              "      <th>11</th>\n",
              "      <th>12</th>\n",
              "      <th>13</th>\n",
              "    </tr>\n",
              "  </thead>\n",
              "  <tbody>\n",
              "    <tr>\n",
              "      <th>0</th>\n",
              "      <td>16.658910716846044</td>\n",
              "      <td>-4.076080818947285</td>\n",
              "      <td>-1.7073178895979089</td>\n",
              "      <td>2.3781338902896874</td>\n",
              "      <td>-5.490506740569726</td>\n",
              "      <td>-13.602669999690917</td>\n",
              "      <td>-6.218066938514143</td>\n",
              "      <td>-13.915750018002552</td>\n",
              "      <td>-11.814610670007335</td>\n",
              "      <td>-11.790383872368107</td>\n",
              "      <td>-6.588031880596375</td>\n",
              "      <td>-0.6901566709100849</td>\n",
              "      <td>-9.094969172757084</td>\n",
              "      <td>SPK008_M</td>\n",
              "    </tr>\n",
              "    <tr>\n",
              "      <th>1</th>\n",
              "      <td>16.637726898826084</td>\n",
              "      <td>-0.9152720947926084</td>\n",
              "      <td>-0.07294264339685265</td>\n",
              "      <td>-1.9467387260050273</td>\n",
              "      <td>-3.904936964030134</td>\n",
              "      <td>-11.351615319346656</td>\n",
              "      <td>-9.936495264739314</td>\n",
              "      <td>-12.957649704360346</td>\n",
              "      <td>-10.989148394848822</td>\n",
              "      <td>-11.42191242884002</td>\n",
              "      <td>-5.124509170412696</td>\n",
              "      <td>-1.7765758253319648</td>\n",
              "      <td>-6.492238910416785</td>\n",
              "      <td>SPK008_M</td>\n",
              "    </tr>\n",
              "    <tr>\n",
              "      <th>2</th>\n",
              "      <td>17.197832974263125</td>\n",
              "      <td>-1.3888363243459239</td>\n",
              "      <td>-1.710219263046211</td>\n",
              "      <td>-1.4254561121844755</td>\n",
              "      <td>-4.125975102463803</td>\n",
              "      <td>-17.477826286550833</td>\n",
              "      <td>-18.778854871125287</td>\n",
              "      <td>-9.505278356806837</td>\n",
              "      <td>0.9747952279123403</td>\n",
              "      <td>-7.0700472845323095</td>\n",
              "      <td>-6.407618074492775</td>\n",
              "      <td>1.1594891345571752</td>\n",
              "      <td>-13.699319931097385</td>\n",
              "      <td>SPK008_M</td>\n",
              "    </tr>\n",
              "    <tr>\n",
              "      <th>3</th>\n",
              "      <td>16.33643796100381</td>\n",
              "      <td>-4.65165714484431</td>\n",
              "      <td>-0.05889578805222108</td>\n",
              "      <td>-2.1057419894486937</td>\n",
              "      <td>-10.656587975412291</td>\n",
              "      <td>-15.779457513145108</td>\n",
              "      <td>-17.03555499023319</td>\n",
              "      <td>-7.516131020444078</td>\n",
              "      <td>-8.724725812672617</td>\n",
              "      <td>-12.271026411218838</td>\n",
              "      <td>2.053879131258729</td>\n",
              "      <td>-4.495195951625868</td>\n",
              "      <td>-8.383448727325066</td>\n",
              "      <td>SPK008_M</td>\n",
              "    </tr>\n",
              "    <tr>\n",
              "      <th>4</th>\n",
              "      <td>16.733076934063572</td>\n",
              "      <td>-3.89229497423363</td>\n",
              "      <td>-1.449679309420633</td>\n",
              "      <td>0.4063911101492223</td>\n",
              "      <td>-8.316220566496813</td>\n",
              "      <td>-15.74147920399928</td>\n",
              "      <td>-18.617929948899892</td>\n",
              "      <td>-13.016642346438056</td>\n",
              "      <td>-0.039299957217617525</td>\n",
              "      <td>-11.758741966129369</td>\n",
              "      <td>-2.153509943151505</td>\n",
              "      <td>-4.201319027116033</td>\n",
              "      <td>-7.294353413264047</td>\n",
              "      <td>SPK008_M</td>\n",
              "    </tr>\n",
              "  </tbody>\n",
              "</table>\n",
              "</div>"
            ],
            "text/plain": [
              "                   0                    1   ...                   12        13\n",
              "0  16.658910716846044   -4.076080818947285  ...   -9.094969172757084  SPK008_M\n",
              "1  16.637726898826084  -0.9152720947926084  ...   -6.492238910416785  SPK008_M\n",
              "2  17.197832974263125  -1.3888363243459239  ...  -13.699319931097385  SPK008_M\n",
              "3   16.33643796100381    -4.65165714484431  ...   -8.383448727325066  SPK008_M\n",
              "4  16.733076934063572    -3.89229497423363  ...   -7.294353413264047  SPK008_M\n",
              "\n",
              "[5 rows x 14 columns]"
            ]
          },
          "metadata": {
            "tags": []
          },
          "execution_count": 23
        }
      ]
    },
    {
      "cell_type": "code",
      "metadata": {
        "id": "dHtmpr1r59X6",
        "colab": {
          "base_uri": "https://localhost:8080/",
          "height": 222
        },
        "outputId": "55265909-7b19-4d9a-ad07-c7cedf08610d"
      },
      "source": [
        "df_test.head()"
      ],
      "execution_count": null,
      "outputs": [
        {
          "output_type": "execute_result",
          "data": {
            "text/html": [
              "<div>\n",
              "<style scoped>\n",
              "    .dataframe tbody tr th:only-of-type {\n",
              "        vertical-align: middle;\n",
              "    }\n",
              "\n",
              "    .dataframe tbody tr th {\n",
              "        vertical-align: top;\n",
              "    }\n",
              "\n",
              "    .dataframe thead th {\n",
              "        text-align: right;\n",
              "    }\n",
              "</style>\n",
              "<table border=\"1\" class=\"dataframe\">\n",
              "  <thead>\n",
              "    <tr style=\"text-align: right;\">\n",
              "      <th></th>\n",
              "      <th>0</th>\n",
              "      <th>1</th>\n",
              "      <th>2</th>\n",
              "      <th>3</th>\n",
              "      <th>4</th>\n",
              "      <th>5</th>\n",
              "      <th>6</th>\n",
              "      <th>7</th>\n",
              "      <th>8</th>\n",
              "      <th>9</th>\n",
              "      <th>10</th>\n",
              "      <th>11</th>\n",
              "      <th>12</th>\n",
              "      <th>13</th>\n",
              "    </tr>\n",
              "  </thead>\n",
              "  <tbody>\n",
              "    <tr>\n",
              "      <th>0</th>\n",
              "      <td>15.807340865510422</td>\n",
              "      <td>-2.2019039533178106</td>\n",
              "      <td>-1.0023777783992924</td>\n",
              "      <td>-1.2882825468789512</td>\n",
              "      <td>-3.8184228004902456</td>\n",
              "      <td>-1.3026313848679971</td>\n",
              "      <td>1.5269756626857485</td>\n",
              "      <td>-24.084139837128696</td>\n",
              "      <td>4.194708715939929</td>\n",
              "      <td>-2.6388809321964786</td>\n",
              "      <td>-13.34676465910952</td>\n",
              "      <td>2.237999964077297</td>\n",
              "      <td>-9.69638265206069</td>\n",
              "      <td>SPK075_M</td>\n",
              "    </tr>\n",
              "    <tr>\n",
              "      <th>1</th>\n",
              "      <td>16.080506001355502</td>\n",
              "      <td>-6.574114811786549</td>\n",
              "      <td>-1.6945738426722976</td>\n",
              "      <td>0.7085070158590019</td>\n",
              "      <td>-1.4560814093073888</td>\n",
              "      <td>1.426413867072673</td>\n",
              "      <td>0.2809918702653431</td>\n",
              "      <td>-28.285979978929927</td>\n",
              "      <td>9.306204127441978</td>\n",
              "      <td>-1.883943900076631</td>\n",
              "      <td>-12.888229330724252</td>\n",
              "      <td>1.5636451337275032</td>\n",
              "      <td>-13.076516254328235</td>\n",
              "      <td>SPK075_M</td>\n",
              "    </tr>\n",
              "    <tr>\n",
              "      <th>2</th>\n",
              "      <td>14.026162630356616</td>\n",
              "      <td>5.693859575494569</td>\n",
              "      <td>-11.417265521875455</td>\n",
              "      <td>-2.1409859183428304</td>\n",
              "      <td>-10.27807515336669</td>\n",
              "      <td>-3.8230559288227575</td>\n",
              "      <td>-12.641034222800103</td>\n",
              "      <td>2.9507678589459987</td>\n",
              "      <td>-10.293581274184767</td>\n",
              "      <td>1.173103083069839</td>\n",
              "      <td>-12.043856705881623</td>\n",
              "      <td>-12.187828452495982</td>\n",
              "      <td>-2.1967611819897073</td>\n",
              "      <td>SPK052_F</td>\n",
              "    </tr>\n",
              "    <tr>\n",
              "      <th>3</th>\n",
              "      <td>13.50683221915866</td>\n",
              "      <td>6.7257413646275275</td>\n",
              "      <td>-9.861107095560364</td>\n",
              "      <td>-4.995537714634935</td>\n",
              "      <td>-8.88642871707295</td>\n",
              "      <td>5.9294415997209775</td>\n",
              "      <td>-11.675140858638306</td>\n",
              "      <td>-3.172201665576597</td>\n",
              "      <td>-16.645004611608982</td>\n",
              "      <td>-4.135123146049614</td>\n",
              "      <td>-8.898155362741969</td>\n",
              "      <td>-8.027032945747385</td>\n",
              "      <td>-5.522711897767212</td>\n",
              "      <td>SPK052_F</td>\n",
              "    </tr>\n",
              "    <tr>\n",
              "      <th>4</th>\n",
              "      <td>14.926069522505008</td>\n",
              "      <td>0.6631294582294918</td>\n",
              "      <td>-8.593822867915241</td>\n",
              "      <td>0.09578180044084192</td>\n",
              "      <td>-0.4727412265182894</td>\n",
              "      <td>-8.820924200257002</td>\n",
              "      <td>-12.402476112173021</td>\n",
              "      <td>-10.187295256470586</td>\n",
              "      <td>-0.79156082240579</td>\n",
              "      <td>-11.583299111869106</td>\n",
              "      <td>-5.07420783527141</td>\n",
              "      <td>-0.6107364000077053</td>\n",
              "      <td>-10.3594757915437</td>\n",
              "      <td>SPK074_M</td>\n",
              "    </tr>\n",
              "  </tbody>\n",
              "</table>\n",
              "</div>"
            ],
            "text/plain": [
              "                   0                    1   ...                   12        13\n",
              "0  15.807340865510422  -2.2019039533178106  ...    -9.69638265206069  SPK075_M\n",
              "1  16.080506001355502   -6.574114811786549  ...  -13.076516254328235  SPK075_M\n",
              "2  14.026162630356616    5.693859575494569  ...  -2.1967611819897073  SPK052_F\n",
              "3   13.50683221915866   6.7257413646275275  ...   -5.522711897767212  SPK052_F\n",
              "4  14.926069522505008   0.6631294582294918  ...    -10.3594757915437  SPK074_M\n",
              "\n",
              "[5 rows x 14 columns]"
            ]
          },
          "metadata": {
            "tags": []
          },
          "execution_count": 24
        }
      ]
    },
    {
      "cell_type": "markdown",
      "metadata": {
        "id": "VSF0xAOGpPG7"
      },
      "source": [
        "## Preprocessing"
      ]
    },
    {
      "cell_type": "markdown",
      "metadata": {
        "id": "7hy0Au-F6hsX"
      },
      "source": [
        "Normalization function"
      ]
    },
    {
      "cell_type": "code",
      "metadata": {
        "id": "fceyutGzXu0s"
      },
      "source": [
        "def normalize(array):\n",
        "  means=np.mean(array, axis=0)\n",
        "  std=np.std(array, axis=0)\n",
        "  array=(array-means)/std\n",
        "  return array"
      ],
      "execution_count": null,
      "outputs": []
    },
    {
      "cell_type": "markdown",
      "metadata": {
        "id": "h9TBas68pFCS"
      },
      "source": [
        "Saving the labels columns separately for each df"
      ]
    },
    {
      "cell_type": "code",
      "metadata": {
        "id": "TBt5DUAha1dv"
      },
      "source": [
        "Y_train=df_train[13]\n",
        "Y_valid=df_valid[13]\n",
        "Y_test=df_test[13]"
      ],
      "execution_count": null,
      "outputs": []
    },
    {
      "cell_type": "markdown",
      "metadata": {
        "id": "xPvndMc1pIo_"
      },
      "source": [
        "Removing labels column from each df"
      ]
    },
    {
      "cell_type": "code",
      "metadata": {
        "id": "ELwWq9h1dAF8"
      },
      "source": [
        "df_train=df_train.drop([13], axis=1)\n",
        "df_valid=df_valid.drop([13], axis=1)\n",
        "df_test=df_test.drop([13], axis=1)"
      ],
      "execution_count": null,
      "outputs": []
    },
    {
      "cell_type": "markdown",
      "metadata": {
        "id": "izLw0bZtldCx"
      },
      "source": [
        "Now checking if labels column removed"
      ]
    },
    {
      "cell_type": "code",
      "metadata": {
        "id": "nHpa88b1essq"
      },
      "source": [
        "df_train.head()"
      ],
      "execution_count": null,
      "outputs": []
    },
    {
      "cell_type": "code",
      "metadata": {
        "id": "6gRYy85ue5Em"
      },
      "source": [
        "df_valid.head()"
      ],
      "execution_count": null,
      "outputs": []
    },
    {
      "cell_type": "code",
      "metadata": {
        "id": "MiYVmvqje7iZ"
      },
      "source": [
        "df_test.head()"
      ],
      "execution_count": null,
      "outputs": []
    },
    {
      "cell_type": "markdown",
      "metadata": {
        "id": "m38riieVlWY8"
      },
      "source": [
        "Convert all columns to numeric first"
      ]
    },
    {
      "cell_type": "code",
      "metadata": {
        "id": "S_A-bciwh5lg"
      },
      "source": [
        "df_train = df_train.apply(pd.to_numeric)\n",
        "df_valid = df_valid.apply(pd.to_numeric)\n",
        "df_test = df_test.apply(pd.to_numeric)"
      ],
      "execution_count": null,
      "outputs": []
    },
    {
      "cell_type": "code",
      "metadata": {
        "id": "2sqkllXkY4ki"
      },
      "source": [
        "df_train"
      ],
      "execution_count": null,
      "outputs": []
    },
    {
      "cell_type": "markdown",
      "metadata": {
        "id": "5WNASf3KlQZM"
      },
      "source": [
        "Normalising each dataframe"
      ]
    },
    {
      "cell_type": "code",
      "metadata": {
        "id": "uzcNQRSJfByX"
      },
      "source": [
        "normalised_train=normalize(df_train)\n",
        "normalised_train"
      ],
      "execution_count": null,
      "outputs": []
    },
    {
      "cell_type": "code",
      "metadata": {
        "id": "JG-0D-0gfVKb"
      },
      "source": [
        "normalised_valid=normalize(df_valid)"
      ],
      "execution_count": null,
      "outputs": []
    },
    {
      "cell_type": "code",
      "metadata": {
        "id": "MoZ4jhFJfZDf"
      },
      "source": [
        "normalised_test=normalize(df_test)"
      ],
      "execution_count": null,
      "outputs": []
    },
    {
      "cell_type": "markdown",
      "metadata": {
        "id": "xoWT3H7Fk-hJ"
      },
      "source": [
        "Adding a column of 1 to each dataframe"
      ]
    },
    {
      "cell_type": "code",
      "metadata": {
        "id": "-agnT9yXjnhI"
      },
      "source": [
        "normalised_train.insert(0, 'Bias', 1)"
      ],
      "execution_count": null,
      "outputs": []
    },
    {
      "cell_type": "code",
      "metadata": {
        "id": "sdxeLBB2k2aP"
      },
      "source": [
        "normalised_valid.insert(0, 'Bias', 1)"
      ],
      "execution_count": null,
      "outputs": []
    },
    {
      "cell_type": "code",
      "metadata": {
        "id": "Pbwqpo3Sk3cQ"
      },
      "source": [
        "normalised_test.insert(0, 'Bias', 1)"
      ],
      "execution_count": null,
      "outputs": []
    },
    {
      "cell_type": "markdown",
      "metadata": {
        "id": "lhEDRDAZlERc"
      },
      "source": [
        "Checking for column of 1"
      ]
    },
    {
      "cell_type": "code",
      "metadata": {
        "id": "qQcSLJqFkxst"
      },
      "source": [
        "normalised_train.head()"
      ],
      "execution_count": null,
      "outputs": []
    },
    {
      "cell_type": "code",
      "metadata": {
        "id": "HksQNk-xlIEB"
      },
      "source": [
        "normalised_valid.head()"
      ],
      "execution_count": null,
      "outputs": []
    },
    {
      "cell_type": "code",
      "metadata": {
        "id": "klAdpVGElKdp"
      },
      "source": [
        "normalised_test.head()"
      ],
      "execution_count": null,
      "outputs": []
    },
    {
      "cell_type": "markdown",
      "metadata": {
        "id": "pCcCBVRumMER"
      },
      "source": [
        "Adding Labels column back to each dataframe"
      ]
    },
    {
      "cell_type": "code",
      "metadata": {
        "id": "by3iQgromAwv"
      },
      "source": [
        "normalised_train['Labels']=Y_train"
      ],
      "execution_count": null,
      "outputs": []
    },
    {
      "cell_type": "code",
      "metadata": {
        "id": "KSm9gxG0mAmu"
      },
      "source": [
        "normalised_valid['Labels']=Y_valid"
      ],
      "execution_count": null,
      "outputs": []
    },
    {
      "cell_type": "code",
      "metadata": {
        "id": "bND4QDqalvNe"
      },
      "source": [
        "normalised_test['Labels']=Y_test"
      ],
      "execution_count": null,
      "outputs": []
    },
    {
      "cell_type": "markdown",
      "metadata": {
        "id": "cXCg8Xo9mW_d"
      },
      "source": [
        "Checking if Labels column has been added to each dataframe successfully"
      ]
    },
    {
      "cell_type": "code",
      "metadata": {
        "id": "DEgarmt6mWTV"
      },
      "source": [
        "normalised_train"
      ],
      "execution_count": null,
      "outputs": []
    },
    {
      "cell_type": "code",
      "metadata": {
        "id": "NZyfyxwLmeyZ"
      },
      "source": [
        "normalised_valid"
      ],
      "execution_count": null,
      "outputs": []
    },
    {
      "cell_type": "code",
      "metadata": {
        "id": "hR3AAKQ7miJQ"
      },
      "source": [
        "normalised_test"
      ],
      "execution_count": null,
      "outputs": []
    },
    {
      "cell_type": "markdown",
      "metadata": {
        "id": "mvCnW22NoxuZ"
      },
      "source": [
        "Saving dataframes as CSV files to Drive"
      ]
    },
    {
      "cell_type": "code",
      "metadata": {
        "id": "NHWcCIdynQfO"
      },
      "source": [
        "normalised_train.to_csv(r'/content/drive/MyDrive/Ml assignmentsa/ml project/Preprocessed Datasets/Train_Preprocessed.csv')"
      ],
      "execution_count": null,
      "outputs": []
    },
    {
      "cell_type": "code",
      "metadata": {
        "id": "9N1P7LP4npDu"
      },
      "source": [
        "normalised_valid.to_csv(r'/content/drive/MyDrive/Ml assignmentsa/ml project/Preprocessed Datasets/Valid_Preprocessed.csv')"
      ],
      "execution_count": null,
      "outputs": []
    },
    {
      "cell_type": "code",
      "metadata": {
        "id": "gv4DtsdAnje5"
      },
      "source": [
        "normalised_test.to_csv(r'/content/drive/MyDrive/Ml assignmentsa/ml project/Preprocessed Datasets/Test_Preprocessed.csv')"
      ],
      "execution_count": null,
      "outputs": []
    },
    {
      "cell_type": "markdown",
      "metadata": {
        "id": "RHAZwfikkST7"
      },
      "source": [
        "## Sklearn Models"
      ]
    },
    {
      "cell_type": "code",
      "metadata": {
        "id": "MJ7Rh4TFB47U"
      },
      "source": [
        "normalised_train=pd.read_csv('/content/drive/MyDrive/ml project/Preprocessed Datasets/Train_Preprocessed.csv')\n",
        "normalised_valid=pd.read_csv('/content/drive/MyDrive/ml project/Preprocessed Datasets/Valid_Preprocessed.csv')\n",
        "normalised_test=pd.read_csv('/content/drive/MyDrive/ml project/Preprocessed Datasets/Test_Preprocessed.csv')"
      ],
      "execution_count": null,
      "outputs": []
    },
    {
      "cell_type": "code",
      "metadata": {
        "id": "eTIb30B4Da3n"
      },
      "source": [
        "normalised_train=normalised_train.drop('Unnamed: 0',axis=1)\n",
        "normalised_test=normalised_test.drop('Unnamed: 0',axis=1)\n",
        "normalised_valid=normalised_valid.drop('Unnamed: 0',axis=1)"
      ],
      "execution_count": null,
      "outputs": []
    },
    {
      "cell_type": "code",
      "metadata": {
        "id": "l1liH8Q1p8ke"
      },
      "source": [
        "df_train=pd.concat([normalised_train, normalised_valid], ignore_index=True)"
      ],
      "execution_count": null,
      "outputs": []
    },
    {
      "cell_type": "code",
      "metadata": {
        "colab": {
          "base_uri": "https://localhost:8080/"
        },
        "id": "JdThity6E9KT",
        "outputId": "a7334954-3ff7-433b-d034-b700e3750c31"
      },
      "source": [
        "df_train.shape"
      ],
      "execution_count": null,
      "outputs": [
        {
          "output_type": "execute_result",
          "data": {
            "text/plain": [
              "(1136, 15)"
            ]
          },
          "metadata": {
            "tags": []
          },
          "execution_count": 69
        }
      ]
    },
    {
      "cell_type": "code",
      "metadata": {
        "id": "QGIZNcX-qn1K"
      },
      "source": [
        "df_test=normalised_test"
      ],
      "execution_count": null,
      "outputs": []
    },
    {
      "cell_type": "code",
      "metadata": {
        "id": "UVxI2kUcsRP-"
      },
      "source": [
        "X_train=df_train.iloc[:,-1:]\n",
        "Y_train=df_train.iloc[:,-1]\n",
        "X_test=df_test.iloc[:,-1:]\n",
        "Y_test=df_test.iloc[:,-1]"
      ],
      "execution_count": null,
      "outputs": []
    },
    {
      "cell_type": "code",
      "metadata": {
        "colab": {
          "base_uri": "https://localhost:8080/"
        },
        "id": "kDryTZOtzRqq",
        "outputId": "ae567d70-192b-4571-d0bb-8bc44dfa624c"
      },
      "source": [
        "Y_train"
      ],
      "execution_count": null,
      "outputs": [
        {
          "output_type": "execute_result",
          "data": {
            "text/plain": [
              "0       SPK008_M\n",
              "1       SPK008_M\n",
              "2       SPK008_M\n",
              "3       SPK008_M\n",
              "4       SPK008_M\n",
              "          ...   \n",
              "1131    SPK076_M\n",
              "1132    SPK116_F\n",
              "1133    SPK116_F\n",
              "1134    SPK057_M\n",
              "1135    SPK057_M\n",
              "Name: Labels, Length: 1136, dtype: object"
            ]
          },
          "metadata": {
            "tags": []
          },
          "execution_count": 35
        }
      ]
    },
    {
      "cell_type": "code",
      "metadata": {
        "id": "EKCQMUgGnbnM"
      },
      "source": [
        "from sklearn.naive_bayes import GaussianNB\n",
        "from sklearn.metrics import accuracy_score\n",
        "from sklearn.neural_network import MLPClassifier\n",
        "from sklearn.svm import LinearSVC\n",
        "from sklearn.pipeline import make_pipeline\n",
        "from sklearn.preprocessing import StandardScaler\n",
        "from sklearn.datasets import make_classification\n",
        "from sklearn import svm\n",
        "from sklearn.metrics import classification_report\n",
        "from sklearn.metrics import f1_score"
      ],
      "execution_count": null,
      "outputs": []
    },
    {
      "cell_type": "markdown",
      "metadata": {
        "id": "8JPDTqzUkdBP"
      },
      "source": [
        "One hot encoding"
      ]
    },
    {
      "cell_type": "code",
      "metadata": {
        "colab": {
          "base_uri": "https://localhost:8080/",
          "height": 439
        },
        "id": "wTGOabkNRRZY",
        "outputId": "51b673ff-2a11-4c33-e0ea-00ea1fe7933b"
      },
      "source": [
        "encoded_labels_test = pd.get_dummies(df_test['Labels'])\n",
        "encoded_labels_train = pd.get_dummies(df_train['Labels'])"
      ],
      "execution_count": null,
      "outputs": [
        {
          "output_type": "execute_result",
          "data": {
            "text/html": [
              "<div>\n",
              "<style scoped>\n",
              "    .dataframe tbody tr th:only-of-type {\n",
              "        vertical-align: middle;\n",
              "    }\n",
              "\n",
              "    .dataframe tbody tr th {\n",
              "        vertical-align: top;\n",
              "    }\n",
              "\n",
              "    .dataframe thead th {\n",
              "        text-align: right;\n",
              "    }\n",
              "</style>\n",
              "<table border=\"1\" class=\"dataframe\">\n",
              "  <thead>\n",
              "    <tr style=\"text-align: right;\">\n",
              "      <th></th>\n",
              "      <th>SPK001_M</th>\n",
              "      <th>SPK002_M</th>\n",
              "      <th>SPK003_M</th>\n",
              "      <th>SPK004_M</th>\n",
              "      <th>SPK005_F</th>\n",
              "      <th>SPK006_M</th>\n",
              "      <th>SPK007_M</th>\n",
              "      <th>SPK008_M</th>\n",
              "      <th>SPK009_M</th>\n",
              "      <th>SPK010_M</th>\n",
              "      <th>SPK011_F</th>\n",
              "      <th>SPK012_F</th>\n",
              "      <th>SPK013_M</th>\n",
              "      <th>SPK014_M</th>\n",
              "      <th>SPK015_M</th>\n",
              "      <th>SPK016_F</th>\n",
              "      <th>SPK017_F</th>\n",
              "      <th>SPK018_F</th>\n",
              "      <th>SPK019_F</th>\n",
              "      <th>SPK020_M</th>\n",
              "      <th>SPK021_M</th>\n",
              "      <th>SPK022_M</th>\n",
              "      <th>SPK023_F</th>\n",
              "      <th>SPK024_M</th>\n",
              "      <th>SPK025_F</th>\n",
              "      <th>SPK026_M</th>\n",
              "      <th>SPK027_M</th>\n",
              "      <th>SPK028_F</th>\n",
              "      <th>SPK029_M</th>\n",
              "      <th>SPK030_F</th>\n",
              "      <th>SPK031_M</th>\n",
              "      <th>SPK032_M</th>\n",
              "      <th>SPK033_M</th>\n",
              "      <th>SPK034_F</th>\n",
              "      <th>SPK035_F</th>\n",
              "      <th>SPK036_M</th>\n",
              "      <th>SPK037_F</th>\n",
              "      <th>SPK038_M</th>\n",
              "      <th>SPK039_M</th>\n",
              "      <th>SPK040_M</th>\n",
              "      <th>...</th>\n",
              "      <th>SPK103_M</th>\n",
              "      <th>SPK104_M</th>\n",
              "      <th>SPK105_M</th>\n",
              "      <th>SPK106_M</th>\n",
              "      <th>SPK107_M</th>\n",
              "      <th>SPK108_F</th>\n",
              "      <th>SPK109_F</th>\n",
              "      <th>SPK110_F</th>\n",
              "      <th>SPK111_F</th>\n",
              "      <th>SPK112_F</th>\n",
              "      <th>SPK113_M</th>\n",
              "      <th>SPK114_M</th>\n",
              "      <th>SPK115_M</th>\n",
              "      <th>SPK116_F</th>\n",
              "      <th>SPK117_M</th>\n",
              "      <th>SPK118_M</th>\n",
              "      <th>SPK119_M</th>\n",
              "      <th>SPK120_M</th>\n",
              "      <th>SPK121_M</th>\n",
              "      <th>SPK122_M</th>\n",
              "      <th>SPK123_M</th>\n",
              "      <th>SPK124_M</th>\n",
              "      <th>SPK125_M</th>\n",
              "      <th>SPK126_M</th>\n",
              "      <th>SPK127_M</th>\n",
              "      <th>SPK128_M</th>\n",
              "      <th>SPK129_M</th>\n",
              "      <th>SPK130_M</th>\n",
              "      <th>SPK131_M</th>\n",
              "      <th>SPK132_F</th>\n",
              "      <th>SPK133_M</th>\n",
              "      <th>SPK134_M</th>\n",
              "      <th>SPK135_M</th>\n",
              "      <th>SPK136_M</th>\n",
              "      <th>SPK137_M</th>\n",
              "      <th>SPK138_M</th>\n",
              "      <th>SPK139_M</th>\n",
              "      <th>SPK140_M</th>\n",
              "      <th>SPK141_F</th>\n",
              "      <th>SPK142_F</th>\n",
              "    </tr>\n",
              "  </thead>\n",
              "  <tbody>\n",
              "    <tr>\n",
              "      <th>0</th>\n",
              "      <td>0</td>\n",
              "      <td>0</td>\n",
              "      <td>0</td>\n",
              "      <td>0</td>\n",
              "      <td>0</td>\n",
              "      <td>0</td>\n",
              "      <td>0</td>\n",
              "      <td>1</td>\n",
              "      <td>0</td>\n",
              "      <td>0</td>\n",
              "      <td>0</td>\n",
              "      <td>0</td>\n",
              "      <td>0</td>\n",
              "      <td>0</td>\n",
              "      <td>0</td>\n",
              "      <td>0</td>\n",
              "      <td>0</td>\n",
              "      <td>0</td>\n",
              "      <td>0</td>\n",
              "      <td>0</td>\n",
              "      <td>0</td>\n",
              "      <td>0</td>\n",
              "      <td>0</td>\n",
              "      <td>0</td>\n",
              "      <td>0</td>\n",
              "      <td>0</td>\n",
              "      <td>0</td>\n",
              "      <td>0</td>\n",
              "      <td>0</td>\n",
              "      <td>0</td>\n",
              "      <td>0</td>\n",
              "      <td>0</td>\n",
              "      <td>0</td>\n",
              "      <td>0</td>\n",
              "      <td>0</td>\n",
              "      <td>0</td>\n",
              "      <td>0</td>\n",
              "      <td>0</td>\n",
              "      <td>0</td>\n",
              "      <td>0</td>\n",
              "      <td>...</td>\n",
              "      <td>0</td>\n",
              "      <td>0</td>\n",
              "      <td>0</td>\n",
              "      <td>0</td>\n",
              "      <td>0</td>\n",
              "      <td>0</td>\n",
              "      <td>0</td>\n",
              "      <td>0</td>\n",
              "      <td>0</td>\n",
              "      <td>0</td>\n",
              "      <td>0</td>\n",
              "      <td>0</td>\n",
              "      <td>0</td>\n",
              "      <td>0</td>\n",
              "      <td>0</td>\n",
              "      <td>0</td>\n",
              "      <td>0</td>\n",
              "      <td>0</td>\n",
              "      <td>0</td>\n",
              "      <td>0</td>\n",
              "      <td>0</td>\n",
              "      <td>0</td>\n",
              "      <td>0</td>\n",
              "      <td>0</td>\n",
              "      <td>0</td>\n",
              "      <td>0</td>\n",
              "      <td>0</td>\n",
              "      <td>0</td>\n",
              "      <td>0</td>\n",
              "      <td>0</td>\n",
              "      <td>0</td>\n",
              "      <td>0</td>\n",
              "      <td>0</td>\n",
              "      <td>0</td>\n",
              "      <td>0</td>\n",
              "      <td>0</td>\n",
              "      <td>0</td>\n",
              "      <td>0</td>\n",
              "      <td>0</td>\n",
              "      <td>0</td>\n",
              "    </tr>\n",
              "    <tr>\n",
              "      <th>1</th>\n",
              "      <td>0</td>\n",
              "      <td>0</td>\n",
              "      <td>0</td>\n",
              "      <td>0</td>\n",
              "      <td>0</td>\n",
              "      <td>0</td>\n",
              "      <td>0</td>\n",
              "      <td>1</td>\n",
              "      <td>0</td>\n",
              "      <td>0</td>\n",
              "      <td>0</td>\n",
              "      <td>0</td>\n",
              "      <td>0</td>\n",
              "      <td>0</td>\n",
              "      <td>0</td>\n",
              "      <td>0</td>\n",
              "      <td>0</td>\n",
              "      <td>0</td>\n",
              "      <td>0</td>\n",
              "      <td>0</td>\n",
              "      <td>0</td>\n",
              "      <td>0</td>\n",
              "      <td>0</td>\n",
              "      <td>0</td>\n",
              "      <td>0</td>\n",
              "      <td>0</td>\n",
              "      <td>0</td>\n",
              "      <td>0</td>\n",
              "      <td>0</td>\n",
              "      <td>0</td>\n",
              "      <td>0</td>\n",
              "      <td>0</td>\n",
              "      <td>0</td>\n",
              "      <td>0</td>\n",
              "      <td>0</td>\n",
              "      <td>0</td>\n",
              "      <td>0</td>\n",
              "      <td>0</td>\n",
              "      <td>0</td>\n",
              "      <td>0</td>\n",
              "      <td>...</td>\n",
              "      <td>0</td>\n",
              "      <td>0</td>\n",
              "      <td>0</td>\n",
              "      <td>0</td>\n",
              "      <td>0</td>\n",
              "      <td>0</td>\n",
              "      <td>0</td>\n",
              "      <td>0</td>\n",
              "      <td>0</td>\n",
              "      <td>0</td>\n",
              "      <td>0</td>\n",
              "      <td>0</td>\n",
              "      <td>0</td>\n",
              "      <td>0</td>\n",
              "      <td>0</td>\n",
              "      <td>0</td>\n",
              "      <td>0</td>\n",
              "      <td>0</td>\n",
              "      <td>0</td>\n",
              "      <td>0</td>\n",
              "      <td>0</td>\n",
              "      <td>0</td>\n",
              "      <td>0</td>\n",
              "      <td>0</td>\n",
              "      <td>0</td>\n",
              "      <td>0</td>\n",
              "      <td>0</td>\n",
              "      <td>0</td>\n",
              "      <td>0</td>\n",
              "      <td>0</td>\n",
              "      <td>0</td>\n",
              "      <td>0</td>\n",
              "      <td>0</td>\n",
              "      <td>0</td>\n",
              "      <td>0</td>\n",
              "      <td>0</td>\n",
              "      <td>0</td>\n",
              "      <td>0</td>\n",
              "      <td>0</td>\n",
              "      <td>0</td>\n",
              "    </tr>\n",
              "    <tr>\n",
              "      <th>2</th>\n",
              "      <td>0</td>\n",
              "      <td>0</td>\n",
              "      <td>0</td>\n",
              "      <td>0</td>\n",
              "      <td>0</td>\n",
              "      <td>0</td>\n",
              "      <td>0</td>\n",
              "      <td>1</td>\n",
              "      <td>0</td>\n",
              "      <td>0</td>\n",
              "      <td>0</td>\n",
              "      <td>0</td>\n",
              "      <td>0</td>\n",
              "      <td>0</td>\n",
              "      <td>0</td>\n",
              "      <td>0</td>\n",
              "      <td>0</td>\n",
              "      <td>0</td>\n",
              "      <td>0</td>\n",
              "      <td>0</td>\n",
              "      <td>0</td>\n",
              "      <td>0</td>\n",
              "      <td>0</td>\n",
              "      <td>0</td>\n",
              "      <td>0</td>\n",
              "      <td>0</td>\n",
              "      <td>0</td>\n",
              "      <td>0</td>\n",
              "      <td>0</td>\n",
              "      <td>0</td>\n",
              "      <td>0</td>\n",
              "      <td>0</td>\n",
              "      <td>0</td>\n",
              "      <td>0</td>\n",
              "      <td>0</td>\n",
              "      <td>0</td>\n",
              "      <td>0</td>\n",
              "      <td>0</td>\n",
              "      <td>0</td>\n",
              "      <td>0</td>\n",
              "      <td>...</td>\n",
              "      <td>0</td>\n",
              "      <td>0</td>\n",
              "      <td>0</td>\n",
              "      <td>0</td>\n",
              "      <td>0</td>\n",
              "      <td>0</td>\n",
              "      <td>0</td>\n",
              "      <td>0</td>\n",
              "      <td>0</td>\n",
              "      <td>0</td>\n",
              "      <td>0</td>\n",
              "      <td>0</td>\n",
              "      <td>0</td>\n",
              "      <td>0</td>\n",
              "      <td>0</td>\n",
              "      <td>0</td>\n",
              "      <td>0</td>\n",
              "      <td>0</td>\n",
              "      <td>0</td>\n",
              "      <td>0</td>\n",
              "      <td>0</td>\n",
              "      <td>0</td>\n",
              "      <td>0</td>\n",
              "      <td>0</td>\n",
              "      <td>0</td>\n",
              "      <td>0</td>\n",
              "      <td>0</td>\n",
              "      <td>0</td>\n",
              "      <td>0</td>\n",
              "      <td>0</td>\n",
              "      <td>0</td>\n",
              "      <td>0</td>\n",
              "      <td>0</td>\n",
              "      <td>0</td>\n",
              "      <td>0</td>\n",
              "      <td>0</td>\n",
              "      <td>0</td>\n",
              "      <td>0</td>\n",
              "      <td>0</td>\n",
              "      <td>0</td>\n",
              "    </tr>\n",
              "    <tr>\n",
              "      <th>3</th>\n",
              "      <td>0</td>\n",
              "      <td>0</td>\n",
              "      <td>0</td>\n",
              "      <td>0</td>\n",
              "      <td>0</td>\n",
              "      <td>0</td>\n",
              "      <td>0</td>\n",
              "      <td>1</td>\n",
              "      <td>0</td>\n",
              "      <td>0</td>\n",
              "      <td>0</td>\n",
              "      <td>0</td>\n",
              "      <td>0</td>\n",
              "      <td>0</td>\n",
              "      <td>0</td>\n",
              "      <td>0</td>\n",
              "      <td>0</td>\n",
              "      <td>0</td>\n",
              "      <td>0</td>\n",
              "      <td>0</td>\n",
              "      <td>0</td>\n",
              "      <td>0</td>\n",
              "      <td>0</td>\n",
              "      <td>0</td>\n",
              "      <td>0</td>\n",
              "      <td>0</td>\n",
              "      <td>0</td>\n",
              "      <td>0</td>\n",
              "      <td>0</td>\n",
              "      <td>0</td>\n",
              "      <td>0</td>\n",
              "      <td>0</td>\n",
              "      <td>0</td>\n",
              "      <td>0</td>\n",
              "      <td>0</td>\n",
              "      <td>0</td>\n",
              "      <td>0</td>\n",
              "      <td>0</td>\n",
              "      <td>0</td>\n",
              "      <td>0</td>\n",
              "      <td>...</td>\n",
              "      <td>0</td>\n",
              "      <td>0</td>\n",
              "      <td>0</td>\n",
              "      <td>0</td>\n",
              "      <td>0</td>\n",
              "      <td>0</td>\n",
              "      <td>0</td>\n",
              "      <td>0</td>\n",
              "      <td>0</td>\n",
              "      <td>0</td>\n",
              "      <td>0</td>\n",
              "      <td>0</td>\n",
              "      <td>0</td>\n",
              "      <td>0</td>\n",
              "      <td>0</td>\n",
              "      <td>0</td>\n",
              "      <td>0</td>\n",
              "      <td>0</td>\n",
              "      <td>0</td>\n",
              "      <td>0</td>\n",
              "      <td>0</td>\n",
              "      <td>0</td>\n",
              "      <td>0</td>\n",
              "      <td>0</td>\n",
              "      <td>0</td>\n",
              "      <td>0</td>\n",
              "      <td>0</td>\n",
              "      <td>0</td>\n",
              "      <td>0</td>\n",
              "      <td>0</td>\n",
              "      <td>0</td>\n",
              "      <td>0</td>\n",
              "      <td>0</td>\n",
              "      <td>0</td>\n",
              "      <td>0</td>\n",
              "      <td>0</td>\n",
              "      <td>0</td>\n",
              "      <td>0</td>\n",
              "      <td>0</td>\n",
              "      <td>0</td>\n",
              "    </tr>\n",
              "    <tr>\n",
              "      <th>4</th>\n",
              "      <td>0</td>\n",
              "      <td>0</td>\n",
              "      <td>0</td>\n",
              "      <td>0</td>\n",
              "      <td>0</td>\n",
              "      <td>0</td>\n",
              "      <td>0</td>\n",
              "      <td>1</td>\n",
              "      <td>0</td>\n",
              "      <td>0</td>\n",
              "      <td>0</td>\n",
              "      <td>0</td>\n",
              "      <td>0</td>\n",
              "      <td>0</td>\n",
              "      <td>0</td>\n",
              "      <td>0</td>\n",
              "      <td>0</td>\n",
              "      <td>0</td>\n",
              "      <td>0</td>\n",
              "      <td>0</td>\n",
              "      <td>0</td>\n",
              "      <td>0</td>\n",
              "      <td>0</td>\n",
              "      <td>0</td>\n",
              "      <td>0</td>\n",
              "      <td>0</td>\n",
              "      <td>0</td>\n",
              "      <td>0</td>\n",
              "      <td>0</td>\n",
              "      <td>0</td>\n",
              "      <td>0</td>\n",
              "      <td>0</td>\n",
              "      <td>0</td>\n",
              "      <td>0</td>\n",
              "      <td>0</td>\n",
              "      <td>0</td>\n",
              "      <td>0</td>\n",
              "      <td>0</td>\n",
              "      <td>0</td>\n",
              "      <td>0</td>\n",
              "      <td>...</td>\n",
              "      <td>0</td>\n",
              "      <td>0</td>\n",
              "      <td>0</td>\n",
              "      <td>0</td>\n",
              "      <td>0</td>\n",
              "      <td>0</td>\n",
              "      <td>0</td>\n",
              "      <td>0</td>\n",
              "      <td>0</td>\n",
              "      <td>0</td>\n",
              "      <td>0</td>\n",
              "      <td>0</td>\n",
              "      <td>0</td>\n",
              "      <td>0</td>\n",
              "      <td>0</td>\n",
              "      <td>0</td>\n",
              "      <td>0</td>\n",
              "      <td>0</td>\n",
              "      <td>0</td>\n",
              "      <td>0</td>\n",
              "      <td>0</td>\n",
              "      <td>0</td>\n",
              "      <td>0</td>\n",
              "      <td>0</td>\n",
              "      <td>0</td>\n",
              "      <td>0</td>\n",
              "      <td>0</td>\n",
              "      <td>0</td>\n",
              "      <td>0</td>\n",
              "      <td>0</td>\n",
              "      <td>0</td>\n",
              "      <td>0</td>\n",
              "      <td>0</td>\n",
              "      <td>0</td>\n",
              "      <td>0</td>\n",
              "      <td>0</td>\n",
              "      <td>0</td>\n",
              "      <td>0</td>\n",
              "      <td>0</td>\n",
              "      <td>0</td>\n",
              "    </tr>\n",
              "    <tr>\n",
              "      <th>...</th>\n",
              "      <td>...</td>\n",
              "      <td>...</td>\n",
              "      <td>...</td>\n",
              "      <td>...</td>\n",
              "      <td>...</td>\n",
              "      <td>...</td>\n",
              "      <td>...</td>\n",
              "      <td>...</td>\n",
              "      <td>...</td>\n",
              "      <td>...</td>\n",
              "      <td>...</td>\n",
              "      <td>...</td>\n",
              "      <td>...</td>\n",
              "      <td>...</td>\n",
              "      <td>...</td>\n",
              "      <td>...</td>\n",
              "      <td>...</td>\n",
              "      <td>...</td>\n",
              "      <td>...</td>\n",
              "      <td>...</td>\n",
              "      <td>...</td>\n",
              "      <td>...</td>\n",
              "      <td>...</td>\n",
              "      <td>...</td>\n",
              "      <td>...</td>\n",
              "      <td>...</td>\n",
              "      <td>...</td>\n",
              "      <td>...</td>\n",
              "      <td>...</td>\n",
              "      <td>...</td>\n",
              "      <td>...</td>\n",
              "      <td>...</td>\n",
              "      <td>...</td>\n",
              "      <td>...</td>\n",
              "      <td>...</td>\n",
              "      <td>...</td>\n",
              "      <td>...</td>\n",
              "      <td>...</td>\n",
              "      <td>...</td>\n",
              "      <td>...</td>\n",
              "      <td>...</td>\n",
              "      <td>...</td>\n",
              "      <td>...</td>\n",
              "      <td>...</td>\n",
              "      <td>...</td>\n",
              "      <td>...</td>\n",
              "      <td>...</td>\n",
              "      <td>...</td>\n",
              "      <td>...</td>\n",
              "      <td>...</td>\n",
              "      <td>...</td>\n",
              "      <td>...</td>\n",
              "      <td>...</td>\n",
              "      <td>...</td>\n",
              "      <td>...</td>\n",
              "      <td>...</td>\n",
              "      <td>...</td>\n",
              "      <td>...</td>\n",
              "      <td>...</td>\n",
              "      <td>...</td>\n",
              "      <td>...</td>\n",
              "      <td>...</td>\n",
              "      <td>...</td>\n",
              "      <td>...</td>\n",
              "      <td>...</td>\n",
              "      <td>...</td>\n",
              "      <td>...</td>\n",
              "      <td>...</td>\n",
              "      <td>...</td>\n",
              "      <td>...</td>\n",
              "      <td>...</td>\n",
              "      <td>...</td>\n",
              "      <td>...</td>\n",
              "      <td>...</td>\n",
              "      <td>...</td>\n",
              "      <td>...</td>\n",
              "      <td>...</td>\n",
              "      <td>...</td>\n",
              "      <td>...</td>\n",
              "      <td>...</td>\n",
              "      <td>...</td>\n",
              "    </tr>\n",
              "    <tr>\n",
              "      <th>1131</th>\n",
              "      <td>0</td>\n",
              "      <td>0</td>\n",
              "      <td>0</td>\n",
              "      <td>0</td>\n",
              "      <td>0</td>\n",
              "      <td>0</td>\n",
              "      <td>0</td>\n",
              "      <td>0</td>\n",
              "      <td>0</td>\n",
              "      <td>0</td>\n",
              "      <td>0</td>\n",
              "      <td>0</td>\n",
              "      <td>0</td>\n",
              "      <td>0</td>\n",
              "      <td>0</td>\n",
              "      <td>0</td>\n",
              "      <td>0</td>\n",
              "      <td>0</td>\n",
              "      <td>0</td>\n",
              "      <td>0</td>\n",
              "      <td>0</td>\n",
              "      <td>0</td>\n",
              "      <td>0</td>\n",
              "      <td>0</td>\n",
              "      <td>0</td>\n",
              "      <td>0</td>\n",
              "      <td>0</td>\n",
              "      <td>0</td>\n",
              "      <td>0</td>\n",
              "      <td>0</td>\n",
              "      <td>0</td>\n",
              "      <td>0</td>\n",
              "      <td>0</td>\n",
              "      <td>0</td>\n",
              "      <td>0</td>\n",
              "      <td>0</td>\n",
              "      <td>0</td>\n",
              "      <td>0</td>\n",
              "      <td>0</td>\n",
              "      <td>0</td>\n",
              "      <td>...</td>\n",
              "      <td>0</td>\n",
              "      <td>0</td>\n",
              "      <td>0</td>\n",
              "      <td>0</td>\n",
              "      <td>0</td>\n",
              "      <td>0</td>\n",
              "      <td>0</td>\n",
              "      <td>0</td>\n",
              "      <td>0</td>\n",
              "      <td>0</td>\n",
              "      <td>0</td>\n",
              "      <td>0</td>\n",
              "      <td>0</td>\n",
              "      <td>0</td>\n",
              "      <td>0</td>\n",
              "      <td>0</td>\n",
              "      <td>0</td>\n",
              "      <td>0</td>\n",
              "      <td>0</td>\n",
              "      <td>0</td>\n",
              "      <td>0</td>\n",
              "      <td>0</td>\n",
              "      <td>0</td>\n",
              "      <td>0</td>\n",
              "      <td>0</td>\n",
              "      <td>0</td>\n",
              "      <td>0</td>\n",
              "      <td>0</td>\n",
              "      <td>0</td>\n",
              "      <td>0</td>\n",
              "      <td>0</td>\n",
              "      <td>0</td>\n",
              "      <td>0</td>\n",
              "      <td>0</td>\n",
              "      <td>0</td>\n",
              "      <td>0</td>\n",
              "      <td>0</td>\n",
              "      <td>0</td>\n",
              "      <td>0</td>\n",
              "      <td>0</td>\n",
              "    </tr>\n",
              "    <tr>\n",
              "      <th>1132</th>\n",
              "      <td>0</td>\n",
              "      <td>0</td>\n",
              "      <td>0</td>\n",
              "      <td>0</td>\n",
              "      <td>0</td>\n",
              "      <td>0</td>\n",
              "      <td>0</td>\n",
              "      <td>0</td>\n",
              "      <td>0</td>\n",
              "      <td>0</td>\n",
              "      <td>0</td>\n",
              "      <td>0</td>\n",
              "      <td>0</td>\n",
              "      <td>0</td>\n",
              "      <td>0</td>\n",
              "      <td>0</td>\n",
              "      <td>0</td>\n",
              "      <td>0</td>\n",
              "      <td>0</td>\n",
              "      <td>0</td>\n",
              "      <td>0</td>\n",
              "      <td>0</td>\n",
              "      <td>0</td>\n",
              "      <td>0</td>\n",
              "      <td>0</td>\n",
              "      <td>0</td>\n",
              "      <td>0</td>\n",
              "      <td>0</td>\n",
              "      <td>0</td>\n",
              "      <td>0</td>\n",
              "      <td>0</td>\n",
              "      <td>0</td>\n",
              "      <td>0</td>\n",
              "      <td>0</td>\n",
              "      <td>0</td>\n",
              "      <td>0</td>\n",
              "      <td>0</td>\n",
              "      <td>0</td>\n",
              "      <td>0</td>\n",
              "      <td>0</td>\n",
              "      <td>...</td>\n",
              "      <td>0</td>\n",
              "      <td>0</td>\n",
              "      <td>0</td>\n",
              "      <td>0</td>\n",
              "      <td>0</td>\n",
              "      <td>0</td>\n",
              "      <td>0</td>\n",
              "      <td>0</td>\n",
              "      <td>0</td>\n",
              "      <td>0</td>\n",
              "      <td>0</td>\n",
              "      <td>0</td>\n",
              "      <td>0</td>\n",
              "      <td>1</td>\n",
              "      <td>0</td>\n",
              "      <td>0</td>\n",
              "      <td>0</td>\n",
              "      <td>0</td>\n",
              "      <td>0</td>\n",
              "      <td>0</td>\n",
              "      <td>0</td>\n",
              "      <td>0</td>\n",
              "      <td>0</td>\n",
              "      <td>0</td>\n",
              "      <td>0</td>\n",
              "      <td>0</td>\n",
              "      <td>0</td>\n",
              "      <td>0</td>\n",
              "      <td>0</td>\n",
              "      <td>0</td>\n",
              "      <td>0</td>\n",
              "      <td>0</td>\n",
              "      <td>0</td>\n",
              "      <td>0</td>\n",
              "      <td>0</td>\n",
              "      <td>0</td>\n",
              "      <td>0</td>\n",
              "      <td>0</td>\n",
              "      <td>0</td>\n",
              "      <td>0</td>\n",
              "    </tr>\n",
              "    <tr>\n",
              "      <th>1133</th>\n",
              "      <td>0</td>\n",
              "      <td>0</td>\n",
              "      <td>0</td>\n",
              "      <td>0</td>\n",
              "      <td>0</td>\n",
              "      <td>0</td>\n",
              "      <td>0</td>\n",
              "      <td>0</td>\n",
              "      <td>0</td>\n",
              "      <td>0</td>\n",
              "      <td>0</td>\n",
              "      <td>0</td>\n",
              "      <td>0</td>\n",
              "      <td>0</td>\n",
              "      <td>0</td>\n",
              "      <td>0</td>\n",
              "      <td>0</td>\n",
              "      <td>0</td>\n",
              "      <td>0</td>\n",
              "      <td>0</td>\n",
              "      <td>0</td>\n",
              "      <td>0</td>\n",
              "      <td>0</td>\n",
              "      <td>0</td>\n",
              "      <td>0</td>\n",
              "      <td>0</td>\n",
              "      <td>0</td>\n",
              "      <td>0</td>\n",
              "      <td>0</td>\n",
              "      <td>0</td>\n",
              "      <td>0</td>\n",
              "      <td>0</td>\n",
              "      <td>0</td>\n",
              "      <td>0</td>\n",
              "      <td>0</td>\n",
              "      <td>0</td>\n",
              "      <td>0</td>\n",
              "      <td>0</td>\n",
              "      <td>0</td>\n",
              "      <td>0</td>\n",
              "      <td>...</td>\n",
              "      <td>0</td>\n",
              "      <td>0</td>\n",
              "      <td>0</td>\n",
              "      <td>0</td>\n",
              "      <td>0</td>\n",
              "      <td>0</td>\n",
              "      <td>0</td>\n",
              "      <td>0</td>\n",
              "      <td>0</td>\n",
              "      <td>0</td>\n",
              "      <td>0</td>\n",
              "      <td>0</td>\n",
              "      <td>0</td>\n",
              "      <td>1</td>\n",
              "      <td>0</td>\n",
              "      <td>0</td>\n",
              "      <td>0</td>\n",
              "      <td>0</td>\n",
              "      <td>0</td>\n",
              "      <td>0</td>\n",
              "      <td>0</td>\n",
              "      <td>0</td>\n",
              "      <td>0</td>\n",
              "      <td>0</td>\n",
              "      <td>0</td>\n",
              "      <td>0</td>\n",
              "      <td>0</td>\n",
              "      <td>0</td>\n",
              "      <td>0</td>\n",
              "      <td>0</td>\n",
              "      <td>0</td>\n",
              "      <td>0</td>\n",
              "      <td>0</td>\n",
              "      <td>0</td>\n",
              "      <td>0</td>\n",
              "      <td>0</td>\n",
              "      <td>0</td>\n",
              "      <td>0</td>\n",
              "      <td>0</td>\n",
              "      <td>0</td>\n",
              "    </tr>\n",
              "    <tr>\n",
              "      <th>1134</th>\n",
              "      <td>0</td>\n",
              "      <td>0</td>\n",
              "      <td>0</td>\n",
              "      <td>0</td>\n",
              "      <td>0</td>\n",
              "      <td>0</td>\n",
              "      <td>0</td>\n",
              "      <td>0</td>\n",
              "      <td>0</td>\n",
              "      <td>0</td>\n",
              "      <td>0</td>\n",
              "      <td>0</td>\n",
              "      <td>0</td>\n",
              "      <td>0</td>\n",
              "      <td>0</td>\n",
              "      <td>0</td>\n",
              "      <td>0</td>\n",
              "      <td>0</td>\n",
              "      <td>0</td>\n",
              "      <td>0</td>\n",
              "      <td>0</td>\n",
              "      <td>0</td>\n",
              "      <td>0</td>\n",
              "      <td>0</td>\n",
              "      <td>0</td>\n",
              "      <td>0</td>\n",
              "      <td>0</td>\n",
              "      <td>0</td>\n",
              "      <td>0</td>\n",
              "      <td>0</td>\n",
              "      <td>0</td>\n",
              "      <td>0</td>\n",
              "      <td>0</td>\n",
              "      <td>0</td>\n",
              "      <td>0</td>\n",
              "      <td>0</td>\n",
              "      <td>0</td>\n",
              "      <td>0</td>\n",
              "      <td>0</td>\n",
              "      <td>0</td>\n",
              "      <td>...</td>\n",
              "      <td>0</td>\n",
              "      <td>0</td>\n",
              "      <td>0</td>\n",
              "      <td>0</td>\n",
              "      <td>0</td>\n",
              "      <td>0</td>\n",
              "      <td>0</td>\n",
              "      <td>0</td>\n",
              "      <td>0</td>\n",
              "      <td>0</td>\n",
              "      <td>0</td>\n",
              "      <td>0</td>\n",
              "      <td>0</td>\n",
              "      <td>0</td>\n",
              "      <td>0</td>\n",
              "      <td>0</td>\n",
              "      <td>0</td>\n",
              "      <td>0</td>\n",
              "      <td>0</td>\n",
              "      <td>0</td>\n",
              "      <td>0</td>\n",
              "      <td>0</td>\n",
              "      <td>0</td>\n",
              "      <td>0</td>\n",
              "      <td>0</td>\n",
              "      <td>0</td>\n",
              "      <td>0</td>\n",
              "      <td>0</td>\n",
              "      <td>0</td>\n",
              "      <td>0</td>\n",
              "      <td>0</td>\n",
              "      <td>0</td>\n",
              "      <td>0</td>\n",
              "      <td>0</td>\n",
              "      <td>0</td>\n",
              "      <td>0</td>\n",
              "      <td>0</td>\n",
              "      <td>0</td>\n",
              "      <td>0</td>\n",
              "      <td>0</td>\n",
              "    </tr>\n",
              "    <tr>\n",
              "      <th>1135</th>\n",
              "      <td>0</td>\n",
              "      <td>0</td>\n",
              "      <td>0</td>\n",
              "      <td>0</td>\n",
              "      <td>0</td>\n",
              "      <td>0</td>\n",
              "      <td>0</td>\n",
              "      <td>0</td>\n",
              "      <td>0</td>\n",
              "      <td>0</td>\n",
              "      <td>0</td>\n",
              "      <td>0</td>\n",
              "      <td>0</td>\n",
              "      <td>0</td>\n",
              "      <td>0</td>\n",
              "      <td>0</td>\n",
              "      <td>0</td>\n",
              "      <td>0</td>\n",
              "      <td>0</td>\n",
              "      <td>0</td>\n",
              "      <td>0</td>\n",
              "      <td>0</td>\n",
              "      <td>0</td>\n",
              "      <td>0</td>\n",
              "      <td>0</td>\n",
              "      <td>0</td>\n",
              "      <td>0</td>\n",
              "      <td>0</td>\n",
              "      <td>0</td>\n",
              "      <td>0</td>\n",
              "      <td>0</td>\n",
              "      <td>0</td>\n",
              "      <td>0</td>\n",
              "      <td>0</td>\n",
              "      <td>0</td>\n",
              "      <td>0</td>\n",
              "      <td>0</td>\n",
              "      <td>0</td>\n",
              "      <td>0</td>\n",
              "      <td>0</td>\n",
              "      <td>...</td>\n",
              "      <td>0</td>\n",
              "      <td>0</td>\n",
              "      <td>0</td>\n",
              "      <td>0</td>\n",
              "      <td>0</td>\n",
              "      <td>0</td>\n",
              "      <td>0</td>\n",
              "      <td>0</td>\n",
              "      <td>0</td>\n",
              "      <td>0</td>\n",
              "      <td>0</td>\n",
              "      <td>0</td>\n",
              "      <td>0</td>\n",
              "      <td>0</td>\n",
              "      <td>0</td>\n",
              "      <td>0</td>\n",
              "      <td>0</td>\n",
              "      <td>0</td>\n",
              "      <td>0</td>\n",
              "      <td>0</td>\n",
              "      <td>0</td>\n",
              "      <td>0</td>\n",
              "      <td>0</td>\n",
              "      <td>0</td>\n",
              "      <td>0</td>\n",
              "      <td>0</td>\n",
              "      <td>0</td>\n",
              "      <td>0</td>\n",
              "      <td>0</td>\n",
              "      <td>0</td>\n",
              "      <td>0</td>\n",
              "      <td>0</td>\n",
              "      <td>0</td>\n",
              "      <td>0</td>\n",
              "      <td>0</td>\n",
              "      <td>0</td>\n",
              "      <td>0</td>\n",
              "      <td>0</td>\n",
              "      <td>0</td>\n",
              "      <td>0</td>\n",
              "    </tr>\n",
              "  </tbody>\n",
              "</table>\n",
              "<p>1136 rows × 142 columns</p>\n",
              "</div>"
            ],
            "text/plain": [
              "      SPK001_M  SPK002_M  SPK003_M  ...  SPK140_M  SPK141_F  SPK142_F\n",
              "0            0         0         0  ...         0         0         0\n",
              "1            0         0         0  ...         0         0         0\n",
              "2            0         0         0  ...         0         0         0\n",
              "3            0         0         0  ...         0         0         0\n",
              "4            0         0         0  ...         0         0         0\n",
              "...        ...       ...       ...  ...       ...       ...       ...\n",
              "1131         0         0         0  ...         0         0         0\n",
              "1132         0         0         0  ...         0         0         0\n",
              "1133         0         0         0  ...         0         0         0\n",
              "1134         0         0         0  ...         0         0         0\n",
              "1135         0         0         0  ...         0         0         0\n",
              "\n",
              "[1136 rows x 142 columns]"
            ]
          },
          "metadata": {
            "tags": []
          },
          "execution_count": 38
        }
      ]
    },
    {
      "cell_type": "code",
      "metadata": {
        "id": "R55-PkoSZ01_"
      },
      "source": [
        "# X_train=normalised_train.to_numpy()[:,0:14]\n",
        "# Y_train=normalised_train.to_numpy()[:,-1]\n",
        "# X_test=normalised_test.to_numpy()[:,0:14]\n",
        "# Y_test=normalised_test.to_numpy()[:,-1]\n",
        "# X_valid=normalised_valid.to_numpy()[:,0:14]\n",
        "# Y_valid=normalised_valid.to_numpy()[:,-1]"
      ],
      "execution_count": null,
      "outputs": []
    },
    {
      "cell_type": "code",
      "metadata": {
        "colab": {
          "base_uri": "https://localhost:8080/"
        },
        "id": "oS6E48z_niRu",
        "outputId": "0ed25387-c2f8-466e-8db0-6dc641263f73"
      },
      "source": [
        "clf = GaussianNB()\n",
        "clf.fit(encoded_labels_train, Y_train)\n",
        "GaussianNB()\n",
        "preds=clf.predict(encoded_labels_test)\n",
        "print('accuracy: ', accuracy_score(Y_test, preds))\n",
        "print('confusion matrix: ', confusion_matrix(Y_test, preds))\n",
        "print(classification_report(Y_test, preds))"
      ],
      "execution_count": null,
      "outputs": [
        {
          "output_type": "stream",
          "text": [
            "accuracy:  1.0\n",
            "confusion matrix:  [[2 0 0 ... 0 0 0]\n",
            " [0 2 0 ... 0 0 0]\n",
            " [0 0 2 ... 0 0 0]\n",
            " ...\n",
            " [0 0 0 ... 2 0 0]\n",
            " [0 0 0 ... 0 2 0]\n",
            " [0 0 0 ... 0 0 2]]\n",
            "              precision    recall  f1-score   support\n",
            "\n",
            "    SPK001_M       1.00      1.00      1.00         2\n",
            "    SPK002_M       1.00      1.00      1.00         2\n",
            "    SPK003_M       1.00      1.00      1.00         2\n",
            "    SPK004_M       1.00      1.00      1.00         2\n",
            "    SPK005_F       1.00      1.00      1.00         2\n",
            "    SPK006_M       1.00      1.00      1.00         2\n",
            "    SPK007_M       1.00      1.00      1.00         2\n",
            "    SPK008_M       1.00      1.00      1.00         2\n",
            "    SPK009_M       1.00      1.00      1.00         2\n",
            "    SPK010_M       1.00      1.00      1.00         2\n",
            "    SPK011_F       1.00      1.00      1.00         2\n",
            "    SPK012_F       1.00      1.00      1.00         2\n",
            "    SPK013_M       1.00      1.00      1.00         2\n",
            "    SPK014_M       1.00      1.00      1.00         2\n",
            "    SPK015_M       1.00      1.00      1.00         2\n",
            "    SPK016_F       1.00      1.00      1.00         2\n",
            "    SPK017_F       1.00      1.00      1.00         2\n",
            "    SPK018_F       1.00      1.00      1.00         2\n",
            "    SPK019_F       1.00      1.00      1.00         2\n",
            "    SPK020_M       1.00      1.00      1.00         2\n",
            "    SPK021_M       1.00      1.00      1.00         2\n",
            "    SPK022_M       1.00      1.00      1.00         2\n",
            "    SPK023_F       1.00      1.00      1.00         2\n",
            "    SPK024_M       1.00      1.00      1.00         2\n",
            "    SPK025_F       1.00      1.00      1.00         2\n",
            "    SPK026_M       1.00      1.00      1.00         2\n",
            "    SPK027_M       1.00      1.00      1.00         2\n",
            "    SPK028_F       1.00      1.00      1.00         2\n",
            "    SPK029_M       1.00      1.00      1.00         2\n",
            "    SPK030_F       1.00      1.00      1.00         2\n",
            "    SPK031_M       1.00      1.00      1.00         2\n",
            "    SPK032_M       1.00      1.00      1.00         2\n",
            "    SPK033_M       1.00      1.00      1.00         2\n",
            "    SPK034_F       1.00      1.00      1.00         2\n",
            "    SPK035_F       1.00      1.00      1.00         2\n",
            "    SPK036_M       1.00      1.00      1.00         2\n",
            "    SPK037_F       1.00      1.00      1.00         2\n",
            "    SPK038_M       1.00      1.00      1.00         2\n",
            "    SPK039_M       1.00      1.00      1.00         2\n",
            "    SPK040_M       1.00      1.00      1.00         2\n",
            "    SPK041_F       1.00      1.00      1.00         2\n",
            "    SPK042_F       1.00      1.00      1.00         2\n",
            "    SPK043_M       1.00      1.00      1.00         2\n",
            "    SPK044_M       1.00      1.00      1.00         2\n",
            "    SPK045_M       1.00      1.00      1.00         2\n",
            "    SPK046_M       1.00      1.00      1.00         2\n",
            "    SPK047_M       1.00      1.00      1.00         2\n",
            "    SPK048_M       1.00      1.00      1.00         2\n",
            "    SPK049_F       1.00      1.00      1.00         2\n",
            "    SPK050_F       1.00      1.00      1.00         2\n",
            "    SPK051_F       1.00      1.00      1.00         2\n",
            "    SPK052_F       1.00      1.00      1.00         2\n",
            "    SPK053_F       1.00      1.00      1.00         2\n",
            "    SPK054_M       1.00      1.00      1.00         2\n",
            "    SPK055_F       1.00      1.00      1.00         2\n",
            "    SPK056_F       1.00      1.00      1.00         2\n",
            "    SPK057_M       1.00      1.00      1.00         2\n",
            "    SPK058_M       1.00      1.00      1.00         2\n",
            "    SPK059_M       1.00      1.00      1.00         2\n",
            "    SPK060_M       1.00      1.00      1.00         2\n",
            "    SPK061_F       1.00      1.00      1.00         2\n",
            "    SPK062_M       1.00      1.00      1.00         2\n",
            "    SPK063_M       1.00      1.00      1.00         2\n",
            "    SPK064_M       1.00      1.00      1.00         2\n",
            "    SPK065_M       1.00      1.00      1.00         2\n",
            "    SPK066_M       1.00      1.00      1.00         2\n",
            "    SPK067_M       1.00      1.00      1.00         2\n",
            "    SPK068_M       1.00      1.00      1.00         2\n",
            "    SPK069_M       1.00      1.00      1.00         2\n",
            "    SPK070_M       1.00      1.00      1.00         2\n",
            "    SPK071_M       1.00      1.00      1.00         2\n",
            "    SPK072_M       1.00      1.00      1.00         2\n",
            "    SPK073_M       1.00      1.00      1.00         2\n",
            "    SPK074_M       1.00      1.00      1.00         2\n",
            "    SPK075_M       1.00      1.00      1.00         2\n",
            "    SPK076_M       1.00      1.00      1.00         2\n",
            "    SPK077_M       1.00      1.00      1.00         2\n",
            "    SPK078_M       1.00      1.00      1.00         2\n",
            "    SPK079_M       1.00      1.00      1.00         2\n",
            "    SPK080_M       1.00      1.00      1.00         2\n",
            "    SPK081_M       1.00      1.00      1.00         2\n",
            "    SPK082_M       1.00      1.00      1.00         2\n",
            "    SPK083_M       1.00      1.00      1.00         2\n",
            "    SPK084_M       1.00      1.00      1.00         2\n",
            "    SPK085_M       1.00      1.00      1.00         2\n",
            "    SPK086_M       1.00      1.00      1.00         2\n",
            "    SPK087_M       1.00      1.00      1.00         2\n",
            "    SPK088_M       1.00      1.00      1.00         2\n",
            "    SPK089_M       1.00      1.00      1.00         2\n",
            "    SPK090_M       1.00      1.00      1.00         2\n",
            "    SPK091_M       1.00      1.00      1.00         2\n",
            "    SPK092_M       1.00      1.00      1.00         2\n",
            "    SPK093_M       1.00      1.00      1.00         2\n",
            "    SPK094_M       1.00      1.00      1.00         2\n",
            "    SPK095_M       1.00      1.00      1.00         2\n",
            "    SPK096_M       1.00      1.00      1.00         2\n",
            "    SPK097_M       1.00      1.00      1.00         2\n",
            "    SPK098_M       1.00      1.00      1.00         2\n",
            "    SPK099_M       1.00      1.00      1.00         2\n",
            "    SPK100_M       1.00      1.00      1.00         2\n",
            "    SPK101_M       1.00      1.00      1.00         2\n",
            "    SPK102_M       1.00      1.00      1.00         2\n",
            "    SPK103_M       1.00      1.00      1.00         2\n",
            "    SPK104_M       1.00      1.00      1.00         2\n",
            "    SPK105_M       1.00      1.00      1.00         2\n",
            "    SPK106_M       1.00      1.00      1.00         2\n",
            "    SPK107_M       1.00      1.00      1.00         2\n",
            "    SPK108_F       1.00      1.00      1.00         2\n",
            "    SPK109_F       1.00      1.00      1.00         2\n",
            "    SPK110_F       1.00      1.00      1.00         2\n",
            "    SPK111_F       1.00      1.00      1.00         2\n",
            "    SPK112_F       1.00      1.00      1.00         2\n",
            "    SPK113_M       1.00      1.00      1.00         2\n",
            "    SPK114_M       1.00      1.00      1.00         2\n",
            "    SPK115_M       1.00      1.00      1.00         2\n",
            "    SPK116_F       1.00      1.00      1.00         2\n",
            "    SPK117_M       1.00      1.00      1.00         2\n",
            "    SPK118_M       1.00      1.00      1.00         2\n",
            "    SPK119_M       1.00      1.00      1.00         2\n",
            "    SPK120_M       1.00      1.00      1.00         2\n",
            "    SPK121_M       1.00      1.00      1.00         2\n",
            "    SPK122_M       1.00      1.00      1.00         2\n",
            "    SPK123_M       1.00      1.00      1.00         2\n",
            "    SPK124_M       1.00      1.00      1.00         2\n",
            "    SPK125_M       1.00      1.00      1.00         2\n",
            "    SPK126_M       1.00      1.00      1.00         2\n",
            "    SPK127_M       1.00      1.00      1.00         2\n",
            "    SPK128_M       1.00      1.00      1.00         2\n",
            "    SPK129_M       1.00      1.00      1.00         2\n",
            "    SPK130_M       1.00      1.00      1.00         2\n",
            "    SPK131_M       1.00      1.00      1.00         2\n",
            "    SPK132_F       1.00      1.00      1.00         2\n",
            "    SPK133_M       1.00      1.00      1.00         2\n",
            "    SPK134_M       1.00      1.00      1.00         2\n",
            "    SPK135_M       1.00      1.00      1.00         2\n",
            "    SPK136_M       1.00      1.00      1.00         2\n",
            "    SPK137_M       1.00      1.00      1.00         2\n",
            "    SPK138_M       1.00      1.00      1.00         2\n",
            "    SPK139_M       1.00      1.00      1.00         2\n",
            "    SPK140_M       1.00      1.00      1.00         2\n",
            "    SPK141_F       1.00      1.00      1.00         2\n",
            "    SPK142_F       1.00      1.00      1.00         2\n",
            "\n",
            "    accuracy                           1.00       284\n",
            "   macro avg       1.00      1.00      1.00       284\n",
            "weighted avg       1.00      1.00      1.00       284\n",
            "\n"
          ],
          "name": "stdout"
        }
      ]
    },
    {
      "cell_type": "code",
      "metadata": {
        "colab": {
          "base_uri": "https://localhost:8080/"
        },
        "id": "YuOAXBO2AXIL",
        "outputId": "915336cb-58f4-422a-bbb9-7dbc5b125278"
      },
      "source": [
        "clf = svm.SVC(kernel='linear')\n",
        "clf.fit(encoded_labels_train, Y_train)\n",
        "\n",
        "#Predict the response for test dataset\n",
        "y_pred = clf.predict(encoded_labels_test)\n",
        "print(\"Accuracy:\",accuracy_score(Y_test, y_pred))\n",
        "print('f1: ', f1_score(Y_test, y_pred, average='macro'))\n",
        "print('confusion matrix: ', confusion_matrix(Y_test, y_pred))\n",
        "#print(classification_report(Y_test, y_pred))"
      ],
      "execution_count": null,
      "outputs": [
        {
          "output_type": "stream",
          "text": [
            "Accuracy: 1.0\n",
            "f1:  1.0\n",
            "confusion matrix:  [[2 0 0 ... 0 0 0]\n",
            " [0 2 0 ... 0 0 0]\n",
            " [0 0 2 ... 0 0 0]\n",
            " ...\n",
            " [0 0 0 ... 2 0 0]\n",
            " [0 0 0 ... 0 2 0]\n",
            " [0 0 0 ... 0 0 2]]\n"
          ],
          "name": "stdout"
        }
      ]
    },
    {
      "cell_type": "code",
      "metadata": {
        "colab": {
          "base_uri": "https://localhost:8080/",
          "height": 146
        },
        "id": "QUkqpgzr8oZ_",
        "outputId": "5167e52c-57db-44c5-a03f-827f37f36bc4"
      },
      "source": [
        "clf = MLPClassifier(hidden_layer_sizes=(128, 64), activation='logistic', solver='sgd', learning_rate_init=0.4 max_iter=5000, random_state=1).fit(encoded_labels_train, Y_train)"
      ],
      "execution_count": null,
      "outputs": [
        {
          "output_type": "error",
          "ename": "SyntaxError",
          "evalue": "ignored",
          "traceback": [
            "\u001b[0;36m  File \u001b[0;32m\"<ipython-input-70-e257aa05c12a>\"\u001b[0;36m, line \u001b[0;32m1\u001b[0m\n\u001b[0;31m    clf = MLPClassifier(hidden_layer_sizes=(128,), activation='logistic', solver='sgd', learning_rate_init=0.4 max_iter=5000, random_state=1).fit(encoded_labels_train, Y_train)\u001b[0m\n\u001b[0m                                                                                                                      ^\u001b[0m\n\u001b[0;31mSyntaxError\u001b[0m\u001b[0;31m:\u001b[0m invalid syntax\n"
          ]
        }
      ]
    },
    {
      "cell_type": "markdown",
      "metadata": {
        "id": "quEyB46u6a4L"
      },
      "source": [
        "# Multinomial Logistic Regression"
      ]
    },
    {
      "cell_type": "markdown",
      "metadata": {
        "id": "DdgQthEP8JO1"
      },
      "source": [
        "Softmax Function"
      ]
    },
    {
      "cell_type": "code",
      "metadata": {
        "id": "GHlIO0GE8HX0"
      },
      "source": [
        "def softmax(x):\n",
        "    x=np.array(x, dtype=float)\n",
        "    # print(x)\n",
        "    return np.exp(x+0.001) / np.sum(np.exp(x+0.001), axis=0)"
      ],
      "execution_count": null,
      "outputs": []
    },
    {
      "cell_type": "markdown",
      "metadata": {
        "id": "8XzEtjGC77KJ"
      },
      "source": [
        "Cost Function"
      ]
    },
    {
      "cell_type": "code",
      "metadata": {
        "id": "kVsXUIW2e-ag"
      },
      "source": [
        "def cross_entropy_loss(X,Y,theta):\n",
        "  m=X_train.shape[0]\n",
        "  output = np.dot(X,theta)\n",
        "  predictions=np.apply_along_axis(softmax,1,output)\n",
        "  predictions=np.log(predictions+0.001) \n",
        "  output=(np.multiply(predictions,Y))*-1\n",
        "  output=output.sum(axis=1)\n",
        "  return np.sum(output)/(m)"
      ],
      "execution_count": null,
      "outputs": []
    },
    {
      "cell_type": "markdown",
      "metadata": {
        "id": "giHb4q76k7Tq"
      },
      "source": [
        "Gradient Descent Function"
      ]
    },
    {
      "cell_type": "code",
      "metadata": {
        "id": "An_LIlI7L345"
      },
      "source": [
        "def gradient_descent(X,X_valid,theta,Y,Y_valid,alpha,iterations):\n",
        "  # X holds training data and is in the shape (m,f)\n",
        "  # where m is training examples and f is features\n",
        "  # theta are weight matrixes in the shape (f,c)\n",
        "  # where f are features and c is number of classes\n",
        "  # Y is our onehot encoded label matrix in the shape(m,c) where m is exmaples\n",
        "  # c is classes\n",
        "  m=X_train.shape[0]\n",
        "  training_cost=[]\n",
        "  validation_cost=[]\n",
        "  for epoch in range(iterations):\n",
        "    # calculate output\n",
        "    output = np.dot(X,theta)\n",
        "    # output is (m,c)\n",
        "    #put them through softmax to get predictions\n",
        "    predictions=np.apply_along_axis(softmax,1,output) \n",
        "    # now we will calculate error\n",
        "    error=np.array(predictions-Y)\n",
        "    # create an array for the derivatives\n",
        "    # djs will have shape (c,f)\n",
        "    djs=[]\n",
        "    for i in range(X.shape[1]):\n",
        "      # we will multiply every column of the error with the column of x\n",
        "      a = error * X[:,i][:, None]\n",
        "      b=(a.sum(axis=0))/m\n",
        "      # b is going to be an array of c elements\n",
        "      # we are going to append b to the djs array so get an array of (14,c)\n",
        "      djs.append(b)\n",
        "    # update\n",
        "    djs=np.array(djs)\n",
        "    theta=theta-(alpha*djs)\n",
        "    # calculate training costs\n",
        "    # calculate validation costs\n",
        "    # append and return that\n",
        "    training_cost.append(cross_entropy_loss(X,Y,theta))\n",
        "    validation_cost.append(cross_entropy_loss(X_valid,Y_valid,theta))\n",
        "  return theta,training_cost, validation_cost  \n"
      ],
      "execution_count": null,
      "outputs": []
    },
    {
      "cell_type": "markdown",
      "metadata": {
        "id": "dXaRh_L5ugsK"
      },
      "source": [
        "Prediction Function"
      ]
    },
    {
      "cell_type": "code",
      "metadata": {
        "id": "jXIc4ViJO7q8"
      },
      "source": [
        "def predict(X,thetas,labels):\n",
        "  output = np.dot(X,theta)\n",
        "  predictions=np.apply_along_axis(softmax,1,output)\n",
        "  answers=np.apply_along_axis(np.argmax,1,predictions)\n",
        "  results=[labels[l] for l in answers]\n",
        "  return results"
      ],
      "execution_count": null,
      "outputs": []
    },
    {
      "cell_type": "markdown",
      "metadata": {
        "id": "HRNgCtByl_EK"
      },
      "source": [
        "Running Gradient Descent for a range of iteration values, keeping alpha constant"
      ]
    },
    {
      "cell_type": "code",
      "metadata": {
        "id": "KDflSZ3fXB3c"
      },
      "source": [
        "theta= np.random.rand(14,142)\n",
        "alpha=0.1\n",
        "iter=[500, 1000, 1500, 2000]"
      ],
      "execution_count": null,
      "outputs": []
    },
    {
      "cell_type": "code",
      "metadata": {
        "colab": {
          "base_uri": "https://localhost:8080/",
          "height": 1000
        },
        "id": "CS5E-oGFlZcO",
        "outputId": "e1e546db-abc9-46c9-b983-e3921ea3016b"
      },
      "source": [
        "for i in iter:\n",
        "  theta,training_cost,validation_cost=gradient_descent(X_train,X_valid,theta,encoded_labels_train,encoded_labels_valid,alpha,i)\n",
        "  plt.plot(training_cost,label=\"Training\")\n",
        "  plt.plot(validation_cost,label=\"Validation\")\n",
        "  plt.legend()\n",
        "  plt.xlabel('Epochs')\n",
        "  plt.ylabel('Costs')\n",
        "  plt.title(\"Costs for iterations \" + str(i))\n",
        "  plt.show()"
      ],
      "execution_count": null,
      "outputs": [
        {
          "output_type": "display_data",
          "data": {
            "image/png": "[encoded data removed]",
            "text/plain": [
              "<Figure size 432x288 with 1 Axes>"
            ]
          },
          "metadata": {
            "tags": [],
            "needs_background": "light"
          }
        },
        {
          "output_type": "display_data",
          "data": {
            "image/png": "[encoded data removed]",
            "text/plain": [
              "<Figure size 432x288 with 1 Axes>"
            ]
          },
          "metadata": {
            "tags": [],
            "needs_background": "light"
          }
        },
        {
          "output_type": "display_data",
          "data": {
            "image/png": "[encoded data removed]",
            "text/plain": [
              "<Figure size 432x288 with 1 Axes>"
            ]
          },
          "metadata": {
            "tags": [],
            "needs_background": "light"
          }
        },
        {
          "output_type": "display_data",
          "data": {
            "image/png": "[encoded data removed]",
            "text/plain": [
              "<Figure size 432x288 with 1 Axes>"
            ]
          },
          "metadata": {
            "tags": [],
            "needs_background": "light"
          }
        }
      ]
    },
    {
      "cell_type": "markdown",
      "metadata": {
        "id": "sOvuUc7MuxkF"
      },
      "source": [
        "The graphs above show that the optimal number of iterations for convergence is 1000"
      ]
    },
    {
      "cell_type": "markdown",
      "metadata": {
        "id": "49mZU9M6u-FX"
      },
      "source": [
        "Now, using 1000 iterations, running for different alpha values"
      ]
    },
    {
      "cell_type": "code",
      "metadata": {
        "id": "NLXwTVIxFVrl"
      },
      "source": [
        "theta= np.random.rand(14,142)"
      ],
      "execution_count": null,
      "outputs": []
    },
    {
      "cell_type": "code",
      "metadata": {
        "id": "f9Gcn3nkD9x-",
        "colab": {
          "base_uri": "https://localhost:8080/",
          "height": 1000
        },
        "outputId": "95e5cf7f-2848-4fae-be33-4ac7647bd399"
      },
      "source": [
        "alpha=[0.001,0.01,0.1,1,10,20]\n",
        "iterations=1000\n",
        "theta= np.random.rand(14,142)\n",
        "for a in alpha:\n",
        "  theta,training_cost,validation_cost=gradient_descent(X_train,X_valid,theta,encoded_labels_train,encoded_labels_valid,a,iterations)\n",
        "  preds_1=predict(X_test,theta,labels)\n",
        "  f=f1_score(Y_test, preds_1, average='macro')\n",
        "  pr=precision_score(Y_test, preds_1, average='macro')\n",
        "  rc=recall_score(Y_test, preds_1, average='macro')\n",
        "  acc=accuracy_score(Y_test, preds_1)\n",
        "  print(\"For aplha value: \",a)\n",
        "  print(\"accuracy: \",acc, \"f1 score: \",f)\n",
        "  print(\"recall: \",rc, \"precision: \",pr)\n",
        "  print(\"confusion matrix: \", confusion_matrix(Y_test, preds_1))\n",
        "  plt.plot(training_cost,label=\"Training\")\n",
        "  plt.plot(validation_cost,label=\"Validation\")\n",
        "  plt.legend()\n",
        "  plt.xlabel('Epochs')\n",
        "  plt.ylabel('Costs')\n",
        "  plt.title(\"Costs with aplha \" + str(a))\n",
        "  plt.show()"
      ],
      "execution_count": null,
      "outputs": [
        {
          "output_type": "stream",
          "text": [
            "/usr/local/lib/python3.6/dist-packages/sklearn/metrics/_classification.py:1272: UndefinedMetricWarning: Precision is ill-defined and being set to 0.0 in labels with no predicted samples. Use `zero_division` parameter to control this behavior.\n",
            "  _warn_prf(average, modifier, msg_start, len(result))\n"
          ],
          "name": "stderr"
        },
        {
          "output_type": "stream",
          "text": [
            "For aplha value:  0.001\n",
            "accuracy:  0.0 f1 score:  0.0\n",
            "recall:  0.0 precision:  0.0\n",
            "confusion matrix:  [[0 0 0 ... 0 0 0]\n",
            " [0 0 0 ... 0 0 0]\n",
            " [0 0 0 ... 0 0 0]\n",
            " ...\n",
            " [0 0 0 ... 0 0 0]\n",
            " [0 0 0 ... 0 0 0]\n",
            " [0 0 0 ... 0 0 0]]\n"
          ],
          "name": "stdout"
        },
        {
          "output_type": "display_data",
          "data": {
            "image/png": "[encoded data removed]",
            "text/plain": [
              "<Figure size 432x288 with 1 Axes>"
            ]
          },
          "metadata": {
            "tags": [],
            "needs_background": "light"
          }
        },
        {
          "output_type": "stream",
          "text": [
            "For aplha value:  0.01\n",
            "accuracy:  0.028169014084507043 f1 score:  0.019462227912932138\n",
            "recall:  0.028169014084507043 precision:  0.018583724569640064\n",
            "confusion matrix:  [[0 0 0 ... 0 0 0]\n",
            " [0 2 0 ... 0 0 0]\n",
            " [0 0 0 ... 0 0 0]\n",
            " ...\n",
            " [0 0 0 ... 1 0 0]\n",
            " [0 0 0 ... 0 0 0]\n",
            " [0 0 0 ... 0 0 0]]\n"
          ],
          "name": "stdout"
        },
        {
          "output_type": "display_data",
          "data": {
            "image/png": "[encoded data removed]",
            "text/plain": [
              "<Figure size 432x288 with 1 Axes>"
            ]
          },
          "metadata": {
            "tags": [],
            "needs_background": "light"
          }
        },
        {
          "output_type": "stream",
          "text": [
            "For aplha value:  0.1\n",
            "accuracy:  0.8450704225352113 f1 score:  0.8204896042924212\n",
            "recall:  0.8450704225352113 precision:  0.8413145539906104\n",
            "confusion matrix:  [[2 0 0 ... 0 0 0]\n",
            " [0 2 0 ... 0 0 0]\n",
            " [0 0 2 ... 0 0 0]\n",
            " ...\n",
            " [0 0 0 ... 2 0 0]\n",
            " [0 0 0 ... 0 2 0]\n",
            " [0 0 0 ... 0 0 2]]\n"
          ],
          "name": "stdout"
        },
        {
          "output_type": "display_data",
          "data": {
            "image/png": "[encoded data removed]",
            "text/plain": [
              "<Figure size 432x288 with 1 Axes>"
            ]
          },
          "metadata": {
            "tags": [],
            "needs_background": "light"
          }
        },
        {
          "output_type": "stream",
          "text": [
            "For aplha value:  1\n",
            "accuracy:  0.9647887323943662 f1 score:  0.9636150234741785\n",
            "recall:  0.9647887323943662 precision:  0.9753521126760564\n",
            "confusion matrix:  [[2 0 0 ... 0 0 0]\n",
            " [0 2 0 ... 0 0 0]\n",
            " [0 0 2 ... 0 0 0]\n",
            " ...\n",
            " [0 0 0 ... 2 0 0]\n",
            " [0 0 0 ... 0 2 0]\n",
            " [0 0 0 ... 0 0 2]]\n"
          ],
          "name": "stdout"
        },
        {
          "output_type": "display_data",
          "data": {
            "image/png": "[encoded data removed]",
            "text/plain": [
              "<Figure size 432x288 with 1 Axes>"
            ]
          },
          "metadata": {
            "tags": [],
            "needs_background": "light"
          }
        },
        {
          "output_type": "stream",
          "text": [
            "For aplha value:  10\n",
            "accuracy:  0.9683098591549296 f1 score:  0.9671361502347416\n",
            "recall:  0.9683098591549296 precision:  0.9788732394366197\n",
            "confusion matrix:  [[2 0 0 ... 0 0 0]\n",
            " [0 2 0 ... 0 0 0]\n",
            " [0 0 2 ... 0 0 0]\n",
            " ...\n",
            " [0 0 0 ... 2 0 0]\n",
            " [0 0 0 ... 0 2 0]\n",
            " [0 0 0 ... 0 0 2]]\n"
          ],
          "name": "stdout"
        },
        {
          "output_type": "display_data",
          "data": {
            "image/png": "[encoded data removed]",
            "text/plain": [
              "<Figure size 432x288 with 1 Axes>"
            ]
          },
          "metadata": {
            "tags": [],
            "needs_background": "light"
          }
        },
        {
          "output_type": "stream",
          "text": [
            "For aplha value:  20\n",
            "accuracy:  0.971830985915493 f1 score:  0.9708920187793427\n",
            "recall:  0.971830985915493 precision:  0.9812206572769954\n",
            "confusion matrix:  [[2 0 0 ... 0 0 0]\n",
            " [0 2 0 ... 0 0 0]\n",
            " [0 0 2 ... 0 0 0]\n",
            " ...\n",
            " [0 0 0 ... 2 0 0]\n",
            " [0 0 0 ... 0 2 0]\n",
            " [0 0 0 ... 0 0 2]]\n"
          ],
          "name": "stdout"
        },
        {
          "output_type": "display_data",
          "data": {
            "image/png": "[encoded data removed]",
            "text/plain": [
              "<Figure size 432x288 with 1 Axes>"
            ]
          },
          "metadata": {
            "tags": [],
            "needs_background": "light"
          }
        }
      ]
    },
    {
      "cell_type": "markdown",
      "metadata": {
        "id": "bgSLT6o_2xux"
      },
      "source": [
        "The above results show that the optimal value of alpha is 20, as it gives the highest accuracy and f1 score of 97%"
      ]
    },
    {
      "cell_type": "code",
      "metadata": {
        "id": "SNDwvmRdPszi"
      },
      "source": [
        ""
      ],
      "execution_count": null,
      "outputs": []
    }
  ]
}