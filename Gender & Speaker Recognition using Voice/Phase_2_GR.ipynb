{
  "nbformat": 4,
  "nbformat_minor": 0,
  "metadata": {
    "colab": {
      "name": "Gender_Recognition.ipynb",
      "provenance": [],
      "collapsed_sections": []
    },
    "kernelspec": {
      "name": "python3",
      "display_name": "Python 3"
    }
  },
  "cells": [
    {
      "cell_type": "markdown",
      "metadata": {
        "id": "Gcz9iF3PNh4w"
      },
      "source": [
        "# Gender Recogintion"
      ]
    },
    {
      "cell_type": "markdown",
      "metadata": {
        "id": "mDX769vXNqPk"
      },
      "source": [
        "## Imports"
      ]
    },
    {
      "cell_type": "code",
      "metadata": {
        "colab": {
          "base_uri": "https://localhost:8080/"
        },
        "id": "Khimp3tPikcW",
        "outputId": "c7aca183-ec44-48fb-94ff-81b68054c16f"
      },
      "source": [
        "!pip install python_speech_features"
      ],
      "execution_count": 16,
      "outputs": [
        {
          "output_type": "stream",
          "text": [
            "Requirement already satisfied: python_speech_features in /usr/local/lib/python3.6/dist-packages (0.6)\n"
          ],
          "name": "stdout"
        }
      ]
    },
    {
      "cell_type": "code",
      "metadata": {
        "id": "VQ0wBahqY5pz"
      },
      "source": [
        "import python_speech_features as mfcc\n",
        "from scipy.io.wavfile import read\n",
        "import numpy as np\n",
        "import pandas as pd\n",
        "import os\n",
        "import time\n",
        "\n",
        "from matplotlib import pyplot as plt\n",
        "from sklearn.metrics import accuracy_score\n",
        "from sklearn.metrics import classification_report\n",
        "from sklearn.metrics import confusion_matrix"
      ],
      "execution_count": 17,
      "outputs": []
    },
    {
      "cell_type": "code",
      "metadata": {
        "id": "ZPPu1yzDi4oI",
        "colab": {
          "base_uri": "https://localhost:8080/"
        },
        "outputId": "a60096bc-c6f8-4a94-9e04-567c385f3985"
      },
      "source": [
        "from google.colab import drive\n",
        "drive.mount('/content/drive')"
      ],
      "execution_count": 18,
      "outputs": [
        {
          "output_type": "stream",
          "text": [
            "Drive already mounted at /content/drive; to attempt to forcibly remount, call drive.mount(\"/content/drive\", force_remount=True).\n"
          ],
          "name": "stdout"
        }
      ]
    },
    {
      "cell_type": "code",
      "metadata": {
        "id": "EUE-twBTNwAn"
      },
      "source": [
        ""
      ],
      "execution_count": null,
      "outputs": []
    },
    {
      "cell_type": "markdown",
      "metadata": {
        "id": "SZfHFE10Nzy-"
      },
      "source": [
        "## Dataset"
      ]
    },
    {
      "cell_type": "code",
      "metadata": {
        "id": "SvgNiiBBi3Jj"
      },
      "source": [
        "!unzip \"/content/drive/MyDrive/Colab Notebooks/ML-Project/LUMS_FALL2020_PROJECT_DATA.zip\""
      ],
      "execution_count": null,
      "outputs": []
    },
    {
      "cell_type": "markdown",
      "metadata": {
        "id": "mJ_KIauwN4C3"
      },
      "source": [
        "#### Data Reading Function"
      ]
    },
    {
      "cell_type": "code",
      "metadata": {
        "id": "LNgqhY8_dhA-"
      },
      "source": [
        "def get_MFCC(audio, sr):\n",
        "    features = mfcc.mfcc(audio, sr, 0.025, 0.01, 13, appendEnergy = True)\n",
        "    return np.mean(features, axis=0)"
      ],
      "execution_count": 19,
      "outputs": []
    },
    {
      "cell_type": "code",
      "metadata": {
        "id": "xTDA6v--FI7P"
      },
      "source": [
        "def dataset_generator(path):\n",
        "  speaker=os.listdir(path)\n",
        "  output=np.array([]);\n",
        "  for a,s in enumerate(speaker):\n",
        "    speaker_id=s\n",
        "    # print(speaker_id)\n",
        "    path_to_speaker=os.path.join(path,speaker_id)\n",
        "    speaker_wav_files=os.listdir(path_to_speaker)\n",
        "    for b,wav_files in enumerate(speaker_wav_files):\n",
        "      wav_path=os.path.join(path_to_speaker,wav_files)\n",
        "      sr, audio = read(wav_path)\n",
        "      features = get_MFCC(audio, sr)\n",
        "      features=np.append(features,speaker_id[-1])\n",
        "      features=np.reshape(features,(1,features.shape[0]))\n",
        "      if a==0 and b==0:\n",
        "        # first iteration\n",
        "        output= features\n",
        "        continue\n",
        "      output=np.append(output,features,axis=0)\n",
        "  return output"
      ],
      "execution_count": 24,
      "outputs": []
    },
    {
      "cell_type": "markdown",
      "metadata": {
        "id": "NNjVokbrOIhk"
      },
      "source": [
        "#### Function Calls (Data Reading)"
      ]
    },
    {
      "cell_type": "code",
      "metadata": {
        "id": "O_mvH44J1tW9",
        "colab": {
          "base_uri": "https://localhost:8080/"
        },
        "outputId": "c5253ebb-4f91-4544-fbcc-daaac733b587"
      },
      "source": [
        "train_directory = '/content/Gender_Recognition/Train'\n",
        "validation_directory = '/content/Gender_Recognition/Valid'\n",
        "test_directory = '/content/Gender_Recognition/Test'\n",
        "\n",
        "start = time.time()\n",
        "df_train=dataset_generator(train_directory)\n",
        "df_test=dataset_generator(test_directory)\n",
        "df_valid=dataset_generator(validation_directory)\n",
        "end = time.time()\n",
        "print(\"Time taken: \", end-start)"
      ],
      "execution_count": 25,
      "outputs": [
        {
          "output_type": "stream",
          "text": [
            "Time taken:  54.72930717468262\n"
          ],
          "name": "stdout"
        }
      ]
    },
    {
      "cell_type": "code",
      "metadata": {
        "colab": {
          "base_uri": "https://localhost:8080/",
          "height": 360
        },
        "id": "4dj55ldGimE_",
        "outputId": "75b1c939-c2e1-441c-9c70-43b2093b3a19"
      },
      "source": [
        "df_train=pd.DataFrame(df_train)\n",
        "df_test=pd.DataFrame(df_test)\n",
        "df_valid=pd.DataFrame(df_valid)\n",
        "\n",
        "df_train.head(10)"
      ],
      "execution_count": 32,
      "outputs": [
        {
          "output_type": "execute_result",
          "data": {
            "text/html": [
              "<div>\n",
              "<style scoped>\n",
              "    .dataframe tbody tr th:only-of-type {\n",
              "        vertical-align: middle;\n",
              "    }\n",
              "\n",
              "    .dataframe tbody tr th {\n",
              "        vertical-align: top;\n",
              "    }\n",
              "\n",
              "    .dataframe thead th {\n",
              "        text-align: right;\n",
              "    }\n",
              "</style>\n",
              "<table border=\"1\" class=\"dataframe\">\n",
              "  <thead>\n",
              "    <tr style=\"text-align: right;\">\n",
              "      <th></th>\n",
              "      <th>0</th>\n",
              "      <th>1</th>\n",
              "      <th>2</th>\n",
              "      <th>3</th>\n",
              "      <th>4</th>\n",
              "      <th>5</th>\n",
              "      <th>6</th>\n",
              "      <th>7</th>\n",
              "      <th>8</th>\n",
              "      <th>9</th>\n",
              "      <th>10</th>\n",
              "      <th>11</th>\n",
              "      <th>12</th>\n",
              "      <th>13</th>\n",
              "    </tr>\n",
              "  </thead>\n",
              "  <tbody>\n",
              "    <tr>\n",
              "      <th>0</th>\n",
              "      <td>16.625840357400815</td>\n",
              "      <td>-2.4440964838053194</td>\n",
              "      <td>-2.4362814332790093</td>\n",
              "      <td>2.7695713791631005</td>\n",
              "      <td>-11.7776938311833</td>\n",
              "      <td>-33.40040668078567</td>\n",
              "      <td>-7.7643269606616965</td>\n",
              "      <td>-10.178410371201542</td>\n",
              "      <td>-3.3912857503562774</td>\n",
              "      <td>-8.256770677605916</td>\n",
              "      <td>0.7332681245244494</td>\n",
              "      <td>-3.2533923776093574</td>\n",
              "      <td>-7.017290476429802</td>\n",
              "      <td>M</td>\n",
              "    </tr>\n",
              "    <tr>\n",
              "      <th>1</th>\n",
              "      <td>15.729648587015804</td>\n",
              "      <td>-2.6753551214827276</td>\n",
              "      <td>1.3794553785273382</td>\n",
              "      <td>-5.663183017373065</td>\n",
              "      <td>-14.78964485748503</td>\n",
              "      <td>-23.36646079331186</td>\n",
              "      <td>-5.277256428421173</td>\n",
              "      <td>-10.729879123100753</td>\n",
              "      <td>-4.856369885908349</td>\n",
              "      <td>-5.319915095769968</td>\n",
              "      <td>-2.1830247692474196</td>\n",
              "      <td>-1.8543560487098432</td>\n",
              "      <td>-8.735967438730217</td>\n",
              "      <td>M</td>\n",
              "    </tr>\n",
              "    <tr>\n",
              "      <th>2</th>\n",
              "      <td>15.845916394690565</td>\n",
              "      <td>-3.183321230819048</td>\n",
              "      <td>-0.29659414883116625</td>\n",
              "      <td>-2.0403441449895348</td>\n",
              "      <td>-13.252018822126907</td>\n",
              "      <td>-25.393687175680668</td>\n",
              "      <td>-4.983250504880713</td>\n",
              "      <td>-10.889245293743073</td>\n",
              "      <td>-3.9591376792936264</td>\n",
              "      <td>-7.246220409763189</td>\n",
              "      <td>-0.8110758567647272</td>\n",
              "      <td>-3.630797037566415</td>\n",
              "      <td>-10.34601590376102</td>\n",
              "      <td>M</td>\n",
              "    </tr>\n",
              "    <tr>\n",
              "      <th>3</th>\n",
              "      <td>15.226181550118065</td>\n",
              "      <td>-3.701734474257167</td>\n",
              "      <td>-4.535543270738152</td>\n",
              "      <td>-6.577259613799018</td>\n",
              "      <td>-11.91809664241523</td>\n",
              "      <td>-20.434457882124097</td>\n",
              "      <td>-8.672198646802439</td>\n",
              "      <td>-10.641977929036177</td>\n",
              "      <td>-2.7831615758102983</td>\n",
              "      <td>-8.842032164466957</td>\n",
              "      <td>2.2076624935978133</td>\n",
              "      <td>-6.284745808238885</td>\n",
              "      <td>-8.442677418307323</td>\n",
              "      <td>M</td>\n",
              "    </tr>\n",
              "    <tr>\n",
              "      <th>4</th>\n",
              "      <td>16.381046093515284</td>\n",
              "      <td>-5.537617885951476</td>\n",
              "      <td>-3.0723950440095926</td>\n",
              "      <td>0.3746507353411828</td>\n",
              "      <td>-6.392170718761932</td>\n",
              "      <td>-28.295644528121134</td>\n",
              "      <td>-12.831385437891988</td>\n",
              "      <td>-11.27619348468831</td>\n",
              "      <td>-0.9689128965520613</td>\n",
              "      <td>-7.851816557095761</td>\n",
              "      <td>-1.5660260546535436</td>\n",
              "      <td>-0.8692621990953145</td>\n",
              "      <td>-9.34038928670469</td>\n",
              "      <td>M</td>\n",
              "    </tr>\n",
              "    <tr>\n",
              "      <th>5</th>\n",
              "      <td>16.002137433606983</td>\n",
              "      <td>-5.483413772568298</td>\n",
              "      <td>-1.1733601260372373</td>\n",
              "      <td>1.976772439634287</td>\n",
              "      <td>-8.631533625614692</td>\n",
              "      <td>-22.45309289486503</td>\n",
              "      <td>-11.458206932939941</td>\n",
              "      <td>-12.48141499866593</td>\n",
              "      <td>-9.083816210503269</td>\n",
              "      <td>-9.612843270253684</td>\n",
              "      <td>-0.7570826083307899</td>\n",
              "      <td>0.24523531218878517</td>\n",
              "      <td>-7.211055332997497</td>\n",
              "      <td>M</td>\n",
              "    </tr>\n",
              "    <tr>\n",
              "      <th>6</th>\n",
              "      <td>16.062410932836634</td>\n",
              "      <td>-4.753183982857377</td>\n",
              "      <td>-0.8671788188705954</td>\n",
              "      <td>0.26726113633842435</td>\n",
              "      <td>-7.713498193937122</td>\n",
              "      <td>-23.117332254411206</td>\n",
              "      <td>-5.709353876880287</td>\n",
              "      <td>-19.49529350137363</td>\n",
              "      <td>1.459333496898087</td>\n",
              "      <td>-9.365958265060135</td>\n",
              "      <td>3.1570948362982203</td>\n",
              "      <td>-6.897393987549023</td>\n",
              "      <td>-6.899447253571446</td>\n",
              "      <td>M</td>\n",
              "    </tr>\n",
              "    <tr>\n",
              "      <th>7</th>\n",
              "      <td>16.21958419358039</td>\n",
              "      <td>-4.525738776873643</td>\n",
              "      <td>-0.983187812897461</td>\n",
              "      <td>-0.13911779441545877</td>\n",
              "      <td>-7.518428876175537</td>\n",
              "      <td>-27.31338046359141</td>\n",
              "      <td>-11.742237891063763</td>\n",
              "      <td>-13.069987072985484</td>\n",
              "      <td>-6.957372328497123</td>\n",
              "      <td>-9.790434717405674</td>\n",
              "      <td>1.1711090510395894</td>\n",
              "      <td>-4.550967599687898</td>\n",
              "      <td>-2.6062956587451462</td>\n",
              "      <td>M</td>\n",
              "    </tr>\n",
              "    <tr>\n",
              "      <th>8</th>\n",
              "      <td>15.903360449737066</td>\n",
              "      <td>-6.050441715036798</td>\n",
              "      <td>0.65165863291249</td>\n",
              "      <td>-5.048534821784158</td>\n",
              "      <td>-12.603886203691125</td>\n",
              "      <td>-20.645901564585866</td>\n",
              "      <td>-9.760965827443219</td>\n",
              "      <td>-14.233221206472003</td>\n",
              "      <td>-2.7985142531176774</td>\n",
              "      <td>-6.64345355924308</td>\n",
              "      <td>1.134629239180194</td>\n",
              "      <td>-7.536673918242156</td>\n",
              "      <td>-6.431522484887522</td>\n",
              "      <td>M</td>\n",
              "    </tr>\n",
              "    <tr>\n",
              "      <th>9</th>\n",
              "      <td>14.958931199072156</td>\n",
              "      <td>-6.013887323127419</td>\n",
              "      <td>-1.931282898572698</td>\n",
              "      <td>-1.3352257347525394</td>\n",
              "      <td>-6.784128079714664</td>\n",
              "      <td>-20.199649100614582</td>\n",
              "      <td>-9.516657384991081</td>\n",
              "      <td>-15.040625090270083</td>\n",
              "      <td>-2.560513240754126</td>\n",
              "      <td>-11.850852790317743</td>\n",
              "      <td>-2.6350997188570067</td>\n",
              "      <td>-1.8614076726517337</td>\n",
              "      <td>-2.1128307896080236</td>\n",
              "      <td>M</td>\n",
              "    </tr>\n",
              "  </tbody>\n",
              "</table>\n",
              "</div>"
            ],
            "text/plain": [
              "                   0                    1   ...                   12 13\n",
              "0  16.625840357400815  -2.4440964838053194  ...   -7.017290476429802  M\n",
              "1  15.729648587015804  -2.6753551214827276  ...   -8.735967438730217  M\n",
              "2  15.845916394690565   -3.183321230819048  ...   -10.34601590376102  M\n",
              "3  15.226181550118065   -3.701734474257167  ...   -8.442677418307323  M\n",
              "4  16.381046093515284   -5.537617885951476  ...    -9.34038928670469  M\n",
              "5  16.002137433606983   -5.483413772568298  ...   -7.211055332997497  M\n",
              "6  16.062410932836634   -4.753183982857377  ...   -6.899447253571446  M\n",
              "7   16.21958419358039   -4.525738776873643  ...  -2.6062956587451462  M\n",
              "8  15.903360449737066   -6.050441715036798  ...   -6.431522484887522  M\n",
              "9  14.958931199072156   -6.013887323127419  ...  -2.1128307896080236  M\n",
              "\n",
              "[10 rows x 14 columns]"
            ]
          },
          "metadata": {
            "tags": []
          },
          "execution_count": 32
        }
      ]
    },
    {
      "cell_type": "markdown",
      "metadata": {
        "id": "R4u84QChOQ09"
      },
      "source": [
        "#### Seperating the labels and features"
      ]
    },
    {
      "cell_type": "code",
      "metadata": {
        "colab": {
          "base_uri": "https://localhost:8080/",
          "height": 214
        },
        "id": "XPjWLEKMMSi3",
        "outputId": "41383b8a-f969-4a88-d865-90ae6dac1479"
      },
      "source": [
        "Y_train=df_train[13]\n",
        "Y_valid=df_valid[13]\n",
        "Y_test=df_test[13]\n",
        "\n",
        "X_train=df_train.drop(columns=[13])\n",
        "X_valid=df_valid.drop(columns=[13])\n",
        "X_test=df_test.drop(columns=[13])\n",
        "\n",
        "X_train.head(5)"
      ],
      "execution_count": 39,
      "outputs": [
        {
          "output_type": "execute_result",
          "data": {
            "text/html": [
              "<div>\n",
              "<style scoped>\n",
              "    .dataframe tbody tr th:only-of-type {\n",
              "        vertical-align: middle;\n",
              "    }\n",
              "\n",
              "    .dataframe tbody tr th {\n",
              "        vertical-align: top;\n",
              "    }\n",
              "\n",
              "    .dataframe thead th {\n",
              "        text-align: right;\n",
              "    }\n",
              "</style>\n",
              "<table border=\"1\" class=\"dataframe\">\n",
              "  <thead>\n",
              "    <tr style=\"text-align: right;\">\n",
              "      <th></th>\n",
              "      <th>0</th>\n",
              "      <th>1</th>\n",
              "      <th>2</th>\n",
              "      <th>3</th>\n",
              "      <th>4</th>\n",
              "      <th>5</th>\n",
              "      <th>6</th>\n",
              "      <th>7</th>\n",
              "      <th>8</th>\n",
              "      <th>9</th>\n",
              "      <th>10</th>\n",
              "      <th>11</th>\n",
              "      <th>12</th>\n",
              "    </tr>\n",
              "  </thead>\n",
              "  <tbody>\n",
              "    <tr>\n",
              "      <th>0</th>\n",
              "      <td>16.625840357400815</td>\n",
              "      <td>-2.4440964838053194</td>\n",
              "      <td>-2.4362814332790093</td>\n",
              "      <td>2.7695713791631005</td>\n",
              "      <td>-11.7776938311833</td>\n",
              "      <td>-33.40040668078567</td>\n",
              "      <td>-7.7643269606616965</td>\n",
              "      <td>-10.178410371201542</td>\n",
              "      <td>-3.3912857503562774</td>\n",
              "      <td>-8.256770677605916</td>\n",
              "      <td>0.7332681245244494</td>\n",
              "      <td>-3.2533923776093574</td>\n",
              "      <td>-7.017290476429802</td>\n",
              "    </tr>\n",
              "    <tr>\n",
              "      <th>1</th>\n",
              "      <td>15.729648587015804</td>\n",
              "      <td>-2.6753551214827276</td>\n",
              "      <td>1.3794553785273382</td>\n",
              "      <td>-5.663183017373065</td>\n",
              "      <td>-14.78964485748503</td>\n",
              "      <td>-23.36646079331186</td>\n",
              "      <td>-5.277256428421173</td>\n",
              "      <td>-10.729879123100753</td>\n",
              "      <td>-4.856369885908349</td>\n",
              "      <td>-5.319915095769968</td>\n",
              "      <td>-2.1830247692474196</td>\n",
              "      <td>-1.8543560487098432</td>\n",
              "      <td>-8.735967438730217</td>\n",
              "    </tr>\n",
              "    <tr>\n",
              "      <th>2</th>\n",
              "      <td>15.845916394690565</td>\n",
              "      <td>-3.183321230819048</td>\n",
              "      <td>-0.29659414883116625</td>\n",
              "      <td>-2.0403441449895348</td>\n",
              "      <td>-13.252018822126907</td>\n",
              "      <td>-25.393687175680668</td>\n",
              "      <td>-4.983250504880713</td>\n",
              "      <td>-10.889245293743073</td>\n",
              "      <td>-3.9591376792936264</td>\n",
              "      <td>-7.246220409763189</td>\n",
              "      <td>-0.8110758567647272</td>\n",
              "      <td>-3.630797037566415</td>\n",
              "      <td>-10.34601590376102</td>\n",
              "    </tr>\n",
              "    <tr>\n",
              "      <th>3</th>\n",
              "      <td>15.226181550118065</td>\n",
              "      <td>-3.701734474257167</td>\n",
              "      <td>-4.535543270738152</td>\n",
              "      <td>-6.577259613799018</td>\n",
              "      <td>-11.91809664241523</td>\n",
              "      <td>-20.434457882124097</td>\n",
              "      <td>-8.672198646802439</td>\n",
              "      <td>-10.641977929036177</td>\n",
              "      <td>-2.7831615758102983</td>\n",
              "      <td>-8.842032164466957</td>\n",
              "      <td>2.2076624935978133</td>\n",
              "      <td>-6.284745808238885</td>\n",
              "      <td>-8.442677418307323</td>\n",
              "    </tr>\n",
              "    <tr>\n",
              "      <th>4</th>\n",
              "      <td>16.381046093515284</td>\n",
              "      <td>-5.537617885951476</td>\n",
              "      <td>-3.0723950440095926</td>\n",
              "      <td>0.3746507353411828</td>\n",
              "      <td>-6.392170718761932</td>\n",
              "      <td>-28.295644528121134</td>\n",
              "      <td>-12.831385437891988</td>\n",
              "      <td>-11.27619348468831</td>\n",
              "      <td>-0.9689128965520613</td>\n",
              "      <td>-7.851816557095761</td>\n",
              "      <td>-1.5660260546535436</td>\n",
              "      <td>-0.8692621990953145</td>\n",
              "      <td>-9.34038928670469</td>\n",
              "    </tr>\n",
              "  </tbody>\n",
              "</table>\n",
              "</div>"
            ],
            "text/plain": [
              "                   0   ...                  12\n",
              "0  16.625840357400815  ...  -7.017290476429802\n",
              "1  15.729648587015804  ...  -8.735967438730217\n",
              "2  15.845916394690565  ...  -10.34601590376102\n",
              "3  15.226181550118065  ...  -8.442677418307323\n",
              "4  16.381046093515284  ...   -9.34038928670469\n",
              "\n",
              "[5 rows x 13 columns]"
            ]
          },
          "metadata": {
            "tags": []
          },
          "execution_count": 39
        }
      ]
    },
    {
      "cell_type": "code",
      "metadata": {
        "colab": {
          "base_uri": "https://localhost:8080/"
        },
        "id": "2NucFlErMs_Q",
        "outputId": "d0520860-d918-4502-f44f-b53aea0b34b2"
      },
      "source": [
        "Y_train.head(5)"
      ],
      "execution_count": 36,
      "outputs": [
        {
          "output_type": "execute_result",
          "data": {
            "text/plain": [
              "0    M\n",
              "1    M\n",
              "2    M\n",
              "3    M\n",
              "4    M\n",
              "Name: 13, dtype: object"
            ]
          },
          "metadata": {
            "tags": []
          },
          "execution_count": 36
        }
      ]
    },
    {
      "cell_type": "markdown",
      "metadata": {
        "id": "rNIiF0hDObO0"
      },
      "source": [
        "#### Normalizing Data"
      ]
    },
    {
      "cell_type": "markdown",
      "metadata": {
        "id": "FwLKRdXwOfEs"
      },
      "source": [
        "##### Convert to numeric"
      ]
    },
    {
      "cell_type": "code",
      "metadata": {
        "id": "abKLUflsNeu1"
      },
      "source": [
        "X_train = X_train.apply(pd.to_numeric)\n",
        "X_valid = X_valid.apply(pd.to_numeric)\n",
        "X_test = X_test.apply(pd.to_numeric)"
      ],
      "execution_count": 40,
      "outputs": []
    },
    {
      "cell_type": "markdown",
      "metadata": {
        "id": "8MTSEn7FO12g"
      },
      "source": [
        "##### Normalizaion function"
      ]
    },
    {
      "cell_type": "code",
      "metadata": {
        "id": "zczvOck5LZMZ"
      },
      "source": [
        "def normalize(array):\n",
        "  means=np.mean(array, axis=0)\n",
        "  std=np.std(array, axis=0)\n",
        "  array=(array-means)/std\n",
        "  return array"
      ],
      "execution_count": 41,
      "outputs": []
    },
    {
      "cell_type": "markdown",
      "metadata": {
        "id": "RBr9i3JvO9MR"
      },
      "source": [
        "##### Normalization Function Calls"
      ]
    },
    {
      "cell_type": "code",
      "metadata": {
        "colab": {
          "base_uri": "https://localhost:8080/",
          "height": 194
        },
        "id": "x58MdhoyPC6B",
        "outputId": "28cd3591-5e33-44fa-9639-91edde2000f6"
      },
      "source": [
        "normalised_train=normalize(X_train)\n",
        "normalised_valid=normalize(X_valid)\n",
        "normalised_test=normalize(X_test)\n",
        "\n",
        "normalised_train.head(5)"
      ],
      "execution_count": 42,
      "outputs": [
        {
          "output_type": "execute_result",
          "data": {
            "text/html": [
              "<div>\n",
              "<style scoped>\n",
              "    .dataframe tbody tr th:only-of-type {\n",
              "        vertical-align: middle;\n",
              "    }\n",
              "\n",
              "    .dataframe tbody tr th {\n",
              "        vertical-align: top;\n",
              "    }\n",
              "\n",
              "    .dataframe thead th {\n",
              "        text-align: right;\n",
              "    }\n",
              "</style>\n",
              "<table border=\"1\" class=\"dataframe\">\n",
              "  <thead>\n",
              "    <tr style=\"text-align: right;\">\n",
              "      <th></th>\n",
              "      <th>0</th>\n",
              "      <th>1</th>\n",
              "      <th>2</th>\n",
              "      <th>3</th>\n",
              "      <th>4</th>\n",
              "      <th>5</th>\n",
              "      <th>6</th>\n",
              "      <th>7</th>\n",
              "      <th>8</th>\n",
              "      <th>9</th>\n",
              "      <th>10</th>\n",
              "      <th>11</th>\n",
              "      <th>12</th>\n",
              "    </tr>\n",
              "  </thead>\n",
              "  <tbody>\n",
              "    <tr>\n",
              "      <th>0</th>\n",
              "      <td>1.497132</td>\n",
              "      <td>-0.338737</td>\n",
              "      <td>0.018409</td>\n",
              "      <td>0.177703</td>\n",
              "      <td>-0.677046</td>\n",
              "      <td>-3.119393</td>\n",
              "      <td>0.342772</td>\n",
              "      <td>-0.415862</td>\n",
              "      <td>0.083645</td>\n",
              "      <td>-0.534473</td>\n",
              "      <td>0.736127</td>\n",
              "      <td>0.196445</td>\n",
              "      <td>-0.104188</td>\n",
              "    </tr>\n",
              "    <tr>\n",
              "      <th>1</th>\n",
              "      <td>0.989159</td>\n",
              "      <td>-0.378046</td>\n",
              "      <td>0.540159</td>\n",
              "      <td>-1.067993</td>\n",
              "      <td>-1.044045</td>\n",
              "      <td>-1.827931</td>\n",
              "      <td>0.705670</td>\n",
              "      <td>-0.489183</td>\n",
              "      <td>-0.142725</td>\n",
              "      <td>-0.084847</td>\n",
              "      <td>0.257483</td>\n",
              "      <td>0.431865</td>\n",
              "      <td>-0.436930</td>\n",
              "    </tr>\n",
              "    <tr>\n",
              "      <th>2</th>\n",
              "      <td>1.055061</td>\n",
              "      <td>-0.464389</td>\n",
              "      <td>0.310982</td>\n",
              "      <td>-0.532823</td>\n",
              "      <td>-0.856689</td>\n",
              "      <td>-2.088854</td>\n",
              "      <td>0.748569</td>\n",
              "      <td>-0.510371</td>\n",
              "      <td>-0.004094</td>\n",
              "      <td>-0.379760</td>\n",
              "      <td>0.482657</td>\n",
              "      <td>0.132938</td>\n",
              "      <td>-0.748641</td>\n",
              "    </tr>\n",
              "    <tr>\n",
              "      <th>3</th>\n",
              "      <td>0.703788</td>\n",
              "      <td>-0.552508</td>\n",
              "      <td>-0.268636</td>\n",
              "      <td>-1.203021</td>\n",
              "      <td>-0.694154</td>\n",
              "      <td>-1.450555</td>\n",
              "      <td>0.210301</td>\n",
              "      <td>-0.477496</td>\n",
              "      <td>0.177605</td>\n",
              "      <td>-0.624075</td>\n",
              "      <td>0.978116</td>\n",
              "      <td>-0.313650</td>\n",
              "      <td>-0.380148</td>\n",
              "    </tr>\n",
              "    <tr>\n",
              "      <th>4</th>\n",
              "      <td>1.358379</td>\n",
              "      <td>-0.864569</td>\n",
              "      <td>-0.068571</td>\n",
              "      <td>-0.176077</td>\n",
              "      <td>-0.020833</td>\n",
              "      <td>-2.462363</td>\n",
              "      <td>-0.396581</td>\n",
              "      <td>-0.561817</td>\n",
              "      <td>0.457924</td>\n",
              "      <td>-0.472475</td>\n",
              "      <td>0.358749</td>\n",
              "      <td>0.597630</td>\n",
              "      <td>-0.553948</td>\n",
              "    </tr>\n",
              "  </tbody>\n",
              "</table>\n",
              "</div>"
            ],
            "text/plain": [
              "         0         1         2   ...        10        11        12\n",
              "0  1.497132 -0.338737  0.018409  ...  0.736127  0.196445 -0.104188\n",
              "1  0.989159 -0.378046  0.540159  ...  0.257483  0.431865 -0.436930\n",
              "2  1.055061 -0.464389  0.310982  ...  0.482657  0.132938 -0.748641\n",
              "3  0.703788 -0.552508 -0.268636  ...  0.978116 -0.313650 -0.380148\n",
              "4  1.358379 -0.864569 -0.068571  ...  0.358749  0.597630 -0.553948\n",
              "\n",
              "[5 rows x 13 columns]"
            ]
          },
          "metadata": {
            "tags": []
          },
          "execution_count": 42
        }
      ]
    },
    {
      "cell_type": "markdown",
      "metadata": {
        "id": "OyVs_3ZUPYES"
      },
      "source": [
        "##### Bias Addition"
      ]
    },
    {
      "cell_type": "code",
      "metadata": {
        "colab": {
          "base_uri": "https://localhost:8080/",
          "height": 194
        },
        "id": "MUVA2qY5PbYU",
        "outputId": "adadef1f-49fb-42a8-eb5f-d1dbc748fda2"
      },
      "source": [
        "normalised_train.insert(0, 'Bias', 1)\n",
        "normalised_valid.insert(0, 'Bias', 1)\n",
        "normalised_test.insert(0, 'Bias', 1)\n",
        "\n",
        "normalised_train.head(5)"
      ],
      "execution_count": 43,
      "outputs": [
        {
          "output_type": "execute_result",
          "data": {
            "text/html": [
              "<div>\n",
              "<style scoped>\n",
              "    .dataframe tbody tr th:only-of-type {\n",
              "        vertical-align: middle;\n",
              "    }\n",
              "\n",
              "    .dataframe tbody tr th {\n",
              "        vertical-align: top;\n",
              "    }\n",
              "\n",
              "    .dataframe thead th {\n",
              "        text-align: right;\n",
              "    }\n",
              "</style>\n",
              "<table border=\"1\" class=\"dataframe\">\n",
              "  <thead>\n",
              "    <tr style=\"text-align: right;\">\n",
              "      <th></th>\n",
              "      <th>Bias</th>\n",
              "      <th>0</th>\n",
              "      <th>1</th>\n",
              "      <th>2</th>\n",
              "      <th>3</th>\n",
              "      <th>4</th>\n",
              "      <th>5</th>\n",
              "      <th>6</th>\n",
              "      <th>7</th>\n",
              "      <th>8</th>\n",
              "      <th>9</th>\n",
              "      <th>10</th>\n",
              "      <th>11</th>\n",
              "      <th>12</th>\n",
              "    </tr>\n",
              "  </thead>\n",
              "  <tbody>\n",
              "    <tr>\n",
              "      <th>0</th>\n",
              "      <td>1</td>\n",
              "      <td>1.497132</td>\n",
              "      <td>-0.338737</td>\n",
              "      <td>0.018409</td>\n",
              "      <td>0.177703</td>\n",
              "      <td>-0.677046</td>\n",
              "      <td>-3.119393</td>\n",
              "      <td>0.342772</td>\n",
              "      <td>-0.415862</td>\n",
              "      <td>0.083645</td>\n",
              "      <td>-0.534473</td>\n",
              "      <td>0.736127</td>\n",
              "      <td>0.196445</td>\n",
              "      <td>-0.104188</td>\n",
              "    </tr>\n",
              "    <tr>\n",
              "      <th>1</th>\n",
              "      <td>1</td>\n",
              "      <td>0.989159</td>\n",
              "      <td>-0.378046</td>\n",
              "      <td>0.540159</td>\n",
              "      <td>-1.067993</td>\n",
              "      <td>-1.044045</td>\n",
              "      <td>-1.827931</td>\n",
              "      <td>0.705670</td>\n",
              "      <td>-0.489183</td>\n",
              "      <td>-0.142725</td>\n",
              "      <td>-0.084847</td>\n",
              "      <td>0.257483</td>\n",
              "      <td>0.431865</td>\n",
              "      <td>-0.436930</td>\n",
              "    </tr>\n",
              "    <tr>\n",
              "      <th>2</th>\n",
              "      <td>1</td>\n",
              "      <td>1.055061</td>\n",
              "      <td>-0.464389</td>\n",
              "      <td>0.310982</td>\n",
              "      <td>-0.532823</td>\n",
              "      <td>-0.856689</td>\n",
              "      <td>-2.088854</td>\n",
              "      <td>0.748569</td>\n",
              "      <td>-0.510371</td>\n",
              "      <td>-0.004094</td>\n",
              "      <td>-0.379760</td>\n",
              "      <td>0.482657</td>\n",
              "      <td>0.132938</td>\n",
              "      <td>-0.748641</td>\n",
              "    </tr>\n",
              "    <tr>\n",
              "      <th>3</th>\n",
              "      <td>1</td>\n",
              "      <td>0.703788</td>\n",
              "      <td>-0.552508</td>\n",
              "      <td>-0.268636</td>\n",
              "      <td>-1.203021</td>\n",
              "      <td>-0.694154</td>\n",
              "      <td>-1.450555</td>\n",
              "      <td>0.210301</td>\n",
              "      <td>-0.477496</td>\n",
              "      <td>0.177605</td>\n",
              "      <td>-0.624075</td>\n",
              "      <td>0.978116</td>\n",
              "      <td>-0.313650</td>\n",
              "      <td>-0.380148</td>\n",
              "    </tr>\n",
              "    <tr>\n",
              "      <th>4</th>\n",
              "      <td>1</td>\n",
              "      <td>1.358379</td>\n",
              "      <td>-0.864569</td>\n",
              "      <td>-0.068571</td>\n",
              "      <td>-0.176077</td>\n",
              "      <td>-0.020833</td>\n",
              "      <td>-2.462363</td>\n",
              "      <td>-0.396581</td>\n",
              "      <td>-0.561817</td>\n",
              "      <td>0.457924</td>\n",
              "      <td>-0.472475</td>\n",
              "      <td>0.358749</td>\n",
              "      <td>0.597630</td>\n",
              "      <td>-0.553948</td>\n",
              "    </tr>\n",
              "  </tbody>\n",
              "</table>\n",
              "</div>"
            ],
            "text/plain": [
              "   Bias         0         1         2  ...         9        10        11        12\n",
              "0     1  1.497132 -0.338737  0.018409  ... -0.534473  0.736127  0.196445 -0.104188\n",
              "1     1  0.989159 -0.378046  0.540159  ... -0.084847  0.257483  0.431865 -0.436930\n",
              "2     1  1.055061 -0.464389  0.310982  ... -0.379760  0.482657  0.132938 -0.748641\n",
              "3     1  0.703788 -0.552508 -0.268636  ... -0.624075  0.978116 -0.313650 -0.380148\n",
              "4     1  1.358379 -0.864569 -0.068571  ... -0.472475  0.358749  0.597630 -0.553948\n",
              "\n",
              "[5 rows x 14 columns]"
            ]
          },
          "metadata": {
            "tags": []
          },
          "execution_count": 43
        }
      ]
    },
    {
      "cell_type": "markdown",
      "metadata": {
        "id": "-M9OvfVlPzLQ"
      },
      "source": [
        "#### Joining the labels and features back"
      ]
    },
    {
      "cell_type": "code",
      "metadata": {
        "colab": {
          "base_uri": "https://localhost:8080/",
          "height": 194
        },
        "id": "muS4xY6MQEOp",
        "outputId": "0c1f1c8a-d886-4d1b-c758-f0b117e83ae3"
      },
      "source": [
        "normalised_train['Labels']=Y_train\n",
        "normalised_valid['Labels']=Y_valid\n",
        "normalised_test['Labels']=Y_test\n",
        "\n",
        "normalised_train.tail(5)"
      ],
      "execution_count": 44,
      "outputs": [
        {
          "output_type": "execute_result",
          "data": {
            "text/html": [
              "<div>\n",
              "<style scoped>\n",
              "    .dataframe tbody tr th:only-of-type {\n",
              "        vertical-align: middle;\n",
              "    }\n",
              "\n",
              "    .dataframe tbody tr th {\n",
              "        vertical-align: top;\n",
              "    }\n",
              "\n",
              "    .dataframe thead th {\n",
              "        text-align: right;\n",
              "    }\n",
              "</style>\n",
              "<table border=\"1\" class=\"dataframe\">\n",
              "  <thead>\n",
              "    <tr style=\"text-align: right;\">\n",
              "      <th></th>\n",
              "      <th>Bias</th>\n",
              "      <th>0</th>\n",
              "      <th>1</th>\n",
              "      <th>2</th>\n",
              "      <th>3</th>\n",
              "      <th>4</th>\n",
              "      <th>5</th>\n",
              "      <th>6</th>\n",
              "      <th>7</th>\n",
              "      <th>8</th>\n",
              "      <th>9</th>\n",
              "      <th>10</th>\n",
              "      <th>11</th>\n",
              "      <th>12</th>\n",
              "      <th>Labels</th>\n",
              "    </tr>\n",
              "  </thead>\n",
              "  <tbody>\n",
              "    <tr>\n",
              "      <th>1075</th>\n",
              "      <td>1</td>\n",
              "      <td>-0.768841</td>\n",
              "      <td>0.302662</td>\n",
              "      <td>-1.119616</td>\n",
              "      <td>-1.960898</td>\n",
              "      <td>0.322413</td>\n",
              "      <td>-0.962396</td>\n",
              "      <td>0.736461</td>\n",
              "      <td>1.091055</td>\n",
              "      <td>-0.498266</td>\n",
              "      <td>0.291000</td>\n",
              "      <td>0.612938</td>\n",
              "      <td>-0.409916</td>\n",
              "      <td>-0.163622</td>\n",
              "      <td>M</td>\n",
              "    </tr>\n",
              "    <tr>\n",
              "      <th>1076</th>\n",
              "      <td>1</td>\n",
              "      <td>-0.461367</td>\n",
              "      <td>0.427527</td>\n",
              "      <td>-1.290991</td>\n",
              "      <td>-1.432430</td>\n",
              "      <td>0.185477</td>\n",
              "      <td>-0.981379</td>\n",
              "      <td>0.187886</td>\n",
              "      <td>0.958515</td>\n",
              "      <td>-0.801962</td>\n",
              "      <td>0.422880</td>\n",
              "      <td>0.397372</td>\n",
              "      <td>-0.593217</td>\n",
              "      <td>0.444585</td>\n",
              "      <td>M</td>\n",
              "    </tr>\n",
              "    <tr>\n",
              "      <th>1077</th>\n",
              "      <td>1</td>\n",
              "      <td>-0.635344</td>\n",
              "      <td>0.485963</td>\n",
              "      <td>-1.110414</td>\n",
              "      <td>-1.481278</td>\n",
              "      <td>0.542846</td>\n",
              "      <td>-1.259815</td>\n",
              "      <td>-0.330252</td>\n",
              "      <td>0.804197</td>\n",
              "      <td>-0.561281</td>\n",
              "      <td>0.109152</td>\n",
              "      <td>0.708195</td>\n",
              "      <td>-0.421818</td>\n",
              "      <td>0.303583</td>\n",
              "      <td>M</td>\n",
              "    </tr>\n",
              "    <tr>\n",
              "      <th>1078</th>\n",
              "      <td>1</td>\n",
              "      <td>-0.976472</td>\n",
              "      <td>-0.156155</td>\n",
              "      <td>-1.189636</td>\n",
              "      <td>-1.681591</td>\n",
              "      <td>0.824913</td>\n",
              "      <td>-0.977736</td>\n",
              "      <td>-0.079518</td>\n",
              "      <td>0.771610</td>\n",
              "      <td>-0.576036</td>\n",
              "      <td>0.303676</td>\n",
              "      <td>0.321114</td>\n",
              "      <td>-0.582438</td>\n",
              "      <td>0.036633</td>\n",
              "      <td>M</td>\n",
              "    </tr>\n",
              "    <tr>\n",
              "      <th>1079</th>\n",
              "      <td>1</td>\n",
              "      <td>-0.600382</td>\n",
              "      <td>0.454791</td>\n",
              "      <td>-1.028217</td>\n",
              "      <td>-1.237273</td>\n",
              "      <td>0.418662</td>\n",
              "      <td>-1.139402</td>\n",
              "      <td>0.156816</td>\n",
              "      <td>1.033867</td>\n",
              "      <td>-0.890037</td>\n",
              "      <td>-0.075121</td>\n",
              "      <td>0.624500</td>\n",
              "      <td>-0.263837</td>\n",
              "      <td>0.354221</td>\n",
              "      <td>M</td>\n",
              "    </tr>\n",
              "  </tbody>\n",
              "</table>\n",
              "</div>"
            ],
            "text/plain": [
              "      Bias         0         1         2  ...        10        11        12  Labels\n",
              "1075     1 -0.768841  0.302662 -1.119616  ...  0.612938 -0.409916 -0.163622       M\n",
              "1076     1 -0.461367  0.427527 -1.290991  ...  0.397372 -0.593217  0.444585       M\n",
              "1077     1 -0.635344  0.485963 -1.110414  ...  0.708195 -0.421818  0.303583       M\n",
              "1078     1 -0.976472 -0.156155 -1.189636  ...  0.321114 -0.582438  0.036633       M\n",
              "1079     1 -0.600382  0.454791 -1.028217  ...  0.624500 -0.263837  0.354221       M\n",
              "\n",
              "[5 rows x 15 columns]"
            ]
          },
          "metadata": {
            "tags": []
          },
          "execution_count": 44
        }
      ]
    },
    {
      "cell_type": "code",
      "metadata": {
        "id": "9dE_W0HcQn2m"
      },
      "source": [
        "se"
      ],
      "execution_count": null,
      "outputs": []
    },
    {
      "cell_type": "markdown",
      "metadata": {
        "id": "iMMpeWVuQcNU"
      },
      "source": [
        "#### Saving the data in a CSV file \n",
        "*(to avoid redoing everything we did earlier)*"
      ]
    },
    {
      "cell_type": "code",
      "metadata": {
        "id": "iTeeVpxhQ0LV"
      },
      "source": [
        "normalised_train.to_csv(r'/content/drive/MyDrive/Colab Notebooks/ML-Project/train_GR.csv')\n",
        "normalised_valid.to_csv(r'/content/drive/MyDrive/Colab Notebooks/ML-Project/valid_GR.csv')\n",
        "normalised_test.to_csv(r'/content/drive/MyDrive/Colab Notebooks/ML-Project/test_GR.csv')"
      ],
      "execution_count": 45,
      "outputs": []
    },
    {
      "cell_type": "markdown",
      "metadata": {
        "id": "mNgBgLnrQzn9"
      },
      "source": [
        "#### In case of restart, start here"
      ]
    },
    {
      "cell_type": "markdown",
      "metadata": {
        "id": "MKMWQhKJSYD1"
      },
      "source": [
        "##### Read data"
      ]
    },
    {
      "cell_type": "code",
      "metadata": {
        "id": "_0Wy6atsSKCD"
      },
      "source": [
        "normalised_train=pd.read_csv('/content/drive/MyDrive/Colab Notebooks/ML-Project/train_GR.csv')\n",
        "normalised_valid=pd.read_csv('/content/drive/MyDrive/Colab Notebooks/ML-Project/train_GR.csv')\n",
        "normalised_test=pd.read_csv('/content/drive/MyDrive/Colab Notebooks/ML-Project/train_GR.csv')\n",
        "\n",
        "# normalised_train=normalised_train.drop('Unnamed: 0',axis=1)\n",
        "# normalised_test=normalised_test.drop('Unnamed: 0',axis=1)\n",
        "# normalised_valid=normalised_valid.drop('Unnamed: 0',axis=1)\n",
        "\n",
        "normalised_train.head(5)"
      ],
      "execution_count": null,
      "outputs": []
    },
    {
      "cell_type": "markdown",
      "metadata": {
        "id": "zKBW3jthSudX"
      },
      "source": [
        "## Encoding"
      ]
    },
    {
      "cell_type": "code",
      "metadata": {
        "colab": {
          "base_uri": "https://localhost:8080/"
        },
        "id": "NwOo_8hkqIrj",
        "outputId": "66614eeb-674e-4cf1-ff96-95d7035d3262"
      },
      "source": [
        "encoded_labels_test = pd.get_dummies(normalised_test['Labels'])\n",
        "encoded_labels_train = pd.get_dummies(normalised_train['Labels'])\n",
        "encoded_labels_valid = pd.get_dummies(normalised_valid['Labels'])\n",
        "labels=encoded_labels_train.columns\n",
        "encoded_labels_train.shape"
      ],
      "execution_count": 46,
      "outputs": [
        {
          "output_type": "execute_result",
          "data": {
            "text/plain": [
              "(1080, 2)"
            ]
          },
          "metadata": {
            "tags": []
          },
          "execution_count": 46
        }
      ]
    },
    {
      "cell_type": "code",
      "metadata": {
        "id": "v5CLn5LGTXmi"
      },
      "source": [
        "X_train=normalised_train.to_numpy()[:,0:14]\n",
        "# Y_train=normalised_train.to_numpy()[:,-1]\n",
        "X_test=normalised_test.to_numpy()[:,0:14]\n",
        "Y_test=normalised_test.to_numpy()[:,-1]\n",
        "X_valid=normalised_valid.to_numpy()[:,0:14]\n",
        "# Y_valid=normalised_valid.to_numpy()[:,-1]"
      ],
      "execution_count": 58,
      "outputs": []
    },
    {
      "cell_type": "markdown",
      "metadata": {
        "id": "4Ys4MA2wVZVz"
      },
      "source": [
        "## Multinomial Logistic Regression"
      ]
    },
    {
      "cell_type": "markdown",
      "metadata": {
        "id": "x0O5O28tVoE7"
      },
      "source": [
        "#### Softmax"
      ]
    },
    {
      "cell_type": "code",
      "metadata": {
        "id": "ALs6Hjn3VnXQ"
      },
      "source": [
        "def softmax(x):\n",
        "    x=np.array(x, dtype=float)\n",
        "    # print(x)\n",
        "    return np.exp(x+0.001) / np.sum(np.exp(x+0.001), axis=0)"
      ],
      "execution_count": 48,
      "outputs": []
    },
    {
      "cell_type": "markdown",
      "metadata": {
        "id": "WAZ53XiwVwqS"
      },
      "source": [
        "#### Cost (Cross Entropy)"
      ]
    },
    {
      "cell_type": "code",
      "metadata": {
        "id": "GfnA7cYVVzpb"
      },
      "source": [
        "\"def cross_entropy_loss(X,Y,theta):\n",
        "  m=X_train.shape[0]\n",
        "  output = np.dot(X,theta)\n",
        "  predictions=np.apply_along_axis(softmax,1,output)\n",
        "  predictions=np.log(predictions+0.001) \n",
        "  output=(np.multiply(predictions,Y))*-1\n",
        "  output=output.sum(axis=1)\n",
        "  return np.sum(output)/(m)"
      ],
      "execution_count": 49,
      "outputs": []
    },
    {
      "cell_type": "markdown",
      "metadata": {
        "id": "niZyXOyVV6Qw"
      },
      "source": [
        "#### Gradient Descent"
      ]
    },
    {
      "cell_type": "code",
      "metadata": {
        "id": "9CSnpE1yV_T8"
      },
      "source": [
        "def gradient_descent(X,X_valid,theta,Y,Y_valid,alpha,iterations):\n",
        "  # X holds training data and is in the shape (m,f)\n",
        "  # where m is training examples and f is features\n",
        "  # theta are weight matrixes in the shape (f,c)\n",
        "  # where f are features and c is number of classes\n",
        "  # Y is our onehot encoded label matrix in the shape(m,c) where m is exmaples\n",
        "  # c is classes\n",
        "  m=X_train.shape[0]\n",
        "  training_cost=[]\n",
        "  validation_cost=[]\n",
        "  for epoch in range(iterations):\n",
        "    # calculate output\n",
        "    output = np.dot(X,theta)\n",
        "    # output is (m,c)\n",
        "    #put them through softmax to get predictions\n",
        "    predictions=np.apply_along_axis(softmax,1,output) \n",
        "    # now we will calculate error\n",
        "    error=np.array(predictions-Y)\n",
        "    # create an array for the derivatives\n",
        "    # djs will have shape (c,f)\n",
        "    djs=[]\n",
        "    for i in range(X.shape[1]):\n",
        "      # we will multiply every column of the error with the column of x\n",
        "      a = error * X[:,i][:, None]\n",
        "      b=(a.sum(axis=0))/m\n",
        "      # b is going to be an array of c elements\n",
        "      # we are going to append b to the djs array so get an array of (14,c)\n",
        "      djs.append(b)\n",
        "    # update\n",
        "    djs=np.array(djs)\n",
        "    theta=theta-(alpha*djs)\n",
        "    # calculate training costs\n",
        "    # calculate validation costs\n",
        "    # append and return that\n",
        "    training_cost.append(cross_entropy_loss(X,Y,theta))\n",
        "    validation_cost.append(cross_entropy_loss(X_valid,Y_valid,theta))\n",
        "  return theta,training_cost, validation_cost  \n"
      ],
      "execution_count": 50,
      "outputs": []
    },
    {
      "cell_type": "markdown",
      "metadata": {
        "id": "Ij2GZlpKW_jL"
      },
      "source": [
        "#### Predict Results"
      ]
    },
    {
      "cell_type": "code",
      "metadata": {
        "id": "IXtcncc-XFKb"
      },
      "source": [
        "def predict(X,theta,labels):\n",
        "  output = np.dot(X,theta)\n",
        "  predictions=np.apply_along_axis(softmax,1,output)\n",
        "  answers=np.apply_along_axis(np.argmax,1,predictions)\n",
        "  results=[labels[l] for l in answers]\n",
        "  return results"
      ],
      "execution_count": 60,
      "outputs": []
    },
    {
      "cell_type": "markdown",
      "metadata": {
        "id": "3wRo1ukLWihA"
      },
      "source": [
        "#### Loss Plotting"
      ]
    },
    {
      "cell_type": "code",
      "metadata": {
        "id": "j2Vb4iRzWnaX"
      },
      "source": [
        "def plotting(training_cost, validation_cost):\n",
        "  plt.plot(training_cost,label=\"training\")\n",
        "  plt.plot(validation_cost,label=\"validation\")\n",
        "  plt.legend()\n",
        "  plt.xlabel('epochs')\n",
        "  plt.ylabel('costs')\n",
        "  plt.title('Multinomial logistic regression costs')\n",
        "  plt.show()"
      ],
      "execution_count": 51,
      "outputs": []
    },
    {
      "cell_type": "markdown",
      "metadata": {
        "id": "B5hprzQGW2xa"
      },
      "source": [
        "#### Report Results"
      ]
    },
    {
      "cell_type": "code",
      "metadata": {
        "id": "xPHQOJ8oW14p"
      },
      "source": [
        "def report(X_test, theta, Y_test):\n",
        "  pred=predict(X_test,theta,labels)\n",
        "  print(\"Prediction Accuracy is %.2f %%\"% accuracy_score(Y_test, pred))\n",
        "  print(\"Confusion Matrix:\\n\", confusion_matrix(Y_test, pred))\n",
        "  print(\"Classification Report:\\n\", classification_report(Y_test, pred))"
      ],
      "execution_count": 53,
      "outputs": []
    },
    {
      "cell_type": "markdown",
      "metadata": {
        "id": "jyARNMn1WLKM"
      },
      "source": [
        "#### Validation"
      ]
    },
    {
      "cell_type": "code",
      "metadata": {
        "id": "BkwigTXHWI-e"
      },
      "source": [
        "def validation(hyperParameters, X_train, X_valid, encoded_labels_train, encoded_labels_valid, X_test, Y_test):\n",
        "  for parameters in hyperParameters:\n",
        "    theta= np.random.rand(14,2) # (13 features + bias, 2 classes)\n",
        "    iterations=parameters[0]\n",
        "    alpha=parameters[1]\n",
        "    theta,training_cost,validation_cost=gradient_descent(X_train,X_valid,theta,encoded_labels_train,encoded_labels_valid,alpha,iterations)\n",
        "    \n",
        "    print(\"_______________________________________________\")\n",
        "    print(\"Learning Rate: \", alpha)\n",
        "    print(\"Epochs: \", iterations)\n",
        "    \n",
        "    plotting(training_cost, validation_cost)\n",
        "    report(X_test, theta, Y_test)"
      ],
      "execution_count": 62,
      "outputs": []
    },
    {
      "cell_type": "markdown",
      "metadata": {
        "id": "intNn684ZxtQ"
      },
      "source": [
        "#### Tuning Hyperparameters"
      ]
    },
    {
      "cell_type": "code",
      "metadata": {
        "colab": {
          "base_uri": "https://localhost:8080/",
          "height": 1000
        },
        "id": "WbXOs8pRZ3TT",
        "outputId": "fa1e7f35-7212-4833-c6fc-a9279f6db62d"
      },
      "source": [
        "hyperParameters = [[250, 0.1], [500, 0.1], [1000, 0.1], [250, 0.01], [500, 0.01], [1000, 0.01], [250, 0.001], [500, 0.001], [1000, 0.001]]\n",
        "validation(hyperParameters, X_train, X_valid, encoded_labels_train, encoded_labels_valid, X_test, Y_test)"
      ],
      "execution_count": 64,
      "outputs": [
        {
          "output_type": "stream",
          "text": [
            "_______________________________________________\n",
            "Learning Rate:  0.1\n",
            "Epochs:  250\n"
          ],
          "name": "stdout"
        },
        {
          "output_type": "display_data",
          "data": {
            "image/png": "[encoded data removed]",
            "text/plain": [
              "<Figure size 432x288 with 1 Axes>"
            ]
          },
          "metadata": {
            "tags": [],
            "needs_background": "light"
          }
        },
        {
          "output_type": "stream",
          "text": [
            "Prediction Accuracy is 0.84 %\n",
            "Confusion Matrix:\n",
            " [[ 23  17]\n",
            " [ 11 119]]\n",
            "Classification Report:\n",
            "               precision    recall  f1-score   support\n",
            "\n",
            "           F       0.68      0.57      0.62        40\n",
            "           M       0.88      0.92      0.89       130\n",
            "\n",
            "    accuracy                           0.84       170\n",
            "   macro avg       0.78      0.75      0.76       170\n",
            "weighted avg       0.83      0.84      0.83       170\n",
            "\n",
            "_______________________________________________\n",
            "Learning Rate:  0.1\n",
            "Epochs:  500\n"
          ],
          "name": "stdout"
        },
        {
          "output_type": "display_data",
          "data": {
            "image/png": "[encoded data removed]",
            "text/plain": [
              "<Figure size 432x288 with 1 Axes>"
            ]
          },
          "metadata": {
            "tags": [],
            "needs_background": "light"
          }
        },
        {
          "output_type": "stream",
          "text": [
            "Prediction Accuracy is 0.84 %\n",
            "Confusion Matrix:\n",
            " [[ 23  17]\n",
            " [ 11 119]]\n",
            "Classification Report:\n",
            "               precision    recall  f1-score   support\n",
            "\n",
            "           F       0.68      0.57      0.62        40\n",
            "           M       0.88      0.92      0.89       130\n",
            "\n",
            "    accuracy                           0.84       170\n",
            "   macro avg       0.78      0.75      0.76       170\n",
            "weighted avg       0.83      0.84      0.83       170\n",
            "\n",
            "_______________________________________________\n",
            "Learning Rate:  0.1\n",
            "Epochs:  1000\n"
          ],
          "name": "stdout"
        },
        {
          "output_type": "display_data",
          "data": {
            "image/png": "[encoded data removed]",
            "text/plain": [
              "<Figure size 432x288 with 1 Axes>"
            ]
          },
          "metadata": {
            "tags": [],
            "needs_background": "light"
          }
        },
        {
          "output_type": "stream",
          "text": [
            "Prediction Accuracy is 0.84 %\n",
            "Confusion Matrix:\n",
            " [[ 23  17]\n",
            " [ 11 119]]\n",
            "Classification Report:\n",
            "               precision    recall  f1-score   support\n",
            "\n",
            "           F       0.68      0.57      0.62        40\n",
            "           M       0.88      0.92      0.89       130\n",
            "\n",
            "    accuracy                           0.84       170\n",
            "   macro avg       0.78      0.75      0.76       170\n",
            "weighted avg       0.83      0.84      0.83       170\n",
            "\n",
            "_______________________________________________\n",
            "Learning Rate:  0.01\n",
            "Epochs:  250\n"
          ],
          "name": "stdout"
        },
        {
          "output_type": "display_data",
          "data": {
            "image/png": "[encoded data removed]",
            "text/plain": [
              "<Figure size 432x288 with 1 Axes>"
            ]
          },
          "metadata": {
            "tags": [],
            "needs_background": "light"
          }
        },
        {
          "output_type": "stream",
          "text": [
            "Prediction Accuracy is 0.84 %\n",
            "Confusion Matrix:\n",
            " [[ 22  18]\n",
            " [ 10 120]]\n",
            "Classification Report:\n",
            "               precision    recall  f1-score   support\n",
            "\n",
            "           F       0.69      0.55      0.61        40\n",
            "           M       0.87      0.92      0.90       130\n",
            "\n",
            "    accuracy                           0.84       170\n",
            "   macro avg       0.78      0.74      0.75       170\n",
            "weighted avg       0.83      0.84      0.83       170\n",
            "\n",
            "_______________________________________________\n",
            "Learning Rate:  0.01\n",
            "Epochs:  500\n"
          ],
          "name": "stdout"
        },
        {
          "output_type": "display_data",
          "data": {
            "image/png": "[encoded data removed]",
            "text/plain": [
              "<Figure size 432x288 with 1 Axes>"
            ]
          },
          "metadata": {
            "tags": [],
            "needs_background": "light"
          }
        },
        {
          "output_type": "stream",
          "text": [
            "Prediction Accuracy is 0.88 %\n",
            "Confusion Matrix:\n",
            " [[ 30  10]\n",
            " [ 10 120]]\n",
            "Classification Report:\n",
            "               precision    recall  f1-score   support\n",
            "\n",
            "           F       0.75      0.75      0.75        40\n",
            "           M       0.92      0.92      0.92       130\n",
            "\n",
            "    accuracy                           0.88       170\n",
            "   macro avg       0.84      0.84      0.84       170\n",
            "weighted avg       0.88      0.88      0.88       170\n",
            "\n",
            "_______________________________________________\n",
            "Learning Rate:  0.01\n",
            "Epochs:  1000\n"
          ],
          "name": "stdout"
        },
        {
          "output_type": "display_data",
          "data": {
            "image/png": "[encoded data removed]",
            "text/plain": [
              "<Figure size 432x288 with 1 Axes>"
            ]
          },
          "metadata": {
            "tags": [],
            "needs_background": "light"
          }
        },
        {
          "output_type": "stream",
          "text": [
            "Prediction Accuracy is 0.82 %\n",
            "Confusion Matrix:\n",
            " [[ 21  19]\n",
            " [ 11 119]]\n",
            "Classification Report:\n",
            "               precision    recall  f1-score   support\n",
            "\n",
            "           F       0.66      0.53      0.58        40\n",
            "           M       0.86      0.92      0.89       130\n",
            "\n",
            "    accuracy                           0.82       170\n",
            "   macro avg       0.76      0.72      0.74       170\n",
            "weighted avg       0.81      0.82      0.82       170\n",
            "\n",
            "_______________________________________________\n",
            "Learning Rate:  0.001\n",
            "Epochs:  250\n"
          ],
          "name": "stdout"
        },
        {
          "output_type": "display_data",
          "data": {
            "image/png": "[encoded data removed]",
            "text/plain": [
              "<Figure size 432x288 with 1 Axes>"
            ]
          },
          "metadata": {
            "tags": [],
            "needs_background": "light"
          }
        },
        {
          "output_type": "stream",
          "text": [
            "Prediction Accuracy is 0.59 %\n",
            "Confusion Matrix:\n",
            " [[35  5]\n",
            " [64 66]]\n",
            "Classification Report:\n",
            "               precision    recall  f1-score   support\n",
            "\n",
            "           F       0.35      0.88      0.50        40\n",
            "           M       0.93      0.51      0.66       130\n",
            "\n",
            "    accuracy                           0.59       170\n",
            "   macro avg       0.64      0.69      0.58       170\n",
            "weighted avg       0.79      0.59      0.62       170\n",
            "\n",
            "_______________________________________________\n",
            "Learning Rate:  0.001\n",
            "Epochs:  500\n"
          ],
          "name": "stdout"
        },
        {
          "output_type": "display_data",
          "data": {
            "image/png": "[encoded data removed]",
            "text/plain": [
              "<Figure size 432x288 with 1 Axes>"
            ]
          },
          "metadata": {
            "tags": [],
            "needs_background": "light"
          }
        },
        {
          "output_type": "stream",
          "text": [
            "Prediction Accuracy is 0.69 %\n",
            "Confusion Matrix:\n",
            " [[28 12]\n",
            " [41 89]]\n",
            "Classification Report:\n",
            "               precision    recall  f1-score   support\n",
            "\n",
            "           F       0.41      0.70      0.51        40\n",
            "           M       0.88      0.68      0.77       130\n",
            "\n",
            "    accuracy                           0.69       170\n",
            "   macro avg       0.64      0.69      0.64       170\n",
            "weighted avg       0.77      0.69      0.71       170\n",
            "\n",
            "_______________________________________________\n",
            "Learning Rate:  0.001\n",
            "Epochs:  1000\n"
          ],
          "name": "stdout"
        },
        {
          "output_type": "display_data",
          "data": {
            "image/png": "[encoded data removed]",
            "text/plain": [
              "<Figure size 432x288 with 1 Axes>"
            ]
          },
          "metadata": {
            "tags": [],
            "needs_background": "light"
          }
        },
        {
          "output_type": "stream",
          "text": [
            "Prediction Accuracy is 0.91 %\n",
            "Confusion Matrix:\n",
            " [[ 35   5]\n",
            " [ 10 120]]\n",
            "Classification Report:\n",
            "               precision    recall  f1-score   support\n",
            "\n",
            "           F       0.78      0.88      0.82        40\n",
            "           M       0.96      0.92      0.94       130\n",
            "\n",
            "    accuracy                           0.91       170\n",
            "   macro avg       0.87      0.90      0.88       170\n",
            "weighted avg       0.92      0.91      0.91       170\n",
            "\n"
          ],
          "name": "stdout"
        }
      ]
    },
    {
      "cell_type": "markdown",
      "metadata": {
        "id": "VGUzxs6ZdFAf"
      },
      "source": [
        "## Analysis"
      ]
    },
    {
      "cell_type": "markdown",
      "metadata": {
        "id": "5Ot2ehcwdHTX"
      },
      "source": [
        "The validation is done on a wide range of hypermeters (not just the ones in above code block). It seems the best results we get keeping in mind both Accuracy and F1 Score are with the hyperparameters: *learning rate = 0.001, number of epochs = 1000*"
      ]
    },
    {
      "cell_type": "code",
      "metadata": {
        "id": "6-QUd_hBZxXb"
      },
      "source": [
        "finalParameters = [[1000, 0.001]]\n",
        "validation(finalParameters, X_train, X_valid, encoded_labels_train, encoded_labels_valid, X_test, Y_test)"
      ],
      "execution_count": null,
      "outputs": []
    },
    {
      "cell_type": "markdown",
      "metadata": {
        "id": "CbTnszFtd3rz"
      },
      "source": [
        "#### Results"
      ]
    },
    {
      "cell_type": "markdown",
      "metadata": {
        "id": "djnqXULhd6Gy"
      },
      "source": [
        "*   Accuracy: 0.91\n",
        "*   F1 Score (macro avg): 0.88\n",
        "\n",
        "![Capture.JPG](data:image/jpeg;base64,/9j/4AAQSkZJRgABAQEAeAB4AAD/4REQRXhpZgAATU0AKgAAAAgABAE7AAIAAAAXAAAISodpAAQAAAABAAAIYpydAAEAAAAuAAAQ2uocAAcAAAgMAAAAPgAAAAAc6gAAAAgAAAAAAAAAAAAAAAAAAAAAAAAAAAAAAAAAAAAAAAAAAAAAAAAAAAAAAAAAAAAAAAAAAAAAAAAAAAAAAAAAAAAAAAAAAAAAAAAAAAAAAAAAAAAAAAAAAAAAAAAAAAAAAAAAAAAAAAAAAAAAAAAAAAAAAAAAAAAAAAAAAAAAAAAAAAAAAAAAAAAAAAAAAAAAAAAAAAAAAAAAAAAAAAAAAAAAAAAAAAAAAAAAAAAAAAAAAAAAAAAAAAAAAAAAAAAAAAAAAAAAAAAAAAAAAAAAAAAAAAAAAAAAAAAAAAAAAAAAAAAAAAAAAAAAAAAAAAAAAAAAAAAAAAAAAAAAAAAAAAAAAAAAAAAAAAAAAAAAAAAAAAAAAAAAAAAAAAAAAAAAAAAAAAAAAAAAAAAAAAAAAAAAAAAAAAAAAAAAAAAAAAAAAAAAAAAAAAAAAAAAAAAAAAAAAAAAAAAAAAAAAAAAAAAAAAAAAAAAAAAAAAAAAAAAAAAAAAAAAAAAAAAAAAAAAAAAAAAAAAAAAAAAAAAAAAAAAAAAAAAAAAAAAAAAAAAAAAAAAAAAAAAAAAAAAAAAAAAAAAAAAAAAAAAAAAAAAAAAAAAAAAAAAAAAAAAAAAAAAAAAAAAAAAAAAAAAAAAAAAAAAAAAAAAAAAAAAAAAAAAAAAAAAAAAAAAAAAAAAAAAAAAAAAAAAAAAAAAAAAAAAAAAAAAAAAAAAAAAAAAAAAAAAAAAAAAAAAAAAAAAAAAAAAAAAAAAAAAAAAAAAAAAAAAAAAAAAAAAAAAAAAAAAAAAAAAAAAAAAAAAAAAAAAAAAAAAAAAAAAAAAAAAAAAAAAAAAAAAAAAAAAAAAAAAAAAAAAAAAAAAAAAAAAAAAAAAAAAAAAAAAAAAAAAAAAAAAAAAAAAAAAAAAAAAAAAAAAAAAAAAAAAAAAAAAAAAAAAAAAAAAAAAAAAAAAAAAAAAAAAAAAAAAAAAAAAAAAAAAAAAAAAAAAAAAAAAAAAAAAAAAAAAAAAAAAAAAAAAAAAAAAAAAAAAAAAAAAAAAAAAAAAAAAAAAAAAAAAAAAAAAAAAAAAAAAAAAAAAAAAAAAAAAAAAAAAAAAAAAAAAAAAAAAAAAAAAAAAAAAAAAAAAAAAAAAAAAAAAAAAAAAAAAAAAAAAAAAAAAAAAAAAAAAAAAAAAAAAAAAAAAAAAAAAAAAAAAAAAAAAAAAAAAAAAAAAAAAAAAAAAAAAAAAAAAAAAAAAAAAAAAAAAAAAAAAAAAAAAAAAAAAAAAAAAAAAAAAAAAAAAAAAAAAAAAAAAAAAAAAAAAAAAAAAAAAAAAAAAAAAAAAAAAAAAAAAAAAAAAAAAAAAAAAAAAAAAAAAAAAAAAAAAAAAAAAAAAAAAAAAAAAAAAAAAAAAAAAAAAAAAAAAAAAAAAAAAAAAAAAAAAAAAAAAAAAAAAAAAAAAAAAAAAAAAAAAAAAAAAAAAAAAAAAAAAAAAAAAAAAAAAAAAAAAAAAAAAAAAAAAAAAAAAAAAAAAAAAAAAAAAAAAAAAAAAAAAAAAAAAAAAAAAAAAAAAAAAAAAAAAAAAAAAAAAAAAAAAAAAAAAAAAAAAAAAAAAAAAAAAAAAAAAAAAAAAAAAAAAAAAAAAAAAAAAAAAAAAAAAAAAAAAAAAAAAAAAAAAAAAAAAAAAAAAAAAAAAAAAAAAAAAAAAAAAAAAAAAAAAAAAAAAAAAAAAAAAAAAAAAAAAAAAAAAAAAAAAAAAAAAAAAAAAAAAAAAAAAAAAAAAAAAAAAAAAAAAAAAAAAAAAAAAAAAAAAAAAAAAAAAAAAAAAAAAAAAAAAAAAAAAAAAAAAAAAAAAAAAAAAAAAAAAAAAAAAAAAAAAAAAAAAAAAAAAAAAAAAAAAAAAAAAAAAAAAAAAAAAAAAAAAAAAAAAAAAAAAAAAAAAAAAAAAAAAAAAAAAAAAAAAAAAAAAAAAAAAAAAAAAAAAAAAAAAAAAAAAAAAAAAAAAAAAAAAAAAAAAAAAAAAAAAAAAAAAAAAAAAAAAAAAAAAAAAAAAAAAAAAAAAAAAAAAAAAAAAAAAAAAAAAAAAAAAAAAAAAAAAAAAAAAAAAAAAAAAAAAAAAAAAAAAAAAAAAAAAAAAAAAAAAAAAAAAAAAAAAAAAAAAAAAAAAAAAAAAAAAAAAAAAAAAAAAAAAAAAAAAAAAAAAAAAAAAAAAAAAAAAAAAAAAAAAAAAAAAAAAAAAAAAAAAAAAAAAAAAAAAAAAAAAAAAAAAAAAAAAAAAAAAAAAAAAAAAAAAAAAAAAAAAAAAAAAAAAAAAAAAAAAAAAAAAAAAAAAAAAAAAAAAAAAAAAAAAAAAAAAAAAAAAAAAAAAAAAAAAAAAAAAAAAAAAAAAAAAAAAAAAAAAAAAAAAAAAAAAAAAAAAAAAAAAAAAAAAAAAAAAAAAAAAAAAAAAAAAAAAAAAAAAAAAAAAAAAAAAAAAAAAAAAAAAAAAAAAAAAAAAAAAAAAAAAAAAAAAAAAAAAAAAAAAAAAAAAAAAAAAAAAAAAAAAAAAAAAAAAAAAAAAAAAAAAAAAAAAAAAAAAAAAAAAAAAAAAAAAAAAAAAAAAAAAAAAAAAAAAAAAAAAAAAAAAAAAAAAAAAAAAAAAAAAAAAAAAAAAAAAAAAAAAAAAAAAAAAAAAAAAAAAAAAAAAAAAAAAAAAAAAAAAAAAAAAAAAAAAAAAAAAAAAAAAAAAAAAAAAAAAAAAAAAAAAAAAAAAAAAAAAAAE11aGFtbWFkIE1hdGxvb2IgQWx0YWYAAAAFkAMAAgAAABQAABCwkAQAAgAAABQAABDEkpEAAgAAAAMwOAAAkpIAAgAAAAMwOAAA6hwABwAACAwAAAikAAAAABzqAAAACAAAAAAAAAAAAAAAAAAAAAAAAAAAAAAAAAAAAAAAAAAAAAAAAAAAAAAAAAAAAAAAAAAAAAAAAAAAAAAAAAAAAAAAAAAAAAAAAAAAAAAAAAAAAAAAAAAAAAAAAAAAAAAAAAAAAAAAAAAAAAAAAAAAAAAAAAAAAAAAAAAAAAAAAAAAAAAAAAAAAAAAAAAAAAAAAAAAAAAAAAAAAAAAAAAAAAAAAAAAAAAAAAAAAAAAAAAAAAAAAAAAAAAAAAAAAAAAAAAAAAAAAAAAAAAAAAAAAAAAAAAAAAAAAAAAAAAAAAAAAAAAAAAAAAAAAAAAAAAAAAAAAAAAAAAAAAAAAAAAAAAAAAAAAAAAAAAAAAAAAAAAAAAAAAAAAAAAAAAAAAAAAAAAAAAAAAAAAAAAAAAAAAAAAAAAAAAAAAAAAAAAAAAAAAAAAAAAAAAAAAAAAAAAAAAAAAAAAAAAAAAAAAAAAAAAAAAAAAAAAAAAAAAAAAAAAAAAAAAAAAAAAAAAAAAAAAAAAAAAAAAAAAAAAAAAAAAAAAAAAAAAAAAAAAAAAAAAAAAAAAAAAAAAAAAAAAAAAAAAAAAAAAAAAAAAAAAAAAAAAAAAAAAAAAAAAAAAAAAAAAAAAAAAAAAAAAAAAAAAAAAAAAAAAAAAAAAAAAAAAAAAAAAAAAAAAAAAAAAAAAAAAAAAAAAAAAAAAAAAAAAAAAAAAAAAAAAAAAAAAAAAAAAAAAAAAAAAAAAAAAAAAAAAAAAAAAAAAAAAAAAAAAAAAAAAAAAAAAAAAAAAAAAAAAAAAAAAAAAAAAAAAAAAAAAAAAAAAAAAAAAAAAAAAAAAAAAAAAAAAAAAAAAAAAAAAAAAAAAAAAAAAAAAAAAAAAAAAAAAAAAAAAAAAAAAAAAAAAAAAAAAAAAAAAAAAAAAAAAAAAAAAAAAAAAAAAAAAAAAAAAAAAAAAAAAAAAAAAAAAAAAAAAAAAAAAAAAAAAAAAAAAAAAAAAAAAAAAAAAAAAAAAAAAAAAAAAAAAAAAAAAAAAAAAAAAAAAAAAAAAAAAAAAAAAAAAAAAAAAAAAAAAAAAAAAAAAAAAAAAAAAAAAAAAAAAAAAAAAAAAAAAAAAAAAAAAAAAAAAAAAAAAAAAAAAAAAAAAAAAAAAAAAAAAAAAAAAAAAAAAAAAAAAAAAAAAAAAAAAAAAAAAAAAAAAAAAAAAAAAAAAAAAAAAAAAAAAAAAAAAAAAAAAAAAAAAAAAAAAAAAAAAAAAAAAAAAAAAAAAAAAAAAAAAAAAAAAAAAAAAAAAAAAAAAAAAAAAAAAAAAAAAAAAAAAAAAAAAAAAAAAAAAAAAAAAAAAAAAAAAAAAAAAAAAAAAAAAAAAAAAAAAAAAAAAAAAAAAAAAAAAAAAAAAAAAAAAAAAAAAAAAAAAAAAAAAAAAAAAAAAAAAAAAAAAAAAAAAAAAAAAAAAAAAAAAAAAAAAAAAAAAAAAAAAAAAAAAAAAAAAAAAAAAAAAAAAAAAAAAAAAAAAAAAAAAAAAAAAAAAAAAAAAAAAAAAAAAAAAAAAAAAAAAAAAAAAAAAAAAAAAAAAAAAAAAAAAAAAAAAAAAAAAAAAAAAAAAAAAAAAAAAAAAAAAAAAAAAAAAAAAAAAAAAAAAAAAAAAAAAAAAAAAAAAAAAAAAAAAAAAAAAAAAAAAAAAAAAAAAAAAAAAAAAAAAAAAAAAAAAAAAAAAAAAAAAAAAAAAAAAAAAAAAAAAAAAAAAAAAAAAAAAAAAAAAAAAAAAAAAAAAAAAAAAAAAAAAAAAAAAAAAAAAAAAAAAAAAAAAAAAAAAAAAAAAAAAAAAAAAAAAAAAAAAAAAAAAAAAAAAAAAAAAAAAAAAAAAAAAAAAAAAAAAAAAAAAAAAAAAAAAAAAAAAAAAAAAAAAAAAAAAAAAAAAAAAAAAAAAAAAAAAAAAAAAAAAAAAAAAAAAAAAAAAAAAAAAAAAAAAAAAAAAAAAAAAAAAAAAAAAAAAAAAAAAAAAAAAAAAAAAAAAAAAAAAAAAAAAAAAAAAAAAAAAAAAAAAAAAAAAAAAAAAAAAAAAAAAAAAAAAAAAAAAAAAAAAAAAAAAAAAAAAAAAAAAAAAAAAAAAAAAAAAAAAAAAAAAAAAAAAAAAAAAAAAAAAAAAAAAAAAAAAAAAAAAAAAAAAAAAAAAAAAAAAAAAAAAAAAAAAAAAAAAAAAAAAAAAAAAAAAAAAAAAAAAAAAAAAAAAAAAAAAAAAAAAAAAAAAAAAAAAAAAAAAAAAAAAAAAAAAAAAAAAAAAAAAAAAAAAAAAAAAAAAAAAAAAAAAAAAAAAAAAAAAAAAAAAAAAAAAAAAAAAAAAAAAAAAAAAAAAAAAAAAAAAAAAAAAAAAAAAAAAAAAAAAAAAAAAAAAAAAAAAAAAAAAAAAAAAAAAAAAAAAAAAAAAAAAAAAAAAAAAAAAAAAAAAAAAAAAAAAAAAAAAAAAAAAAAAAAAAAAAAAAAAAAAAAAAAAAAAAAAAAAAAAAAAAAAAAAAAAAAAAAAAAAAAAAAAAAAAAAAAAAAAAAAAAAAAAAAAAAAAAAAAAAAAAAAAAAAAAAAAAAAAAAAAAAAAAAAAAAAAAAAAAAAAAAAAAAAAAAAAAAAAAAAAAAAAAAAAAAAAAAAAAAAAAAAAAAAAAAAAAAAAAAAAAAAAAAAAAAAAAAAAAAAAAAAAAAAAAAAAAAAAAAAAAAAAAAAAAAAAAAAAAAAAAAAAAAAAAAAAAAAAAAAAMjAyMDoxMjowMSAyMzoxMzozNQAyMDIwOjEyOjAxIDIzOjEzOjM1AAAATQB1AGgAYQBtAG0AYQBkACAATQBhAHQAbABvAG8AYgAgAEEAbAB0AGEAZgAAAP/hCylodHRwOi8vbnMuYWRvYmUuY29tL3hhcC8xLjAvADw/eHBhY2tldCBiZWdpbj0n77u/JyBpZD0nVzVNME1wQ2VoaUh6cmVTek5UY3prYzlkJz8+DQo8eDp4bXBtZXRhIHhtbG5zOng9ImFkb2JlOm5zOm1ldGEvIj48cmRmOlJERiB4bWxuczpyZGY9Imh0dHA6Ly93d3cudzMub3JnLzE5OTkvMDIvMjItcmRmLXN5bnRheC1ucyMiPjxyZGY6RGVzY3JpcHRpb24gcmRmOmFib3V0PSJ1dWlkOmZhZjViZGQ1LWJhM2QtMTFkYS1hZDMxLWQzM2Q3NTE4MmYxYiIgeG1sbnM6ZGM9Imh0dHA6Ly9wdXJsLm9yZy9kYy9lbGVtZW50cy8xLjEvIi8+PHJkZjpEZXNjcmlwdGlvbiByZGY6YWJvdXQ9InV1aWQ6ZmFmNWJkZDUtYmEzZC0xMWRhLWFkMzEtZDMzZDc1MTgyZjFiIiB4bWxuczp4bXA9Imh0dHA6Ly9ucy5hZG9iZS5jb20veGFwLzEuMC8iPjx4bXA6Q3JlYXRlRGF0ZT4yMDIwLTEyLTAxVDIzOjEzOjM1LjA4MTwveG1wOkNyZWF0ZURhdGU+PC9yZGY6RGVzY3JpcHRpb24+PHJkZjpEZXNjcmlwdGlvbiByZGY6YWJvdXQ9InV1aWQ6ZmFmNWJkZDUtYmEzZC0xMWRhLWFkMzEtZDMzZDc1MTgyZjFiIiB4bWxuczpkYz0iaHR0cDovL3B1cmwub3JnL2RjL2VsZW1lbnRzLzEuMS8iPjxkYzpjcmVhdG9yPjxyZGY6U2VxIHhtbG5zOnJkZj0iaHR0cDovL3d3dy53My5vcmcvMTk5OS8wMi8yMi1yZGYtc3ludGF4LW5zIyI+PHJkZjpsaT5NdWhhbW1hZCBNYXRsb29iIEFsdGFmPC9yZGY6bGk+PC9yZGY6U2VxPg0KCQkJPC9kYzpjcmVhdG9yPjwvcmRmOkRlc2NyaXB0aW9uPjwvcmRmOlJERj48L3g6eG1wbWV0YT4NCiAgICAgICAgICAgICAgICAgICAgICAgICAgICAgICAgICAgICAgICAgICAgICAgICAgICAgICAgICAgICAgICAgICAgICAgICAgICAgICAgICAgICAgICAgICAgICAgICAgICAKICAgICAgICAgICAgICAgICAgICAgICAgICAgICAgICAgICAgICAgICAgICAgICAgICAgICAgICAgICAgICAgICAgICAgICAgICAgICAgICAgICAgICAgICAgICAgICAgICAgIAogICAgICAgICAgICAgICAgICAgICAgICAgICAgICAgICAgICAgICAgICAgICAgICAgICAgICAgICAgICAgICAgICAgICAgICAgICAgICAgICAgICAgICAgICAgICAgICAgICAgCiAgICAgICAgICAgICAgICAgICAgICAgICAgICAgICAgICAgICAgICAgICAgICAgICAgICAgICAgICAgICAgICAgICAgICAgICAgICAgICAgICAgICAgICAgICAgICAgICAgICAKICAgICAgICAgICAgICAgICAgICAgICAgICAgICAgICAgICAgICAgICAgICAgICAgICAgICAgICAgICAgICAgICAgICAgICAgICAgICAgICAgICAgICAgICAgICAgICAgICAgIAogICAgICAgICAgICAgICAgICAgICAgICAgICAgICAgICAgICAgICAgICAgICAgICAgICAgICAgICAgICAgICAgICAgICAgICAgICAgICAgICAgICAgICAgICAgICAgICAgICAgCiAgICAgICAgICAgICAgICAgICAgICAgICAgICAgICAgICAgICAgICAgICAgICAgICAgICAgICAgICAgICAgICAgICAgICAgICAgICAgICAgICAgICAgICAgICAgICAgICAgICAKICAgICAgICAgICAgICAgICAgICAgICAgICAgICAgICAgICAgICAgICAgICAgICAgICAgICAgICAgICAgICAgICAgICAgICAgICAgICAgICAgICAgICAgICAgICAgICAgICAgIAogICAgICAgICAgICAgICAgICAgICAgICAgICAgICAgICAgICAgICAgICAgICAgICAgICAgICAgICAgICAgICAgICAgICAgICAgICAgICAgICAgICAgICAgICAgICAgICAgICAgCiAgICAgICAgICAgICAgICAgICAgICAgICAgICAgICAgICAgICAgICAgICAgICAgICAgICAgICAgICAgICAgICAgICAgICAgICAgICAgICAgICAgICAgICAgICAgICAgICAgICAKICAgICAgICAgICAgICAgICAgICAgICAgICAgICAgICAgICAgICAgICAgICAgICAgICAgICAgICAgICAgICAgICAgICAgICAgICAgICAgICAgICAgICAgICAgICAgICAgICAgIAogICAgICAgICAgICAgICAgICAgICAgICAgICAgICAgICAgICAgICAgICAgICAgICAgICAgICAgICAgICAgICAgICAgICAgICAgICAgICAgICAgICAgICAgICAgICAgICAgICAgCiAgICAgICAgICAgICAgICAgICAgICAgICAgICAgICAgICAgICAgICAgICAgICAgICAgICAgICAgICAgICAgICAgICAgICAgICAgICAgICAgICAgICAgICAgICAgICAgICAgICAKICAgICAgICAgICAgICAgICAgICAgICAgICAgICAgICAgICAgICAgICAgICAgICAgICAgICAgICAgICAgICAgICAgICAgICAgICAgICAgICAgICAgICAgICAgICAgICAgICAgIAogICAgICAgICAgICAgICAgICAgICAgICAgICAgICAgICAgICAgICAgICAgICAgICAgICAgICAgICAgICAgICAgICAgICAgICAgICAgICAgICAgICAgICAgICAgICAgICAgICAgCiAgICAgICAgICAgICAgICAgICAgICAgICAgICAgICAgICAgICAgICAgICAgICAgICAgICAgICAgICAgICAgICAgICAgICAgICAgICAgICAgICAgICAgICAgICAgICAgICAgICAKICAgICAgICAgICAgICAgICAgICAgICAgICAgICAgICAgICAgICAgICAgICAgICAgICAgICAgICAgICAgICAgICAgICAgICAgICAgICAgICAgICAgICAgICAgICAgICAgICAgIAogICAgICAgICAgICAgICAgICAgICAgICAgICAgICAgICAgICAgICAgICAgICAgICAgICAgICAgICAgICAgICAgICAgICAgICAgICAgICAgICAgICAgICAgICAgICAgICAgICAgCiAgICAgICAgICAgICAgICAgICAgICAgICAgICAgICAgICAgICAgICAgICAgICAgICAgICAgICAgICAgICAgICAgICAgICAgICAgICAgICAgICAgICAgICAgICAgICAgICAgICAKICAgICAgICAgICAgICAgICAgICAgICAgICAgICAgICAgICAgICAgICAgICAgICAgICAgICAgICAgICAgICAgICAgICAgICAgICAgICAgICAgICAgICAgICAgICAgICAgICAgIAogICAgICAgICAgICAgICAgICAgICAgICAgICAgPD94cGFja2V0IGVuZD0ndyc/Pv/bAEMABwUFBgUEBwYFBggHBwgKEQsKCQkKFQ8QDBEYFRoZGBUYFxseJyEbHSUdFxgiLiIlKCkrLCsaIC8zLyoyJyorKv/bAEMBBwgICgkKFAsLFCocGBwqKioqKioqKioqKioqKioqKioqKioqKioqKioqKioqKioqKioqKioqKioqKioqKioqKv/AABEIAnUB3wMBIgACEQEDEQH/xAAfAAABBQEBAQEBAQAAAAAAAAAAAQIDBAUGBwgJCgv/xAC1EAACAQMDAgQDBQUEBAAAAX0BAgMABBEFEiExQQYTUWEHInEUMoGRoQgjQrHBFVLR8CQzYnKCCQoWFxgZGiUmJygpKjQ1Njc4OTpDREVGR0hJSlNUVVZXWFlaY2RlZmdoaWpzdHV2d3h5eoOEhYaHiImKkpOUlZaXmJmaoqOkpaanqKmqsrO0tba3uLm6wsPExcbHyMnK0tPU1dbX2Nna4eLj5OXm5+jp6vHy8/T19vf4+fr/xAAfAQADAQEBAQEBAQEBAAAAAAAAAQIDBAUGBwgJCgv/xAC1EQACAQIEBAMEBwUEBAABAncAAQIDEQQFITEGEkFRB2FxEyIygQgUQpGhscEJIzNS8BVictEKFiQ04SXxFxgZGiYnKCkqNTY3ODk6Q0RFRkdISUpTVFVWV1hZWmNkZWZnaGlqc3R1dnd4eXqCg4SFhoeIiYqSk5SVlpeYmZqio6Slpqeoqaqys7S1tre4ubrCw8TFxsfIycrS09TV1tfY2dri4+Tl5ufo6ery8/T19vf4+fr/2gAMAwEAAhEDEQA/APItP/492/3v6Ct+O40ARqJdM1JnwNzLqMagnuQPIOPzNYGn/wDHu3+9/QV0N3pUEHhXTtTRpDNdTzRupI2gJtxjjP8AEe9VLdj62/ruH2nw7/0C9U/8GUf/AMYo+0+Hf+gXqn/gyj/+MUzT/D2papbie0hj8ppBEjzTxwiR/wC6u9huPsM0210DUbuSZEhSEwyeVJ9pmSAB+fkzIRluDx1qfIXmS/afDv8A0C9U/wDBlH/8Yo+0+Hf+gXqn/gyj/wDjFOh8Ka3NPexLYlXsGC3XmSIghznBJYgbcAnd0x35pyeENce6uIFshvto0llYzRhFRuj7t20r7g4HegCP7T4d/wCgXqn/AIMo/wD4xR9p8O/9AvVP/BlH/wDGKBoN7Z6vbW19BB+8VZ1V7yJI5o/aXdt5wRkGrF9oN5f+LLvTdK0c2k0eW+wLcCUxhVBIDk/N6/jQBX+0+Hf+gXqn/gyj/wDjFH2nw7/0C9U/8GUf/wAYptx4b1W2ktEa2WU3jlLc28yTLIwOCoKEjIJHFOvvDGqabp73t1Hbi3SXyWeO8hkw/dcK5OR3HagPIPtPh3/oF6p/4Mo//jFH2nw720vVP/BlH/8AGKzbeMS3UUbZAdwpx7muz8R+D9P0mz1aRYtRsjYyoltLeSKyX24kEINinIHOQWGAc0PRX/r+tQWrsc99p8O/9AvVP/BlH/8AGKPtPh3/AKBeqf8Agyj/APjFNXw1qj2L3SQRukcPnvGtxGZVj4+cx7t4GCDnHQ56VpXHhB4/DNjfx3Fr9onklEgfUbcIFULt2ndyeTkZJHHAo2Dexn/afDv/AEC9U/8ABlH/APGKPtPh3/oF6p/4Mo//AIxSWXhrVtQtI7i1tlZJt3kq0yI82372xGYM+P8AZB5461XsdHvtSiu5LODzEsojNcEsq7EHU8kZ+g5oAs/afDv/AEC9U/8ABlH/APGKPtPh3/oF6p/4Mo//AIxWTRQBrfafDv8A0C9U/wDBlH/8Yo+0+Hf+gXqn/gyj/wDjFS6Do9re2OoajqJna3slRRDbkCSaRyQigkEDoSTg/SpfFXhv+wWsZY1mjhvoBKIbggyQsOGRiAASD7A84IBFD0Aq/afDv/QL1T/wZR//ABij7T4d/wCgXqn/AIMo/wD4xR4d0iLV9QlF5K8VpaW73Vw0Yy5jQchc8ZOQBn1/CuhTwJHfQ6PdWwutOt7+R45orxlkeIKpfeCFXIKKSAQOncHNPzA577T4d/6Beqf+DKP/AOMUfafDv/QL1T/wZR//ABite68L2M/h0a1YC80+0W7WFzfsJN8THCzLsUHAOQRg+xOCKo+JNF0/TNN0i60ua5mS+hd2a4CqSVbbkKPug+mT9al6f15XArfafDvbS9U/8GUf/wAYo+0+Hf8AoF6p/wCDKP8A+MVk0UwNb7T4d/6Beqf+DKP/AOMUfafDv/QL1T/wZR//ABismigDW+0+Hf8AoF6p/wCDKP8A+MUfafDv/QL1T/wZR/8AxismigDW+0+Hf+gXqn/gyj/+MUfafDv/AEC9U/8ABlH/APGKyaKANb7T4d/6Beqf+DKP/wCMUfafDv8A0C9U/wDBlH/8YrJooA1vtPh3/oF6p/4Mo/8A4xR9p8O/9AvVP/BlH/8AGKyaKANb7T4d/wCgXqn/AIMo/wD4xR9p8O/9AvVP/BlH/wDGKyaKANb7T4d/6Beqf+DKP/4xR9p8O/8AQL1T/wAGUf8A8YrJooA1vtPh3/oF6p/4Mo//AIxR9p8O/wDQL1T/AMGUf/xismigDW+0+Hf+gXqn/gyj/wDjFH2nw7/0C9U/8GUf/wAYrJooA1vtPh3/AKBeqf8Agyj/APjFH2nw7/0C9U/8GUf/AMYrJooA1vtPh3/oF6p/4Mo//jFH2nw7/wBAvVP/AAZR/wDxismigDW+0+Hf+gXqn/gyj/8AjFH2nw7/ANAvVP8AwZR//GKyaKANb7T4d/6Beqf+DKP/AOMUfafDvbS9U/8ABlH/APGKyaKAA9eKKKKACiiigAooooAKKKKAKmn/APHu3+9/QV1aahpF34VsdMv5722mtJ5ZN0FqkqsH2+si4xtrlNP/AOPdv97+grbtNA1i/t1uLHSb65hYkCSG2d1OOvIGKqW7B73N6x8TWEWg2umyvJC1jNI0M50y3uvMRjnlZD8jA/3SR+WaS18R6W/22XU/Nlv7i8EzXrabbztLFjGzY52xnPOVz+OK5NlZHKupVlOCCMEGkqU+oW6HX6z4tsdRj8SCCG4Q6tJbPCGVflEf3g2D+WM/hWbp/iDydB1eyvnuJ5by3hgt2J3CNUfdg5PAx0ArCq1babd3dnd3VvFvgs1Vp23AbAxwOCcnn0o/r8LD6pmrf6ppmrNpKXMl3bR2VglvI8cCyFnVieAXXjnrnPtWtJ4q0dPGl5rdub6SO8gmRont0UxsybVwRIcj16Y964qih6/j+O4u3lb8DtfCGpQ3V/4Z0yMMs9nfTTOzsFVgwUgA8kn5TxgZyBnnIl8T2bjwq7pBJpNul4Jfsdzp7WrXEjDBZN0shO0dhgAGuFooeq/ry/yBaf16/wCZJbyCK6ikbJCOGOPY10+reJ7HVn16KaO5Ftezi7sjtXdFKOPmGejKSDgnGBwa5SppLO5htYbmW3lSCfPlSshCyY4O09Dj2o3X9f10BbnZxeLdBtbW6WztZYBPp5tVt0sIB5bmPBYz58xwW9cdfbFYkepaXd+FbbS9Rku7ea0nkljkggWVXDheCC6kHK+9ZjaTqSacNQbT7pbI9Lkwt5Z5x97GOvFEekalLp7X0Wn3T2a53XCwMYxjrlsYofX+vMF0/rpY6i38X2jabpavLJY3mnxCISJpVvd7gpyrK8hDIeegyO4xXOW82n3DX82sNeNcSIz27W4QAyk5y4P8P0qK30nUbuzku7Wwup7aLPmTRwsyJgZOWAwMDmqlD3v/AFqHSwUUUUAdD4X8RrotvqNpM9xBHfRgC5tQDLA65wygkZ6kHkHB4NR6lq1hfT6VZAXQ0nT0EZbCiaTc26RwMkAkk4GSBgc1hUU+oHR6Jr9j4d8UzXOnJdPpsqNB+92eeqNj5v7u4EAgdOPxq9a+M4NJm09bEXN/FDdSXd5NegK9y7qUIxubACE8knJNcdRSWgHUan4gsZ7K7tLa61G4/tK7SW7uruNd6xpnYiqHIbGSc5XoBgCma/qmjX+g6ZZ2M98ZtOiaJfOtURZdz7iSRISuPoc+1c1RSt/Xyt+QdbhRRRTAKKKKACiiigAooooAKKKKACiiigAooooAKKKKACiiigAooooAKKKKACiiigAooooAKKKKACiiigAooooAKKKKACiiigCpp/8Ax7t/vf0Fd9eSadH8O/Dn9pWt1cZkutn2e5WLb84znMbZ/SuB0/8A492/3v6Ctu01/WLC3W3sdWvraFSSI4bl0UZ68A4qpbsfU6G0stJtvDOh3UmirqF3qF3JC++eUZVXUABUI+bnAP6HtLrGiaT4esb27htI9Wxqj2iCaSTZCirnB8tlJY5xyf4elZB8X6jH4dtNLsri6tDBJK8s0Nyy+fvIOGAx056k9ay7HVdR0zf/AGbf3Vn5mN/2eZo92OmcHnrU/wBfl/wfvF0/rz/4H3HY6h4c0nSP7cvls2vFsxb+XYySPttzKu4+YVwxCngcj3Oar+Gry1Og+KrmTTYfI+zwf6JHJIEJ8wAcli2M8n5s9gRXKW+p39nePd2l7cQXL53zRSsrtk5OWBycmlm1XULhrhp765la5AE5eZiZQOgbJ+bGOM0hrSx01zY+H7TWdHnv7cWtlfaatw8SGR40lO4An5i+zIBIBz6Vl69p/wBluLC4itbH7Jdx7oTp8kxSYBsH/WkuDnjoKz4dX1K2mjlt9QuopIo/KjdJ2VkT+6CDwPbpUd3qN7f3IuL68nuZ1AAlmlZ2AHTknNPqT0LOvIia1MsWky6Og24spnZmj+UdSwB568+tZ1S3V3c31w1xe3EtxM+N0kzl2OBjknmoqCmKrFHDDGQcjIBH5Guv8R31zqXgXQbu/meeaS6ui7sfdOPYAcADgDiuQVirBlJBByCO1aM/iTXLq3eC61nUJoZBh45Lp2Vh6EE4NMS0dz0udrG28dX3nCe5hm0ty7fdt7a08r5Qo/jyQPRQT0J5DbNrW38WeH5F+0XEcmmxCBF+SCC38s+azn+M53ZHAHGSTxXl7atqL6eLB7+6azXpbGZjGOc/dzjrzQmrajHp7WEd/dJZtndbrMwjOeT8ucUn/X4/5/1cVtP68v8AI9KtjZQ614PnsftNyjwBLS3i+SOP5j50jsOp5OVHp8xxwfNtXMDa3fGy2/ZzcSGLb02bjjH4U2DVdQtrKSztr+5htZc+ZBHMyo+Rg5UHByOKq0Pf7/xKuFFFFAgooooAKKKKACiiigAooooAKKKKACiiigAooooAKKKKACiiigAooooAKKKKACiiigAooooAKKKKACiiigAooooAKKKKACiiigAooooAKKKKACiiigCpp/8Ax7t/vf0FW6qaf/x7t/vf0FW6qW43uFFFFSIKKKKACiiigAooooAKKKKACiiigApryJHjzHVdxwMnGT6U6qGpxed9nj6FpDg+h2nFAF0yIsiozqGbopPJp1ZKb5b62nlQo24oAR0wpzT47h/s9rmQ72lCtzyeaAL6Txv91x94pzxkg4NODAswAPy9ciskRh3TLMv+kyD5Wx/EalnklU3KpKw2uiqc9PlFAGnRWZLLLbNcRrIzAIjBmOSuSQf5USySQ+dHFMzgRhgxOSpzQBp00sA4XnJGenH51nqkhuRF9ol2tFvPzc5/yaIrlyYGkc7TC7N74PWgDSpkUqTRLJGcqwyDis+3nf7dEo8zZKpPzuDn39qsab/yDYf92gCxFKk0YeM5U9Din1k2zM8dvCZGjQoWypwSadFNJOYo5JWVcv8AOpwXwcD9KANIsFIBB59BmlJwMngVmW88rJD+9ZszOu4nqAeKUF1ZknaTdIrbSHyp+g7UAaHmLhSPmDHAKjNPrMhBhtbTZI53yANls8YPFTWeZv30kz79xBTdwPbFAF2iqd3va5to0kZA7ENtOMjaaqu9yZJhF5haI4T94APxB60Aa1FZVzLIY7uQztG0Q+VQ2B0qUGSS6fMj7UjDBQcZNAGhRWXayXUnlS/Phx85aQFfwHanxNIkhSV38x1JVi+VP4dqANBm2qScnHoM0A5FZnmvFDKjtKJggbJfcDz1HpSvI7+ezTMhhQFQDjPHU+tAGnRWYTLNJMTK6bIFcKpxzg1bEz/2cZQMuIyw9zigCxRWezNFp73CTM7lM8tkD3xSEyJI0UM5fdFuBds7T60AX2ZUXLsFHqTTqyLg7rSWJzMrrgkNJn9asXCPEVw8rRKuTiTDdep9aAL9FMjYPEjKSQyggmn0AFFFFABRRRQAUUUUAFFFFABRRRQAUUUUAVNP/wCPdv8Ae/oKt1U0/wD492/3v6CrdVLcb3CiiipEVZrmRJXEaqVjAL568+lF1dmBYyNqh/4n6Cia1d5HKOFWQAOCOePSlkgkZo3RkDICMEZGKAJYJDLAjsNpYZxUiAykiMF9vXaM4qKCHybdYid2Bg+9e/8A7N8aRaJrgjRUH2mPhRj+E0AeEeRL/wA8n/75NHkS/wDPJ/8Avk19wUUAfD/kS/8APJ/++TR5Ev8Azyf/AL5NfcFFAHw/5Ev/ADyf/vk0eRL/AM8n/wC+TX3BRQB8P+RL/wA8n/75NI1q7FS0DEqcjKHivuGigD4eNq7MpaBiVOQSh4qMaeBJvFr8+c7vL5zX3LRQB8NtYb0KNbEqTuIKdT60fYeCPsxwcZ+T06V9yUUAfDptGLFjAxLDBOzqKatgEQolrtVuoEfBr7kooA+Hfsjbt3kNuxjOw9PSkFkVxttyNoIGE6CvuOigD4aTTxE26O12t6iPFSJavGgVIGVR0AQ8V9w0UAfDbWAeMRta5QdFMfAqO4sJpIlSO3UhezxkgV90UUAfC9vpzwwqjQszKS2dh6k54p6aeInLR2u1j1Ij619y0UAfDa6eE+7a4+bdxH39aPsH77zfsp8z+95fNfclFAHw8bV2ZWaBiV6EoeKZJYCVw0lruYdCY819yUUAfCd3pc9yx/cqFIxuMZ3Ae1WltHVsrAwOME7DX3FRQB8NDTwJDILXDnq3l80JpyxlilptLdcR9a+5aKAPhpNOWNWVLTaG6gR9aV7ASMrPalivQlOlfclFAHw79kbcx8hssMMdh5FKttIqhVhcAdAFNfcNMlkEUZYjPIAA7k8UAfDyWAjZmS1KlupEfWkXTwisqWu1W+8BH1r7f82f/n3/APHxR5s//Pv/AOPigD4gTTxHGyJa7VbqBHwaT+zIyFBsxhfu/u+lfcHmz/8APv8A+PijzZ/+ff8A8fFAHxL5Eo6RP/3yaPIl/wCeT/8AfJr7a82f/n3/APHxR5s//Pv/AOPigD4l8iX/AJ5P/wB8mjyJf+eT/wDfJr7a82f/AJ9//HxR5s//AD7/APj4oA+JfIl/55P/AN8mjyJf+eT/APfJr7a82f8A59//AB8UebP/AM+//j4oA+JfIl/55P8A98mjyJf+eT/98mvtrzZ/+ff/AMfFJ57qyiWLYGOAd2eaAPiNvkk2MCr4ztIwcetFep/tDf8AJRrD/sEp/wCjpa8soAKKKKACiiigCpp//Hu3+9/QVbqpp/8Ax7t/vf0FW6qW43uFFFFSIKKKKACvfP2c/wDkC65/18Rf+gmvA698/Zz/AOQLrn/XxF/6CaAPZ6xdW03V5bsXejaqYGC4NvLGHif+oP41tUVUZOLuiZRUlZnLjxRf6YdviTSZIVHW5tf3kZ/DqK3LDV7DVIhJYXUcwP8AdbkfhVwgEYIyKw9Q8IaRfSGZIGs7ntPaMYm/Tg/iK0vTlurehnapHZ39TcorlhaeKdF/49buHWbYf8s7lfLlA9mXg/iKmg8aWayCHWLe40ufuJ0yn4MKPZSesdfQPbRWktPX/PY6Oio4LmG6jEltKkqH+JGBFSVibbhRRRQAUUUUAFFFFABRRRQAUUUUAFFFFABRRRQAUUUUAFFFFABRRRQAUUUUAFFFFABUF3/qV/66J/6EKnqC7/1K/wDXRP8A0IUAZF74v06wvJLaaK7LxnBKQEj86g/4TvSv+eN9/wCAxrpaK1UqdtY/j/wDJxqX0l+H/BOa/wCE70r/AJ433/gMa3bC9i1GyjuoA6xyDIDrtPXHSrFFTJwa91W+Y4qafvO/yOD17xzq2g+KtStxpC3tha21s67LgI+6R3XONpzyuMe2e9WdZ8fnw/cWsOrafDE8oQyot5ueLc5UYAXnseo7+lX9c8FWuuat9vkv7y1Z4445ooCmyZY3Zl3blJGCx6EVHrfgSz1vUbi6fUb61W6SJbmG3ZAk3lsWXJKlhyT0IqDQqy+NZbe8ktrWxmv5ptWawhRpVQLiDzc5C/dwD1yeetRyePVFvFeNazRlLO6nmthIpG6EZK7tufoRjr0rWi8HWEOoR3izXBkjvzfgFlx5hh8rHT7u059c96ryeAtNkhkja4ugJIbiE4Zek4w38PUY4/rQBVHxAMMErajpEltN5Ec1tEJg5n3uqKM4G07nUd+tanh/xHcavqWo2F7prWFzp5jDr5wkDb13AggCq2seDbS9tpJE86W4WyFtCnmhMFWV0bdtOGDIpzgj2NReCfD2p6Rcapfa3O8t1qEkZw8qyMqou0ZZVUH8FFAHWVDc9Iv+uq1NUNz0i/66rQB86/tDf8lGsP8AsEp/6OlryyvU/wBob/ko1h/2CU/9HS15ZQAUUUUAFFFFAFTT/wDj3b/e/oKt1U0//j3b/e/oKt1UtxvcKKKKkRWlujHIyrHuVAC53Yxn+dPmleOLzI0V1AydzYwPyqKa3laV/K27JQA2TyMenrT5opJLYRDauSAef4aAJIZDJAsjrsJGSM5xXv8A+zi6vouuFGDD7RH0Of4TXgYAC47YxXvn7OKqmi64FUKPtEXQf7JoA9oooooAKKKKACo57eG6iMdzEkqHqrqCP1qSigDnJ/Bdkshm0e4udKn6g20nyE+6HI/lUIm8W6RxPBba1AP4oj5Mv5HIP6V1NFbe1ltLX1/z3MfYxWsdPT/LY5+18aaXLIIb3ztOnzjy7uPbz7N0/Wt2KaOeMPDIsiHoyNkVHdWVrexmO8t45lIxh1BrCl8F2sTmXRby60uTt5L7k/75aj93Ly/EP3sfP8DpKK5Yy+LtJP7yG11qAfxRsYZfyOQfzqeDxtphcRalHc6ZL023cRUZ9mGR+tL2Mt46+ge2jtLT1/qx0VFRW91b3cfmWs8cyf3o3DD9KlrLY23CiiigAooooAKKKKACiiigAooooAKKKKACiiigAooooAKKKKACoLv/AFK/9dE/9CFT1Bd/6lf+uif+hCgCvPrenW0zRT3SpIpwVIPH6VH/AMJFpP8Az+p+R/wq81tA7FngjYnqSgOaT7Hbf8+8X/fArnaxF9Gvuf8AmdCdC2qf3r/Ipf8ACRaT/wA/qfkf8KvwXEV1Cs0Dh426MO9N+x23/PvF/wB8CpVRUUKihVHQAYFVBVb++18l/wAEibpW9xP5v/gGPfeKdP06a/iuhMj2Mccsg2j51clVK888gjt0rKk8f2cq6ja20E1vqFtZTXMUdzsIfyxzwjk8Erwcdas+I/BsXiHWrC/a8e3W3ytxCqZ+0pyVUnPG0knv1rHtvhm0N4ZpNWjZVs7q0QJZBHInIJZ23kuRt9vwrYyL9r43hjtmkvw8swtrNxb28HzPJMrHapLfN908HGAOp7Raf48Mljqd5f2E6x2t+bVIVVEkUbQfn3OFz9DTm8A4zJDqZjuUjtFglMGRG8Cuu4jd8wYSEYyMetV2+Hl08Zkl1qOa8OoNfM0tjuhYtGUKmPfyMHI54IFAFq08eR6j4h0y00zT7m6s7+0a4E8YX92Q6r83zdBu5xn8aSD4g2CaRa3UkV3eGS1+1TPbW4URR93ZS5wPYFjSaJ4En0GbTJbLVlL2cbwy77TiaN3DEABhsOVGDz9Kgj+Hc1rpcNlp+tGAGx+w3Lm13GVPVfmGxvfn6UAaMvj7S49TltBb3skcMsUUt0kamFDIAVJO7OMEdBXQ3PSL/rqtc1J4FhNpqVvDeGOO9lhkUeVnyxGgUDrznHXiuluekX/XVaAPnX9ob/ko1h/2CU/9HS15ZXqf7Q3/ACUaw/7BKf8Ao6WvLKACiiigAooooAqaf/x7t/vf0FW6qaf/AMe7f739BVuqluN7hRRRUiCiiigAr3z9nP8A5Auuf9fEX/oJrwOvfP2c/wDkC65/18Rf+gmgD2eiiigAooooAKKKKACiiigAooooAKintoLlClxCkqns6g1LRQG5ztx4K0tpPNsDPp03UPayFRn6dKi+x+LNM/49b611WJf4LlTFIf8AgQyK6eitfay+1r6mPsYbx09DmF8YyWjbNf0a+sD3lVPOjH4pk/mK17DXtK1QA2F/BMT/AAq43f8AfJ5q+yhlwwBHoRWTf+FtG1ElrixjEn/PSMbWH4inenLdW9P6/ULVY7O/r/X6GvRXMf8ACLahY86JrtxCo+7DcjzU/wAaP7R8Vad/x+6TDqMa9ZLOUBv++WxR7NP4ZL8g9q18UWvx/I6eiubh8daTvEepLc6ZKTjbeQNGP++sY/Wt21vbW9j32dzDcJ/eikDD9KiVOcfiRcakJ/CyeiiioLCiiigAooooAKKKKACiiigAooooAKbJGsqFX6GnUUAQ/Zj/AM95v++v/rUfZj/z3m/76/8ArVNRQBD9mP8Az3m/76/+tR9mP/Peb/vr/wCtU1FAEP2Y/wDPeb/vr/61H2Y/895v++v/AK1TUUAQ/Zj/AM95v++v/rUfZj/z3m/76/8ArVNRQBD9mP8Az3m/76/+tR9mP/Peb/vr/wCtU1FAEP2Y/wDPeb/vr/61C2wDBmkkfacgMamooA+b/wBob/ko1h/2CU/9HS15ZXqf7Q3/ACUaw/7BKf8Ao6WvLKACiiigAooooAqaf/x7t/vf0FW6qaf/AMe7f739BVuqluN7hRRRUiK8t2IpCuxmCgF2H8OafLOI9oVS7P8AdUd6gnhlMsvlqGWUKCc/dxRcWxk8pjFv8vIKEjkUAWlJZQWXafQ9q9+/Zz/5Auuf9fEX/oJr59t42S2VJeTjBr6A/ZviSLRNcEahR9pj4A/2TQB7TRRRQAUUUUAFFFFABRRRQAUUUUAFFFFABRRRQAUUUUAFFFFAEcsEU6lZokkB6hlzWJdeCdEuJPMitjaS/wDPS2YxnP4Vv0VcZyj8LIlCMviRzP8AYGvWPOl+IHlHaO9TePz60f2t4nsP+P8A0RLyNesllKCT/wABODXTUVftb/Ek/wCvIj2VvhbX9eZzSeO9IjYR6n9o02Q/w3kDRj8yMVuWepWWopvsLuG5X1ikDfyqaSGOVSsqK6nqGGc1iXfgvQbx/MNhHDJ/z0g/dt+Yo/dPuvx/yD96uz/D/M3qK5n/AIRfUbPnSfEN5GB92O4PmqPzo83xhY/ft7HUl9Y28tvyPFHs0/hkvyD2jXxRf5nTUVzP/CYva/8AIX0XULMDrIIjIv5rVyz8YaDfHbBqcAf+47hW/I0nRqLWw1Wpt2ubVFNSRJFBR1YHoQadWRqFFFFABRRRQAUUUUAFFFFABRRRQAUUUUAFFFFABRRRQB83/tDf8lGsP+wSn/o6WvLK9T/aG/5KNYf9glP/AEdLXllABRRRQAUUUUAVNP8A+Pdv97+gq3VTT/8Aj3b/AHv6CrdVLcb3CiiipEFFFFABXvn7Of8AyBdc/wCviL/0E14HXvn7Of8AyBdc/wCviL/0E0Aez0UUUAFFFFABRRRQAUUUUAFFFFABRRRQAUUUUAFFFFABRRRQAUUUUAFFFFABRRRQAUUUUAFUr3R9N1IEX9jb3P8A11jDfzq7RTTad0JpNWZzTeBNIjYvppudOk/vWk7RgfgDik/sLxDaf8g/xG8q/wB28iV/1xmumorT20+rv66mXsYdFb00OZ+2+LbT/X6bZ3qDq0Emxj+Bo/4TL7N/yFdG1CzH97yi6/mK6aijni94h7OS2l9+ph2vjPQLsgJqUKMf4JDtP5GteK6gnUNDNG4PQqwNRXWmWF8CL2yt7jP/AD1iVv5isebwJoDsXgtGtJOzWsrRY/75Ip/un3X4/wCQfvV2f4f5nRUVzA8K6hac6Z4k1CM9luCsy/8AjwJpfJ8Y2n3LrT9QH/TSIxn9Dij2cXtJB7SS3izpqK5n+3vEFrxfeHHl9WtZgw/LFKPHOnxHbf2t9Zt3EsBwPxpexn0V/QPbQ6u3rodLRWPbeK9DuiBDqUBY/wAJbB/WtOO5glAMU0b5/usDUOMo7o0jOMtmS0UUVJQUUUUAFFFFAHzf+0N/yUaw/wCwSn/o6WvLK9T/AGhv+SjWH/YJT/0dLXllABRRRQAUUUUAVNP/AOPdv97+gq3VTT/+Pdv97+gq3VS3G9woooqREEl1HFJsYMSMEkDhc9M0s1wsJQFWcv0CjNV545BLMFjLCZVAYdsHnNPnRWjTfDK5XgbDgj9aALSnKg4I9jXvv7Of/IF1z/r4i/8AQTXz9Ari2RZuXxzXv/7N8axaJrgTOPtMfUk/wn1oA9pooooAKKKKACiiigAooooAKKKKACiiigAooooAKKKKACiiigAooooAKKKKACiiigAooooAKKKKACiiigAooooAKKKKACiiigAoIyMHkUUUAUbnRNLvM/atOtZc93hUn88VmSeBdBbJgtZLV+zW08kePwBxXQ0VaqTjszOVOEt0jmP+EQurfnTvEeqQnsJHWVf/AB5SaUaf4uteYdZs7wD+G4tdpP4qRXTUVftpdbP5In2MVtdfNnM/2l4stubnRrO6H/TtcFSfwINH/CXXEH/IQ8P6jAPVFEg/pXTUUueL3j+YezmtpP8AApaXqkGr2n2i2SVFztxKm05+lXaKKzdr6GqvbU+b/wBob/ko1h/2CU/9HS15ZXqf7Q3/ACUaw/7BKf8Ao6WvLKQwooooAKKKKAKmn/8AHu3+9/QVbqpp/wDx7t/vf0FW6qW43uNZ1TO5gMDJyelKrB1DKQQehFULh4HviryFdqjcNpIbk8VZs8fZV25AyxGRjuakRPRRRQAV75+zn/yBdc/6+Iv/AEE14HXvn7Of/IF1z/r4i/8AQTQB7PRRRQAUUUUAFFFFABRRRQAUUUUAFFFFABRRRQAUUUUAFFFFABRRRQAUUUUAFFFFABRRRQAUUUUAFFFFABRRRQAUUUUAFFFFABRRRQAUUUUAFFFFABRRRQAUUUUAfN/7Q3/JRrD/ALBKf+jpa8sr1P8AaG/5KNYf9glP/R0teWUAFFFFABRRRQBU0/8A492/3v6CrdVNP/492/3v6CrdVLcb3KN4WWYZdUR1A3FgMcnPX8Ks2wYW6hzk885zkZ4/SoJldr0+UEZhGMiTpjJqWy4tVAOeW/makQ6S5iikCO2GPsTj6+lOklSGJpJDtVRkmqdwrLNMvls3mqoUhSRwT19KW7imltx5QUqqHKtkEnFAF1WDqGXkEZFe+/s5/wDIF1z/AK+Iv/QTXz9bh/sqCQbW24OO1e//ALN8fl6Jrg3M3+kx8sc/wmgD2miiigAooooAKKKKACiiigAooooAKKKKACiiigAooooAKKKKACiiigAooooAKKKKACiiigAooooAKKKKACiiigAooooAKKKKACiiigAooooAKKKKACiiigAooooA+b/2hv8Ako1h/wBglP8A0dLXllep/tDf8lGsP+wSn/o6WvLKACiiigAooooAqaf/AMe7f739BVuqmn/8e7f739BVuqluN7kUtvHMQZFyR0NPRFjQKgwo6AU6ipEFFFFABXvn7Of/ACBdc/6+Iv8A0E14HXvn7Of/ACBdc/6+Iv8A0E0Aez0UUUAFFFFABRRRQAUUUUAFFFFABRRRQAUUUUAFFFFABRRRQAUUUUAFFFFABRRRQAUUUUAFFFFABRRRQAUUUUAFFFFABRRRQAUUUUAFFFFABRRRQAUUUUAFFFFAHzf+0N/yUaw/7BKf+jpa8sr1P9ob/ko1h/2CU/8AR0teWUAFFFFABRRRQBU0/wD492/3v6CrdVNP/wCPdv8Ae/oKt1UtxvcKKKKkRG88UbhHcKzdAe9Ek0cIBlcKD0zVO5IWadWBLSKoTjryammkQWwUzGMkY3AZoAsghlBU5B6Gvff2c/8AkC65/wBfEX/oJr58tQRZxgjYdvT0r6B/ZvRk0TXA0jOftMfJA/un0oA9pooooAKKKKACiiigAooooAKKKKACiiigAooooAKKKKACiiigAooooAKKKKACiiigAooooAKKKKACiiigAooooAKKKKACiiigAooooAKKKKACiiigAooooAKKKKAPm/8AaG/5KNYf9glP/R0teWV6n+0N/wAlGsP+wSn/AKOlryygAooooAKKKKAKmn/8e7f739BVuqmn/wDHu3+9/QVbqpbje4UUUVIgooooAK98/Zz/AOQLrn/XxF/6Ca8Dr3z9nP8A5Auuf9fEX/oJoA9nooooAKKKKACiiigAooooAKKKKACiiigAooooAKKKKACiiigAooooAKKKKACiiigAooooAKKKKACiiigAooooAKKKKACiiigAooooAKKKKACiiigAooooAKKKKAPm/wDaG/5KNYf9glP/AEdLXllep/tDf8lGsP8AsEp/6OlryygAooooAKKKKAKmn/8AHu3+9/QVbqpp/wDx7t/vf0FW6qW43uFFFFSIa0iKwDOoJ6AnrQ8iR43uq56ZOKoXJUTziTG8qnl578npUtzPEkCB9jSMNq7iMZ70AWwc9K99/Zz/AOQLrn/XxF/6Ca+foF2WyKrhsDhhzXv/AOzerromueY4c/aY+QuP4TQB7TRRRQAUUUUAFFFFABRRRQAUUUUAFFFFABRRRQAUUUUAFFFFABRRRQAUUUUAFFFFABRRRQAUUUUAFFFFABRRRQAUUUUAFFFFABRRRQAUUUUAFFFFABRRRQAUUUUAfN/7Q3/JRrD/ALBKf+jpa8sr1P8AaG/5KNYf9glP/R0teWUAFFFFABRRRQBU0/8A492/3v6CrdVNP/492/3v6CrdVLcb3CiiipEIVBOSASPakKKeqg/hTqKAEAwMDgV77+zn/wAgXXP+viL/ANBNeB175+zn/wAgXXP+viL/ANBNAHs9FFFABRRRQAUUUUAFFFFABRRRQAUUUUAFFFFABRRRQAUUUUAFFFFABRRRQAUUUUAFFFFABRRRQAUUUUAFFFFABRRRQAUUUUAFFFFABRRRQAUUUUAFFFFABRRRQB83/tDf8lGsP+wSn/o6WvLK9T/aG/5KNYf9glP/AEdLXllABRRRQAUUUUAVNP8A+Pdv97+gq3VTT/8Aj3b/AHv6CrdVLcb3CiiipEJmjNZ9yFaedpMb0VfLz25PSpb1UeyDSAFlKkZ7HIoAuV75+zn/AMgXXP8Ar4i/9BNeArzGNvpxXvn7N/mf2Jrnm7c/aY/u/wC6aAPaao3mtWFhP5N3cpE+M4Y1eprIr/eUH6iompte47Pz/pFwcE/fV0Z6+ItIb/mI24+sgFSLrWmN92/tz9JBU7WVq/37eI/VBUTaRpz/AHrG3P1iFYWxK6x/H/M2vh+z/D/Ieuo2T/duoT9HFSrcQv8AdlQ/RqpN4f0huum2v/fpaibwvozddPhH0XFF8Sukfvf+QWw76v7l/mau9f7w/OjcPUfnWR/wimj/AMNrt/3XIpP+EW0wfdWdf92dx/WjnxH8i/8AAn/8iHLh/wCd/d/wTZyKKx/+EatR/q7m8T6XL/40f8I9j7mqagv/AG8N/jT9pX6w/H/gB7Oj/P8Ah/wTYorG/sGcfd1m/H1kzR/Yt6Pua3d/iFP9KPa1f+fb+9f5h7Kl/wA/F9zNmisf+y9VX7utSf8AAolP9KT7BrY6awp+sC/4Ue2n/wA+3+H+Yexh/wA/F+P+Rs0Vj/Y9eHTU4D9YBR9n8QDpfWjfWI0e3l/z7l+H+Yewj/Ovx/yNiisfb4hX/lpZP/wEijzPEK/8sbFvxYf1o+sd4S+4Pq/aa+82KKxvP8QD/lzsz9JD/jS/atfHXTrY/Saj6zH+WX3MPq7/AJl96Niisf7drg+9pUR+kwpP7T1Yfe0cn6Sij6zDqn/4C/8AIPq0+6+9f5mzRWN/a+oj72iTfhIKP7avR10W6/Ag0fWqXn9z/wAg+rVPL71/mbNFY39uXI66Ne/guaP7flH3tJvh/wBsjR9ao9/wf+QfVavb8V/mbNFY3/CQgfe069H/AGxNL/wkluPvWl4P+2Bo+t0P5g+q1v5TYorH/wCEnsu8V0PrAaP+Eo0/uJx9YTR9bofzoPqtf+RmxRWP/wAJTpneSQfWM0DxVpJ/5eCPqpo+t4f+dfeH1Wv/ACP7jYorJHifST/y9KPqKcPEukn/AJfYx9TT+tUP5196F9Wr/wAj+41KKzB4i0g/8v8ACPq1OHiDST01CD/vun9Yo/zr70T9XrfyP7maNFUBrmlnpfQf9904azpx6XsP/fYqvbUv5l94vY1f5X9xdoqoNWsD0vIf++xThqVkel1F/wB9Cn7Wn/Mhezn/ACss0VAL61PS4j/76FOF3bnpNH/30Krnj3J5JdiWioxPEekqf99Cl86P/nov/fQp8yFZj6KQMGGVII9jS0xHzf8AtDf8lGsP+wSn/o6WvLK9T/aG/wCSjWH/AGCU/wDR0teWUAFFFFABRRRQBU0//j3b/e/oKt1U0/8A492/3v6CrdVLcb3CiiipEMaKN2DOisy9CRkikeCKRdskSMuc4Kg1JRQAiqqKFRQqjoAMYr339nP/AJAuuf8AXxF/6Ca8Drvfhx8Uf+Ff2l/btozagLuRHDrciPbgEYxtPrQB9TUV4b/w0kv/AEKcn/gwH/xFN/4aWTzvL/4ROTdt3f8AH+On/fFAHulFeG/8NJL/ANCnJ/4MB/8AEUf8NJL/ANCnJ/4MB/8AEUAe5UV4b/w0kv8A0Kcn/gwH/wARR/w0kv8A0Kcn/gwH/wARQB7lRXhv/DSS/wDQpyf+DAf/ABFH/DSS/wDQpyf+DAf/ABFAHuVFeG/8NJL/ANCnJ/4MB/8AEUH9pJQP+RTk/wDBgP8A4igD3KivC4v2lkliWRfCcmGAIzfj/wCIp3/DSS/9CnJ/4MB/8RQB7lRXhv8Aw0kv/Qpyf+DAf/EUf8NJL/0Kcn/gwH/xFAHuVFeG/wDDSS/9CnJ/4MB/8RR/w0kv/Qpyf+DAf/EUAe5UV4b/AMNJL/0Kcn/gwH/xFH/DSS/9CnJ/4MB/8RQB7lRXhbftLIsiIfCcmXzj/Tx2/wCAU7/hpJf+hTk/8GA/+IoA9yorw3/hpJf+hTk/8GA/+Io/4aSX/oU5P/BgP/iKAPcqK8N/4aSX/oU5P/BgP/iKP+Gkl/6FOT/wYD/4igD3KivDf+Gkl/6FOT/wYD/4ij/hpJf+hTk/8GA/+IoA9yorw3/hpJf+hTk/8GA/+Ipsf7SySAlfCcnDFf8Aj/HUHH9ygD3SivDf+Gkl/wChTk/8GA/+Io/4aSX/AKFOT/wYD/4igD3KggHqM14b/wANJL/0Kcn/AIMB/wDEUf8ADSS/9CnJ/wCDAf8AxFAHuBjQ9UU/hTTbwnrDGf8AgIrxH/hpJf8AoU5P/BgP/iKP+Gkl/wChTk/8GA/+IpcqHzM9sNnbHrbxH/gAppsLM9bSA/8AbMV4r/w0kv8A0Kcn/gwH/wARTZP2lkjALeE5PmYKP9PHU/8AAKnkj2K55dz2o6ZYHrZW5/7ZL/hSHSNOPWwtT/2xX/CvGP8AhpJf+hTk/wDBgP8A4ij/AIaSX/oU5P8AwYD/AOIpeyp/yr7h+1qfzM9lOi6Weum2n/fhf8KYdB0k/wDMOtf+/K/4V47/AMNJL/0Kcn/gwH/xFH/DSS/9CnJ/4MB/8RU+wpP7K+4ftqv8z+89gPh7SD/zDrf/AL9imnw3o5/5h8H/AHxXkP8Aw0kv/Qpyf+DAf/EUf8NJL/0Kcn/gwH/xFL6tRf2F9yK+sVv5397PXD4X0Y/8uEX5Un/CLaN/z5IPoTXkn/DSS/8AQpyf+DAf/EUf8NJL/wBCnJ/4MB/8RS+q4f8AkX3If1qv/O/vZ7VZ2Nvp8Hk2kflpnOMk1Yrwtf2lkaR0HhOTKEA/6ePTP9ynf8NJL/0Kcn/gwH/xFbxioq0VZGEpOTvJ3Zg/tDf8lGsP+wSn/o6WvLK6j4h+Nj498TQaoNNOnrDZrbeWZxIWId2znAx96uXpiCiiigAooooAqaf/AMe7f739BVuqmn/8e7f739BVuqluN7hRRRUiCiiigAooooAKrtcRJcYKtu4UuBwM9qsVRlhlMkkYQlZHDb+wHegC9RRRQAUUUUAFFFFACHiq5vYxkOjocZAYct9KsHpWcUmnJlkgdZFYMFOMYBzjrQBZW6iSEbUcbTsEeOR7VNFKs0YdM46c9jVPy5fNNz5TcyZ8vjOMAf0qxaRtHCd4wzMzY9MkmgCeiiigAooooAKiuLhLaPfJnHoBzUtUb+1mmVmidfu4CFc/rmgCb7TE04Uq2QSA+OM+lLFdJLJtUMM52kjhvpVZIJuIWTpKZDJ2POadbxSh4EeMqIFILHo3bigC9RRRQAUUUUAFFFIRkEUAQfbE2l9j7B0bHDfSkW6iWMlUcHdgpj5smqS2k6JEqRvmLBfLcOQe1T+XL5pufKbmTPl8ZxjFAFyKVZow6Zx0wexp9QWkbRwneMFnZsemTmp6ACiiigAooooAimnWHaCrMzHAVRyahN7BJt+VmXIJOOFPbNLeRmRoiY2kRSdwU4PSqiW06QyQmM/vgACCPkGMc0AXvtSed5eG+9t3Y4z6VPVHyZfM8rYdvneZvzxjOcVeoAKKKKACiiigBkj+XGW2s2Oyjmojex+WjqrtvXcAByBUsrFY2IVnOOi9TVCBZokif7O5KxeWV469c9aALLXcMbbgGIYBmZRwB6mnNdxrN5ZDdQpbHAPpVP7NNDAYVQvviCbh0BAxzUjQSB2iCEq0gbf2AoAv0UUUAFFFFABRRRQBU0//AI92/wB7+gq3VTT/APj3b/e/oKt1UtxvcKKKKkQUUUUAFFFFABRRRQAUUUUAFFFFABRRRQAUUUUAFFFFABRRRQAUUUUAFFFFABRRRQA15EjGXZVHucUnnRltokTd6bhmq15A8kqOA7qAQVRgD+tVIIHLTxpCR+9HzswyvyrQBqiRCxUOpYdQDyKje6iRd28MAQDtIOM1UFrMcR+XsKliZcj5s5/Hv+lOMLyWqx/Z9hVlzyPmwetAFzzotm/zE29N24YpwIYZByD3FUJLZwXxEx/ebk2EccehNXIQ4gQSgB8c4oAkooooAKKKKACiiigAooooAKKKKACiiigAooooAKKKKACiiigAooooAKKKKACiiigAooooAqaf/wAe7f739BVuqmn/APHu3+9/QV2Np4WsZdP0aa81Wa3m1hnWFFsw6IVfYNzbwcE46KaqS1BnM0Vpv4b1cX01rBp9zdNDK8Ja2haRWZDhsEDnHH5ioLXR9Tvp5YbLTru4lhOJY4oGdoznHIA459ancCnRVq20vUL27ktbOxubi4jzvhihZnTBwcgDIweK3b3wutp4wTS4rTU7uCOKGW4jtot86hkUvgYwMFscj0zT3A5iird1ag6xNaafBdEeeY4YZk/ffewFZR/F2wO9X7HwnrF1rVrp0+m31s07DJe1fKJuAL4IHAzyelJa7A9DForU1Xw7qelambOaxu/nmaK3Z7dl+0YOAVHfPHAz1FLr9hBpt1bwwWmpWjm3Vpo9RjCMX5yVA/g44zz1o3Vw6mVRV660TVbKOOS90y8t0lYLG0tu6B2PQAkcmi50TVbO1Nzd6ZeQQK20yy27qoOcYyRjOeKAKNFFb9n4Ve78KzasLrbMqySRWvl8yxRlQ77s8Y39MfwmgOtjAoq5ZaNqepRtJp2nXd2iHDNBAzhT6EgUllpWoamzrpthdXbR43iCFpCufXA4oAqUVPLY3cMTSzWs0caymFneMgCQdUJ/vD061Mmi6pLcSQR6bePNEwSSNYGLIx6AjGQTg8UAUqKtrpOpNqJ09dPujer1thC3mDjP3cZ6c02TTL+LUBYy2Vwl4SALdomEhJ6DbjPNAFair82havbyNHcaVexOsZlKvbupCDq2COg9elVfstx9j+1+RJ9mL+X52w7N+M7d3TOOcUARUUqI8sixxqzuxCqqjJJPQAVq65pkWmRWKCy1S0uXhzcLqEQjDP6xjGdv1oAyaKuzaLqlvYrez6beRWjAMLh4GEZB6HcRjmqVABRXWWvgcXNxFpw1Bv7YmtPtQtlt90aAjcFaTdlWK4P3ccgZrkyMHBo62DpcKTGK6Oz8M2z2umtqWpNaTaoSLVEt/MUDdtBdtw2gtxwG45p2i+EDqeoXVndalBaTQGZBEFMkjtGMt8oxhfckc9AecD0v/WwbnN0UV1vhDwnZ+IbCaW4e5Mgm8ofZyNtuPLZhJJkHKkqFxx35o6AclRWprun2mlXUdjBK811CmLx9wKCXuiAD+HoSSckHpWXQAUUUUAFFFFABRRRQAUUUUAFFFFABRRRQAUUUUAFFFFABRRRQAUUUUAFFFFABRRRQAUUUUAVNP/492/3v6Cu2n8UtaeFdCtNJniW7tUnEzG2VpIS0hKlHZcqcHqp/WuJ0/wD492/3v6CrdVJ62G9zpZtfH/CAW+nRXsovDqL3E6AsCwwNrE9D8wz1681fsvEdpqegXVvrctm1/Lf/AGp3vo51jlBQL/y74IYY7jHzetcXRU/1+X+SEtP69f8AM7a91yz1yx1S1vtTs7K5uLuGZrmCGcw3EaR7dvKl8g8/MOTnmob2/wBKv/HlvqEWqRQ2VsLVvMnhlBfy1QMAqq2D8p68e9clBBLczpDbRPNLIdqRxqWZj6ADrUt7p97pswi1GzntJGXcEniZGI9cEdOKFpqHf+up1Vrqum6f421O8XU0aDUY7hYry3ikzatIx2sQyq2QOu3PXgmsO1NromvaddrfwX8UM6TP9lWQYCsDj94i88Vk0UR0at0B63NrXLexuNfmntNZtJoLu5kff5cy+SpbILgx57/w7ulbV9qek22seHdRi1C31CPTILeGeCKKUMxQkll3oqkcjGSD7VyN1aXNjcNb3tvLbTLgtHMhRhkZHB5qGiOlrdAeu52qatpmmnWXOrpqf9qXEbIiRSrsAl3mR9ygZAGABu5Pp1NW8R2N5qHi6RbxpE1FI1tCyv8AvNsinHI4woPXFcVRStt5B1v5p/cFd7aeJ/Dthrelw+Tcz2lpaCzkuEm2xOrqfNYxGPcfmdv4hnArgqKryA6zUbjTNU0HTtPt9ahtF01pYylxDKEny5KyrsRuSDyGAIxVe3vLK+8GRaPJqUemy29287iaOQx3AZQAcorHcuCMEdG69q5uil38xnU2dxpc/hH+xrvVYrV4NUNz5phkcSx7NuUAXrx0bb16itHVvE9hLH4v+wXrhtTlt/s+1HUyoM7x04GDyDjPvXF2tldX0jR2VtNcOql2WGMuQo6kgdveoaG7/wBen+Quh02kata37XZ8R3atMtklva/aPNWFlVh8snkjecAZHuOe1bs3ifRl1q3Fte+TF/Yp08XUEUu22kLH5lDnftx3yTg/hXnlFD1/r1/zBaf16f5G9o8w0HxPYzWV3Fqiu+ySO0ST94jfK0eHRSSQeMZ7VP40ktrO9h0DTH8y00vcpfP+slY5cn6cL/wGsKzv7zTpWl0+7ntZGXYzwSFCV9CR24qvQ9bAOiQSTIjyLErMAXcHCj1OATj6A103iKXTp9B0eKz1i1uZtPgMUkaRzAsTITlS0YGAD3Irl6KA63Ot12+0rUtMubrULmxutZbyhFPp6XCGTAwxlEihMYA+4Ac+2a5KiigOh6OnjSyF5aaxHfrb+VbKbnTo4GEtzcIuxdzhdpToRluMcLmuHhtrCfS7y6utS8i9Rh5Np9nZvPyeTvHC496oUUeYLRJHWeGdbGmw2kl/rFuLazkaVLP7H51wDkEiN2jwm4jqHGOvWpPDOrWX/CVXeu6vqVvZm48/MLRys2ZFOCNqEYy3rnjpXH0UPXf+rgS3MKQXLxxXEdyi9JYgwVuO24A/mBW34Wv9M0WVtUviZrqJ1S3tlU5XP3pc9OBnaM53EHjGa5+imnYHqdN4zvtHvZrU6P8AZmkUymWS1tjChUyExrgquWC9Tj8TXM0UVK0G3d3CiiimIKKKKACiiigAooooAKKKKACiiigAooooAKKKKACiiigAooooAKKKKACiiigAooooAqaf/wAe7f739BXc6hf3mgeF9CXRJ5LJb2F57i4tn2PNIHZdrMOSFHbpzXDaf/x7t/vf0Fb1n4i1KysBYxSxSWofzFhubeOdUb1UOp2nntiqluD3NIafpVvpNhqmuC7uJNVmkYJZOkIiRWwxwUIJJJwo2jjrV7UPCmlaBpt7caq95dy2+pGyjW2kSJXGwOGJKtg4J9eePesO18U6xaRhEuUlUTGdftEEcxSQnJZS6naSeeMc1Vm1i/uLB7Oe5aSB7k3TBwCWlIwWLdTx70la/wDXl/wQ/r8ztdH07TfD/jXWLFY7ueS0tLh4ZxcKhVPJzjGw/Pgkbgfw7Vztppem6lpGt39rHd240+GJ4o5J1kyzPtO4hFyMdMAfjVB/EGpyapcai9zm7uY2ilk8tfmVl2kYxgcccCo9N1e90l5msZFUTp5cqSRLIjrnOCrAg8j0qe3p/mC0+/8ADT/gm4vh3SY9Q0aO9vZIIb7TxcyNJIqAyHcAgcrhASByQcVR1XTrfStRtmuNNu4rOWPeAuoRS+d15SVI9uM44wf1qG58Tape38d5ezQ3U0cflJ59rFIqrknG0qV6k4446CmS+INQnuoJpjbv9nQpFEbSLykBJJxFt2ck5zin1uv63/4AG/qXh4aj8SV0l7+6kSVEdri7k82UL5QcjOBkgZA/CotO0DR9dhWfTRfWqQ38FvOlxMkheOVtoZSEXDDByCCPesq68U6veahBfS3Ea3cDBo54baKJwQMDLIoJGBjByMUk3ijVp3gYzxx+ROLlFgto4lMo6OyooDHjqc01a/8AXf8AyD/I1dU0DSE0/XJNMN8suj3McLNcSIyzBmZT8oUbcEepyPSuWiQyTIijJZgAKuPrN/JFfxvPlNRkEt0Ni/vGDFgenHJPTFU45GikWRDhkIYHGeRRB2ab8gl5HszT6e3jqaVZYzqM5k02SEEb1VVdvMx6FRGufY1xWh+DrTUobWG7jubae6tnmSZ72BMYDFSLc/vGX5euRnrjHNc3HreoRa42sR3GL9pGkM2xfvNnJxjHc9quW3jHXLSOFbe6jUww+RHIbaIyLH/c3ld232zUpaef/D/rqN7+X9fobCTaQvwwhM9jeug1Qhgl4ikyeSMsCYjhf9nBPuapWuj6JD4Qg1rVDfu8149uILeRFGAAc7ipxgZ7HPHTrWTY65f6daSWtu8TW8jiRoZ7eOZNwGAwDqQDg4yKik1O7l0uPTnlzaRymZYwijDkYJzjPTt0qm9W/T9BdEv66nSeH7PTJPEWoWWmX2o7fJma3vba48jdGqFtrIUyc4weR9Kz/DGhW3iMz2CvNDqIAkhlJzBtBG4OAuVPPBzgnA7jNLSvEGoaKG/s5reNmzl3tIpHwRgjcyk4I7ZxTX12/ezurVXiihu3V5kgt44t5XoPlUYAxnA4zzjNKyv8gJ72DRbXxN9m/wCJgdOgk8udiFEzkcMVUgBeeinJHesy58j7XN9j8z7PvbyvNxv2Z43Y4zjrir7+ItUk1qHV3uQb+HbsnESAkr0J4wx9zk1QubiW8u5rm4bfNM7SSNgDLE5JwPc0dA6kdFFFABRRRQAUUUUAFFFFABRRRQAUUUUAFFFFABRRRQAUUUUAFFFFABRRRQAUUUUAFFFFABRRRQAUUUUAFFFFABRRRQAUUUUAFFFFABRRRQBU0/8A492/3v6CrdVNP/492/3v6CrdVLcb3NzR9N06bw/qmp6kl1L9jeFEjt5lizvLAkko3TaKTQdNsLyw1a81Fbl0sIEkWOCZYyxZwuCxVvX0qxpP/JP/ABD/ANd7T+b0eHf+RY8T/wDXpF/6OSpfxP8ArohdUvNfmc9IUMrGJWWMk7VZtxA7AnAz9cCp7KOxkkYalcXFumPlaC3WUk+hBdcfnVatDR2kjvDNBrCaRKi/LOzSqTnggGNWP8qEDNkeDY11yWzl1B1t007+0BMLfMhTbu2mMsMN7bv51z96llHMo064uJ49vzNPAsRB9MB2yPfNdFqWrxXWu20ul62bKeGzWG41RhLGbqQHlv3alzkEDLAE7eaq+KtYg1OLTYVuTqF1aQFLjUGUqbgk5A+YBiFHGWAJ54pf1+f/AAAW39eRz1FFFMAAywHqa3PEWi6boV9c2Eeo3VzeW7hSGs1SM9Cfm8wnof7tYijLAZ289T2rrrnXFTwzqFlqeunX57ryxbIfOdbYqcl90qqQcEjC5znmh7f15AtzOttM0y88IajqEUd3FeWBhBLTq0chdiD8uwEdP7xrBrpNG/5EHxL/AL9p/wChtXN0Pd/10AKKKKACiiigAooooAKKKKACiiigAooooAKKKKACiiigAooooAKKKKACiiigAooooAKKKKACiiigAooooAKKKKACiiigAooooAKKKKACiiigAooooAKKKKACiiigCpp//Hu3+9/QVbqpp/8Ax7t/vf0FW6qW43ua2if8JFif/hG/7Txx5/2DzPfG7Z+OM+9U7PU7/TJXfT725tJHGHaCVoyw9CQa2dJ/5J/4h/672n83rnKl/E1/WyYug6SR5pWkldnkclmZjksT1JNNrrfhvfPb+MbC2jhgzPP80zRhpAoVvlUn7oOecYJ6ZxxU/hKLZpfiK9t7uKxuofKRb185t42Zt7LgE7iAFGOeaNg3Tf8AX9aHF0V13jhrS6s9C1CB5ZLi5tGE0twoWWbY2xZHAJ5ODzknAHJ61zNjeGwuhOsEE7hSFFxGJFUkY3bTwSOozke1HUCvRXXeO7ye1+IBu4WHnxxW8is6B/m8pTnBBB/GthAbmTw5pHi2drvVJtRE8iXDF5IIGAxE5PTccHb2HXGaaTYPRX8r/hc85q5daRqVjbR3F7p91bQSEBJZoGRXyMjBIweOa73U7hdQ8O+JINW1Br26tWWZVC5hsX8zYIoyeckZBxheON3WuZH/ACS4/wDYZH/ok1N9L+g7WdvUqT/8JL/wj6fav7V/sfC7PM8z7PjPy4z8vXpWPXSaN/yIPiX/AH7T/wBDaubpvdi6BRRRQAUUUUAFFFFABRRRQAUUUUAFFFFABRRRQAUUUUAFFFFABRRRQAUUUUAFFFFABRRRQAUUUUAFFFFABRRRQAUUUUAFFFFABRRRQAUUUUAFFFFABRRRQAUUUUAVNP8A+Pdv97+gq3VTT/8Aj3b/AHv6Cumj0O0t9HttQ1q/ktVvCfs0NvbiaRlUkF2BZQozwOSTzxxVS3B7i6PqWnQ+H9U0zUnuovtjwuklvAsuNhYkEF167hWGevFb+i6Vpuow6tDKbh57O0muYbiGULG4QDAKMm7nrnI+lZVjpd/qbOum2NzeMgy4t4WkKj3wOKnr/Xp+gE2k65faHN52mtDHLnIke2jkZT/ss6kr17Yp8XiLUoL6S7gkhikmjMUqR2sSxyKeoaMLsb8RVa30rULy8ktLSwuZ7mLPmQxQszpg4OVAyMHilXSdRfUDYJYXTXi9bYQsZBxn7uM9OaAG6hqN1qlyJ76XzHCBFAUKqKBgKqgAKB6AAUy0u5LK4E0Kws4BAE0KSr/3y4IP5Vbh0TUBrEVjc6Zf+cSGe3jt287Z3IUj0z7VYuNDku/Es2naFYakVVgBFdQ5njHAJdVHGCfyxQtXZCb7hceLNXutRt7+eW3N3buHjmFlCrAgYGSE5xxgHOMCor3xHqOoMz3JtfNaTzDNFZQxSFs5zvRA2c+9afibw2ukXv2Cz0nV/M88Qx3U/wBy5bofLQRjqenzHis3X7CDTbq3hgtNStHNurTR6jGEYvzkqB/BxxnnrS0sVrsJqPiTVdVt2hvblWjdxJIEhSMysBgM5UAufds1ZutS01PBqaRZSXU07XouneaBY1X92VKjDsTz3wKz5tG1O3sVvbjTbuK0cArO8DLGwPTDEY5ol0XVILOO7m028jtpNuyZ4GCPnphsYOe1O3QRo22p6ZZ+ENR0+KS7lvL8wkhoFWOMoxJ+beSev90Vg10Oo+C9X0/R7O+axvW86OSSdDaOPswViPmPuBnnHFVl0lIvC8t/d2GqpO0i/ZrgQ4tShPO5iM564xQ92/67AY9FXbbRdUvbRrqz028uLdM7pooGZFx1yQMcUtpoerX8ayWOmXlyjZ2tDbu4ODg4IHYmgCjRSsrI5V1KspwQRgg1s6Volpd6Feapf301vFazRxbILYSsxfPPLrjpRuHkYtFbOreGrzT/ABLPo1osmoTx4Ki3iYsylQw+QZIODyO1Uv7H1M3slmNOu/tUYDPB5Db0BxglcZHUfmKAKdFW5tJ1K3vo7K40+6iupMbIHhZZHzwMKRk9KdPo2qWt3Fa3Om3kNxN/qoZIGV5P90EZP4UAUqK0P7A1j9z/AMSm+/0g7Yf9Gf8AeHGcLxzwCePSrviPwlqPh27kWS3upLRFQ/a2tmSMllBxnkZBOOvagDCoqaWzuoLeG4ntpo4ZwTFI8ZCyY67SeDj2qGgAooooAKKKKACiiigAooooAKKKKACiiigAooooAKKKKACiiigAooooAKKKKACiiigAooooAKKKKACiiigAooooAKKKKAKmn/8AHu3+9/QV2NxPpmu+H9Ljm1KLTr7T4zbutxFIySx7iyspRW5GcEECuO0//j3b/e/oKt1Utwe9zqPDL6XZf2q9xrNvCt1ZT2kKywzb8tjazBUYAcdiSKdor6Hb6XPBe3trJcLeqy/aftXkGMKRvjWLad+T/Hjj05rlaKV7CsdzqHiCzvvE2uyQX2nNpuoGLdHqEVxiXaBgjyl3KVIPUjr3rOgvdNsvE2o/2JdWsGlzxNCU1FJmSVGxuUbFLgZGQeDgDJzkVy9FJaDN3U7fRLjW0TSr23s7fyEaWRxM0Pm4+YR/K0m303D156Va8T3mn3PjdtVsdQhurae4WQ7I5FaMDb94Mo9+melcxRTTs0+39foKSumjX12e21XxhqE8F1Gltc3cjpPIrhQpYkEgAt+ma1tbvdL+16Dd22o21+un29vBNBHHKGcoxLEb0AK9uTnnpXJUUlokl0HL3m2+p0PiM2Goa3c6smtx3kdzOJDD5cqzqhP3fmXZ8o4+8RwMVvanq/h6LSfEEOm3Vu7X6IICgummlxIrEytJ8u7qeB68joeAopdLDT1udFeT2GpeE9JhGow291p0cySQTRyZk3OXXaVUrznHJHNTaZ/ZsXg/UrKfW7OK4vngkRGinOzYWJDERkZ+YdMj3rl6Kb1v5/53Edtbaxpktx4d1BtX+xf2RAqS2nkyF2ZGLEoVG0784OSvvTLrxNZ3Gn6IkU7QeTqs13cW6htsStIGU9MHA3dOfzrjKKfW/wDXcOlv62t+po+IbqG+8S6ldWr+ZBPdSSRtgjcpYkHB5rW8P+JToXhe+SyvHt9Qe7gliVNw3qu7cCRxjpkE81zFFJaKyCXvO7O6g1rQYtT10RzxGHWIUlRrmObZC5bc8L+Xh8Z4yuRwM5q/o2qG9udRjgvdPgSz0GWKK5shchYl3qRkyAyHGewPB4rzapYbqe2Egt55IhKhjkEbld6nqpx1HHSjS1vJ/k/8w63/AK6f5HbWPiLS7GKw0xr4v5Fjc2x1NInKxPMQVKggPtXkZwDycD1j0rW9M0ePQrCXUUvEtdT+2S3MccnlwJjGxQyhjnG44XHTrXEUU07O/wDW9xW0t/W1jX1XXry7utUjW8ea1vrnznDjO/aTsOSMjAOOMccdqueLbiw1e+/tay1GFmlhhVrRo5BKjBApGduw4x13VhXNndWTRi8tprcyIJEEsZXep6MM9R71DUpWVir63NPUHjbRtNVNZmvXVX3WTo4W056KScHPXj0rMqaSzuYbWG5lt5Ugnz5UrIQsmODtPQ49qhp9RdAooooAKKKKACiiigAooooAKKKVEeWRY41Z3YhVVRkknoAKAEoqze6Zf6ZIseo2VxaO4yqzxNGWHqARTr3StR00RnUbC6tBJnYZ4WTfjrjI56igCpRRRQAUVZsdMv8AU5GTTbK4u3QZZbeJpCo9SAKglikhleKZGjkRiro4wVI6gjsaAG0UUUAFFFFABRRRQAUUUUAFFFFABRRRQAUUUUAFFFFABRRRQBU0/wD492/3v6CrdVNP/wCPdv8Ae/oKt1UtxvcKKKKkQUUUUAFFFFABRRRQAUUUUAFFFFABRRRQAV0WkaRpUvhW/wBY1X7Y5tbhIkhtpFTfuB6llOOR1wfp3HO10Ok+JE0vwnfadHEr3VxcxyoZbeOaMKoIOQ4IzzxxR0f9dRdV/XRmrH4Q0gX1/JcXF4thFpkeow7Chl2tt+RuMZ5I7dj7VX03w9omtSNcafc3CQW9k091azTojo4baFEzKqAHIO7HA7ZrCPiDVGmvpXu2eTUI/KuWZQd6ZHy8jgcDGMYAwKg07U7zSbkz2E3luyNG4KhldSMFWVgQwPoQaOv9ef8AwPuH/X5f8E6dfCOm3er6dDa34jinhlluoVuorqS3EYyQHj+U7h0yBjn0rnbuXSGuYjY2d7HAr/vBNdozSLnsRGApxn+9/i7+3tQXULe+geG1ubc5jktLaODH1CKAfxzxxTbjWrq5uIZ5Y7IPCxZdlhAikn+8qoA3/AgaOoGp4ntYVv8AR917em3urCGXdeTee1urE/KCAMqAOgAp3iLQbTT7VrjSYJri0WbyxfrqEU8bDGRlEQGMng4Y+3NZ9/4k1HUlgW9No4t9oixYwrtC9F4QfLyfl6e1MuvEGoXdp9lka3jg3iRore0ihV2HQsEUbsZ75oA0dct4P+EU0W6s5b9YZnnRba6uhKkW0rkphVAyTk8VffwrpI1+Xw4r3n9pR25cXZkTyTII/MK+XtyFxkZ3ZzzisO78T6le6eLG4+xm2XOxEsIE2Z6lSqAqTjqMUsvirWJrVoZLpTvhEDS+RGJmj/umXbvI46Z5oezGun9dToE8KaI15p+m79Q+2X2mC9E3mJ5cTeUXxt25YZU9xjjr1riK0h4h1Rb62vBdfv7W3+zQv5a/LHtK7cYweCRk81m0P4m1t/wX+lhdAooooAK3/DmjadqGmavfarLcpHp8UcgFvty+58FeR36Z7Zzg9KwKtW2pXdpZ3drby7ILxVWddoO8KcjkjI59KA6o6LTvDui6xeSS6fdT/ZLew+03EE0yRyLJnb5fmuqoBkg7sdO2alXwjpt3q+nQ2t+I4p4ZZbqFbqK6ktxGMkB4/lO4dMgY59K5jTtTvNJuTPYTeW7I0bgqGV1IwVZWBDA+hBqf+3tQXULe+geG1ubc5jktLaODH1CKAfxzxxQ/L+t/+AHQsQWmnatrVpZaRY6iqySbXVp45Xdfb5EC8ZySSB17Ve13w7Z2Xhu31WzLxM101vJCb6G7X7u4MHiAA78EZ/rmDxJqSahb30DW1vc25LRyW9nDFyRg5CqA34570t14l1O8tYLaeSD7NBKJo4EtIkjV/XaqgHryCMHvR0DqaPif/kW/C/8A15P/AOjWpNX/AOSe+Hf+u13/AOhLWffeJdS1K0jtrs2jRQjEarYwp5YznClUBAz2HBpbvxPqV7p4sbj7GbZc7ESwgTZnqVKoCpOOoxR39f1uC0t5f5WMmiiigDtLOfSY/hlOZLK+KNqMaTCO9RTIwjJznyjhevykH60nhLUWk0bxBYRQwxQJpM8hZUHmSHcuN79TgHAAwPbNcqNRul0ttOEv+iNMJzHtHLgYBzjPQ9M4q5p3iTUtJtngsTaokiFHLWULs6k5KszISR7E4p7t+f8AlYFol5f5laxsoLtXNxqdrYlSMC4WU7vpsRv1xWjoelaXefbxe3SyzQbfs8K3aWouBuwzCSVcDAwdpAJz7GsWWVppnlcKGdixCIEUE+gAAA9hVmx1S409XFvHauHIJ+0WcU2PpvU4/CheYGzB4eto59an1aG8s7fSQu6z8xWmdnO1V8zbtAzzu2njoDnNQ6bpul6k2o3pS7t9P0+2814TOryyMWCqofYAoJI52nHvVOPxJq0WpXN+t2WnulKz+YiukqkY2shBUj0GMDtSRa/qEGoNeW7wQyvEYnWK1iSN0PVWjC7GB9x6elIOp0mmeENJ1eXS7iGa8trK+huS8bujyRPEM5DBQGU5HGAetU9N0PQNf1KxtdKury2eSWUTxXJV28pE3h1YKqgkAjBJwe+Ky/8AhKNXF7FdJdLHJDE0MSxwxqkaMCGCoF2jOT0FULK9udOvYruxmaC4hbckiHkH/Pajr/Xn/X9XF0NvXNF0200dLyynWKfz/Ka0bUYLtmQrkSAxYwMgggj05rnau32r3OoxhLiO0UBt2YLKGEk+5RQT9DVKkU7BRRRTEdO2gWD+H0utNSbU5xaefcPDfRIbds4Ia3KGQqvGWzg9cgVPbeE7GbXPDdm0twI9VtFnnIZcqx38LxwPlHXNYieIdQismtYGtoUeLyWeGzijkZO4MiqGOcc8896nsfGGuabBBFZ3ixi3UpE5gjZ0UnJUOVLbc9s4pvf+vMOn9eX/AATUt9A0KLStCn1D+0ZZ9WneIiCVEWMLJs3cqSTyOO/PIqS88M6Lomli41d7+5l/tCazK2siIpCEDfllPOM8d/UY5pt4vlt/DukWWmAR3Vl5xkmktonILvuUxswLKcdxjnFLH4vktfC1nY2gBvobuS4ea4t45R82MFS4JDZGcgD60PR/13X6XB7/ANdn/wAAn1Lwtp/h+LUbjU3ubuKC/wDscEVvKsTN8m/czFWH3SBgDrVj/hENIgXUru6urw2UFlb31uE2eYUlP3G4xu7ZHHfB6Vzdr4h1O0S4RLgTJcv5kyXUSTq7/wB4iQMN3v1ol8QapOb8zXbOdRCi53Kp3hTlR0+UDAwBj06VOtv67f56jVr6/wBa/wCR1Pg9dAj8aae2mi8mM1s7FZJgDbyeW+9GPljfxjBG3Ge/SuNvXspJlOnW9xBHt+ZZ51lJPrkIuB7YptjfXOm30N5YytDcQtuR17H+v0PWnX1/NqEwluFt1YDH7i3jhB+oRQCffrTYGXp//Hu3+9/QVbqpp/8Ax7t/vf0FW6qW4PcKKKKkQUUUUAFFFFABRRRQAUUUUAFFFFABRRRQAUUUUAFFFFABRRRQAUUUUAFFFFABRRRQAUUUUAFFFFABRRRQAUUUUAFFFFABRRRQAUUUUAFFFFABRRRQAUUUUAFFFFABRRRQAUUUUAFFFFABRRRQAUUUUAVNP/492/3v6CrdVNP/AOPdv97+gq3VS3G9woooqRBRRRQAUUUUAFFFFABRRRQAUUV3eqXd3B4Z0JLbxJ/ZiHTcta+bOvm/vH5xGpXnpyR09KHorgtXb+un+ZwlFFFABRRRQAUUUUAFFFdB4FtYrzxpYQzxJMuXZY5PuuyozKDn3ApoTOforvtYni1LwNqTahqUmq39nexsl24Plq0mQ0URPJUBcnoOBgcZPBI7xSLJGzI6kMrKcEEdCDS62GJRXaz63qln8P3bUtSvLq41pzHElxO7iOBD8zAMSMs3H0BroJJnZLvTI7jbfLo219E8wi0Q7MllOMbwMNtx1P3zzQ9E/L/IFq1/XWx5VRRRQAUUUUAFFFFABRXW+BoM2+t3dvNDb3ltZ5huJsgQBmAeQEAkELnGBnnipfGr2t54f0G/iuJru4cTQvd3ChZLhUKgMfbJIGSTjqc0PQFqcbRW74LWRvGGnmG3huGRy+ydtqABSSxODjAGQcHkDiuqu3bVdO0g6dcP4ghXWtnm6mx8wMekRBBxGygEnJz3VcYp22Fc84or0XxPei/8N639jv5dTSK+jadbtyfsQJIHk5HKliy5+U4AG3nNedVKdymrBRRRTEFFFFABRRXb+Hv9C8A3F/b6j/ZTvf8AlXF3ECZjGqBljTGDksScZA45OKfmwOIorp/iAtp/wkqXFlGYvtdpDcSowAZXdcncBwGPBOO5pfAjeVqd/cSfuoYbGQy3SsVktgcDfGQD8/OAOOp5FJdb9L/gHb+tzl6K7jxBqGohvD15pFxJeSS2zw29+y77qZy2GVgQSrKWwuC2M5DHPFHxrcHytKsb64F3q9nC6X0+/edxbKxl/wCIoOCcnk47UPT7wOVooooAKKKKACiiigAooooAKK7XwPpF1BAfEEWnXF7Is4t7NYomcI5+9K2AcBQeM9z7Vu3Nlcadd+Lb8zHSbh79R9tlRleK3Z3y0eBuO4gAY6+oGTTen9en+YLX+vX/ACPLaK6zx6bWe40m+tjIZbuwWSZplCySEMyiR8cbmAz/AFPWuTpB0Kmn/wDHu3+9/QVbqpp//Hu3+9/QVbqpbje4UUUVIgooooAKKKKACiiigAooooAKs3WoXN7FbR3Uu9LWLyYRtA2pknHA55J61Wrs4vh3LLrmm2X9oAQXlqJ3uDD/AKluPk27uTl0HUfep2uK6TOMop0sZimeNs5RipyMdKbS3KaadmFFFFAgooooAKkt7ia0uY7i1laKaJgyOhwVI7g1HV3RtKm1vWLfTrZlWSdsbnOFUAZJP0AJpq99BPbUk1LX9R1aMR3syGMSNLsihSJWc9XIQAFvc80zUdav9WgtIdQn82OyiEMA2KuxB24Az071oX/hyFNBk1jSL2W9s4bk20rS23kkHGVZfmYMp+oI4yOaxrW3kvLyG2gAMs0ixoCcZJOB/OlvoN6akt/qd3qbwtey+Z5ESwxAIqhEXoAAAKvSeK9Zltmhe7U74RA0wgjEzR/3TLt3kcYxnmrN94atYYtSWw1Nrq70vH2qJrby1I3bWMbbiWCsQDkLxzUGoaJaaRbrHqV/KuovEJRaw24dY9wBUO5cYJB7BsUdAW/9f12MWiiigAooooAKKKKALWnald6VdfaLCbypChRsqGV1IwVZSCGB9CCKfeaxfX95Dc3MwaSBVWILGqJGF6BUUBQPYCp9E0Yaq11JPci1tLOAz3E2zeQM4AVcjLEkADI+tS65oH9k2mn3sE73FlqERkhkkh8pxg4IK5OOo5BIIo2DdNEM/iTVrjXxrUt439oggidVVTwMDgADGOMY570XPiLU7pYUNwsCQS+dGlrCkCrJ/fxGFG7jr1pmh6RJrmrR2UciwgqzySsMhEUFmOByeAeO9WrvRLQaZBqOn6k0tnJc/ZpXubcxNC+M5KqXyuOcg546UbBe5Df+JNU1K2lguZ4xFNJ5kywW8cPmt6vsUbjnnnNZdbt7oFouhzarpGoSXlvb3It5vOtvJIJGVZfmbIOD1wR6VhUg6BRRRTAKKKKACr+na1f6XFNFZyp5M+PNhmhSWN8HIJVwRkeuM1QrY07RIJ9Fm1bU717S0SYW8Yig82SWQjOApZRgDkkmmr9AIIPEGqW+vf21Hdt/aO4v57qGOSMHggjocYxxTbbW9QtNSnvoJ8T3AcTbo1ZZQ/3gyEFSD6EYqTxDoU/h3WZLC5YPtAeOQKV3owyDg8g+oPQ5o0bSF1Nbue4uPs1pZQ+dPKse9sZCqFXIySxA5IHqaS8gJovFutQ6jBew3SRzW0ZjgC28YSJT12pt2rnuQM1TvtWuNRRVuI7RQpyDBZwwkn3KKCfxq3e+HnSXTv7Jla/h1Mf6MTF5blg21kZckAg+5GMHNSeKPDi+G7q1hW+W98+DzC6JtVWDMpUcnIBU88Zo6D9DDooooEFFFFABRRRQAUUVu6F4aTWbS5mfUoIGht5pkgAMkj+WoJyBgKpzjJOfQEZIA62MSKRoZkljOHRgynHQitGLxHqkN/eXiXIMt9n7SHiR0mycnchBU8+3FRabb6dcvs1C7u7d2YLGLe0Wbdn1zIpH4A1ryeEBZXmsDU9QENppTrG80UXmNKzfdVUJHOOuTxQwMPUNRutUvGur+YyysAM4AAA4AAHAA9BxVatbxDoMmgXkEZlM0NzAtxBI0ZjZkbpuU/dPB45rJoAqaf8A8e7f739BVuqmn/8AHu3+9/QVbqpbje4UUUVIgooooAKKKKACiiigAooooAK7ybxtGniiGG1njGkC7tZnn8t94WNYw4HfHyDIxk7RXB0U07O4rFjUZI5tUupYDmJ5nZDg8qWOOtV6KKmKsrFN3dwooopiCiiigArX8K6rBonia0vryNpLdCyyqvUqylTj8DWRRTTsB2Gt6/CPD97p0OqR6i15cJsW3geKG2gjyVVUZV2sSeQARxySTXP31tY2cdlLpuqG7lkjDzKIGiNu/Hy5P3seo9Kz6KWwbnZ3nihoND1GCTVLXU77UlETva2YiCoCCWkcxozseg645Oc1oXHi+0urme/udXeSxnsPKbRNknMpQLg/LswG+bfndwOO1eeUUrJoFowooopgFFFFABRRRQB0fhDWbTTf7StNQMaRX1vsSWaHzY45VO5CyYORn2PbgipPEmtx6na6Zpz6i18bdnkub8o2GeQjIUMA21QAOQPYAYrmKKA22NgeRpHieM6FritHEwMeoPA8ag45ymGbHUYwc/StXVtbtrvRbHQf7Qt5Izdie5u7eyEMMXG0BUVFLYBJJ2gngc1yVFHSzDrc6zxJc6Z/ZEem+H9VszptswkEIjmE9zIeDI5aMLnHQZwBXJ0UUrAFFFFMAooooAK63w9r1vb+FrjTDew6dfJc/aLa8mhaQKGUKwUqrFHwAQwHrgjrXJUUwOl1i/0/xF4qt0uNRktdOggS1W+lhaR2VF++UBySzZ/PmqOk3DafrFwLDVre2iKvF59zAzxzx5xho9j9eDgisiikB3Fx42s4Li1iWGS/WytJLeK5g2WhWSQ/NJGoQhRt4X5QepwDWX4n1TR7/TNHi0uO4EttaCJ/MmDCP53Ow/u13HkHcDjtiuboo3/r1/zBaf16f5BRRRQAUUUUAFFFFABXT+Dp9OsHvbjUNVtrU3FlPapE8czMGdcBjtQjH459q5iigOqZt6UGsbyY2XiiHTSpCGaI3K+avXI2x5x7NiukTxXpUt1rUNq8NgLiSG4srq4tNyLMi7WcoobaWySCFOCc8GuAoo6WDrc3/Fmsx6pPYwQXUl5HY2wiN1ICDO5JZ355wSeM88VgUUUAVNP/AOPdv97+gq3VTT/+Pdv97+gq3VS3G9woooqRBRRRQAUUUUAFFFFABRRRQAUUUUAFFFFABRRRQAUUUUAFFFFABRRRQAUUUUAFFFFABRRRQAUUUUAFFFFABRRRQAUUUUAFFFFABRRRQAUUUUAFFFFABRRRQAUUUUAFFFFABRRRQAUUUUAFFFFABRRRQBU0/wD492/3v6CrdVNP/wCPdv8Ae/oKt1UtxvcKKKKkQVNaWd1f3At7G2muZmBIjhjLscdeBzUNbvhmXSo11BdVlRHkgCwLOZhA53qSJPJ+c8DI7ZHPamBly6dewX4sZ7O4juyQot3iYSEnoNpGecinXWkalYzxQ32n3VtLN/q45oGRn5xwCOea7ebxPo6a/Zm2vPKiXRm08XVvDJi1kJYB1DneQB75wfXisLw9dWHhvxPbXUuow3UJSRDPaRyE25ZSofDqpOM54pAZU2gaxb3EMFxpN9FNOSIo3tnVpCOu0EZP4VWSyupIvNjtpnj8wQ71jJG89Fz/AHvbrW9olzZeHvGGm6lNqsGoQrOWme3SXcgPG470XPXPGehq+l/o2m6JBaQ6sl5L/bEV45igkVUjGR1ZQSehIx34zQv6/AH1/rv/AMA5efR9TtbU3N1p13DbhyhlkgZVDAkFckYzkEY9qJtH1O2sUvbjTruK1cApPJAyo2emGIwc1r694lmvvEmrvDfSy6dqE+1/l5eFXygG4ZXHbpW5qer+HotJ8QQ6bdW7tfoggKC6aaXEisTK0ny7up4HryOhWtrlWXNynGxaNqk1g19Dpt3JaKCWuEgYxgDqd2McUz+y78Xkdp9huftMqho4fJbe4IyCFxkgitzxFc2OupbX0GrQweRZRwiwmilDRlFwVQqhQgkZByPvc4rVtdTjh8Dwa5cB11O0jk0u0c8eYrchwf8AYVnH4rzTel/L+v8AIldPP+vw1OFZWRyrqVZTggjBBpKKKACiiigAooooAKKKKACiiigAooooAKKKKACiiigAooooAKKKKACiiigAooooAKKKKACiiigArY07RIJ9Fm1bU717S0SYW8Yig82SWQjOApZRgDkkmseut8Pa9b2/ha40w3sOnXyXP2i2vJoWkChlCsFKqxR8AEMB64I601/X3gYviHQp/DusyWFywfaA8cgUrvRhkHB5B9QehzRo2kLqa3c9xcfZrSyh86eVY97YyFUKuRkliByQPU1paxf6f4i8VW6XGoyWunQQJarfSwtI7Ki/fKA5JZs/nzVHSbhtP1i4Fhq1vbRFXi8+5gZ45484w0ex+vBwRSXn5/8AAD/gf8Emn8ORLJZywanCNPvIWmS6uV8orsOHUoCxLA8ALuzke+K3iTRR4f16bTluPtIiVGEpj2btyhumTjr61qa/q1vrsmnacuoQR21hC6/a5bcxRu7HJ2pGhKrwABtHTJxmmeObqw1LxBJqOmajDdxzKi7EjlVk2oqkncgHUdiaQ0c1RRRTEFFFFABRRRQAVu6F4aTWbS5mfUoIGht5pkgAMkj+WoJyBgKpzjJOfQEZIwq6fwdPp1g97cahqttam4sp7VInjmZgzrgMdqEY/HPtR0YLdX7mPp1tp1z8l7dXsU7OFjjtrNZt2enJkU5z2wa27vwfa2N7qv2jVm+w6X5aSzpbAu0r/wDLNU34JHOTu4xVXw7Pp2i65Nf3d3DcGxjaS0VI3K3E2PkxuUYAPOWA6CrnhvxDFDpup2l9dRW93cSpdW15cwmZUmUnJIAY5IY4O04PPXBo6f1/Xf8AAP6/r+u5k+IdBk0C8gjMpmhuYFuIJGjMbMjdNyn7p4PHNZNb/izWY9UnsYILqS8jsbYRG6kBBncks7884JPGeeKwKSDsVNP/AOPdv97+gq3VTT/+Pdv97+gq3Vy3G9woooqRBRXZ+E/Cela1pUNxqMt4ktxfPaIIGUKuIvM3HIOehGO+R0plx4WsBqMT2UN7NYSadHekS3UMJQu20B5WARR+BJPHuB6O39bXD+v0OPors5/BthHrUKm5mjsP7M/tKZVkSaRVXhkV1wjEkcNjHPQ45z9B0vSPEPie10+GK9sreRJDIz3CStlUZgRiNR26YP1FH9f19wHOUV1On6JoOvX1ja6Vd3dtNJO6TR3OJGMSpu8xSqgAnBG3J5xzjmq0+maVe+HbzU9HW8tzYzoksV1MknmI+QrKVVcEFTkYPXrQ9AWpz9FKqs7qqAszHAAGSTXYXvhG0t9D1OYpcW93pyRsRJfQSmTLBSGiT5ojyDgk46ZNALV2OOqxeaje6gYzf3lxdGNdqGaVn2j0GTwK6ebwpp8UlxqHmXP9iLpy3kMhdfMZ2wqxkhcZ8zIPHQVc0/wXpv2Gxn1KDU2t7iwa8l1CKVI4Ij8xEZ3I3PAGc5yeBQ9N/wCt/wDIP6/L/NHCUUrbS52Ahc8AnJA+tJQAUUUUAFFFFABRRXQeBbWK88aWEM8STLl2WOT7rsqMyg59wKaEzn6K77WJ4tS8Dak2oalJqt/Z3sbJduD5atJkNFETyVAXJ6DgYHGTw1qjyXkKRRiV2kULG3RjngfjSWrsN6K5FRXqGv3f2qx8S2treG6lhjj83TpXPk2QQgO0GQN208dEx/tcVi6br2r2Pg3UNUv9Uvrj7Vmws4Zrh2XJGZHwTjheAfU0r6MdtbHE0UUUxBRRRQAUUUUAFFdb4Ggzb63d280NveW1nmG4myBAGYB5AQCQQucYGeeKl8ava3nh/Qb+K4mu7hxNC93cKFkuFQqAx9skgZJOOpzQ9AWpxtFbHhW+stO8SW1zqa/uV3ASFN/lOQQsm3vtODj2rttOtINYstDbW9Uj1qRtY8pZnSQ7k2FjHukVWYbgvGMDdTt/XzsJu39eVzzGivRtUnGoeEvEMWq6g2o3tnNHMDj9zaO0m3yomPPTIOMLwMZ615zUp3KasFFFFMQUUUUAFFFdv4e/0LwDcX9vqP8AZTvf+VcXcQJmMaoGWNMYOSxJxkDjk4p+bA4iiun+IC2n/CSpcWUZi+12kNxKjABld1ydwHAY8E47ml8CN5Wp39xJ+6hhsZDLdKxWS2BwN8ZAPz84A46nkUl1v0v+Adv63OXor1CGeSfVtDv/ADFvrKPTZ2bVblyLhQufMc/KSrxk4UfP1+9zkYHi+ZrzwzolzFeSalbhpU+3XLfvy+QTGwOSAO3zN16jpQ9AWpx1FFFABRRRQAUUUUAFFFdj4Fvn2apZJDAi/wBmXbvKIx5knyDALHnaMdBgdzk4o6NgtWl3OOoroPCD6rc6zBpun6reWFtK5kuGt53jCooyzHB67R/Kupg1dtZt/EevwXq6dKZ4IBduWMltbcj5cZYs21Rx1PcDJoe1/wCv6/4ILX+v6/qx5tRXWePTaz3Gk31sZDLd2CyTNMoWSQhmUSPjjcwGf6nrXJ0B0Kmn/wDHu3+9/QVbqpp//Hu3+9/QVflt54PL8+GSLzEEib1I3qejDPUH1qpbje5HRWhDoGsXEs0UGk30skBAlRLZyYyezADj8aseH9JS/mmkvdP1a5s4kbe+mw72R8cbiRgDrmpEQ6f4h1TS4IobC68qOKc3CDy1bEhQoTyD/CSMdKki8T6tDgLco6C2W18uWCORDEpyqlWUg4PcjPvVKy02+1ORo9Nsri7dRuZYImkIHqQBW3p3hG7uNP1f7bZX8N/aQxSW9t5RVpN8m37pXJHXGPSgFuUn8Va1JqlvqBvmW5t4/KidI1UKmSdu0DBXk8EYxx0qNPEWow6jFfW7W1vcQqyo1vZwxDDAg5CqAeCeoqzo/hLVNU8QRaVNZ3doxZfOd7ViYFPRmHGB9cVRu9E1Oxu47a6067hlmbbCkkDK0pzj5QRz1HT1oAr2d5cWF5FdWUzQzwtuSRDgqat6hr+oanbi3upYxCJDKY4LeOFWcjG5gigMfc5qveaZf6fOkF/ZXFrK4ysc0TIzDOMgEc81r3XhefTvCD6nqVreWd39tWBI54zGrIUJzgjJOR1zijpcFvYwFZkdXQlWU5BBwQa2LzxbrN9b3UNxcxbLzH2ny7WKMzYIILMqgkgjqff1NY1XJtH1O3skvLjTruK1kAKTvAyo2emGIwc0AtHoObWtQfRE0hrlvsKSeYsO0fe574yRyTjOK6pPFuiN9hkuLZ5o7W1SF7KXToJfNZVIx9ocl1Un0HA6CuR/su/F81kbG5+1IMtB5Lb1GM5K4yOOfpU1poGsX9utxY6TfXMLEgSQ2zupx15AxRv/AF8hFB2DSMyqEUkkKDnA9KSlZWRyrqVZTggjBBpKBsKKKKACiiigAqS3uJrS5juLWVopomDI6HBUjuDUdXdG0qbW9Yt9OtmVZJ2xuc4VQBkk/QAmmr30E9tSTUtf1HVoxHezIYxI0uyKFIlZz1chAAW9zzTb/XNR1KOyS9uS62MYitsKqmNRjAyAM9Byeav3/hyFNBk1jSL2W9s4bk20rS23kkHGVZfmYMp+oI4yOaxrW3kvLyG2gAMs0ixoCcZJOB/OkuyG9tTSvPFOr31vNDcXS4uMee8cEcbzY6b3VQz/APAiapXWp3d7aWlrcShoLNCkCBFUICcnoBkk9Sea177w1awxakthqbXV3pePtUTW3lqRu2sY23EsFYgHIXjmm2/h6xv7G8bTdVa4u7O0+1yxm1KRlRjeFctkkZ7qAccUdAMCiiigAooooAKKKKALWnald6VdfaLCbypChRsqGV1IwVZSCGB9CCKfeaxfX95Dc3MwaSBVWILGqJGF6BUUBQPYCp9E0Yaq11JPci1tLOAz3E2zeQM4AVcjLEkADI+tS65oH9k2mn3sE73FlqERkhkkh8pxg4IK5OOo5BIIo2DdNFa913UNR1k6rfyx3F4cZaWCNlOBgZQrtPHtTbzWtQv5oJbi4INt/qFhVYlh5z8ioAF554HWnaHpEmuatHZRyLCCrPJKwyERQWY4HJ4B471buNBt30+2vtK1Dz7aa5+yu11ELcxSYyCfmYbSOc57GgLlfUvEWp6tCYb64VozIZXWOFI/MfGN7bANze5yevrWZW1r/h+PRbPTbiG/S9S+iaQMkRRV2ttOM8kZ7kD6Vi0kPUKKKKYgooooAKv6drV/pcU0VnKnkz482GaFJY3wcglXBGR64zVCtjTtEgn0WbVtTvXtLRJhbxiKDzZJZCM4CllGAOSSaav0Agg8Qapb69/bUd239o7i/nuoY5IweCCOhxjHFNttb1C01Ke+gnxPcBxNujVllD/eDIQVIPoRipPEOhT+HdZksLlg+0B45ApXejDIODyD6g9DmjRtIXU1u57i4+zWllD508qx72xkKoVcjJLEDkgeppLyAk/4SnWRew3SXnlvBGYokjiRIlQ/eXywNmD3GOe9VtQ1i91SOGO7kTyoARFDFEkUaZOSQiALk9zjJq/P4ciWSzlg1OEafeQtMl1cr5RXYcOpQFiWB4AXdnI98VvEmijw/r02nLcfaREqMJTHs3blDdMnHX1oGZdFFFAgooooAKKKKACtPS/EWo6NE8entbRiRWV2ezhkZlbgqWZScH0zisyt3QvDSazaXMz6lBA0NvNMkABkkfy1BOQMBVOcZJz6AjJB0DdpFGPWr6Fr0wPFCb6MxT+VBGgZD1UAL8oOOduM03TdXvdJaU2MoVZ02SxvGsiSL6MjAqfxFO062065+S9ur2KdnCxx21ms27PTkyKc57YNbd34PtbG91X7RqzfYdL8tJZ0tgXaV/8Almqb8EjnJ3cYo2Dc57UNRutUvGur+YyysAM4AAA4AAHAA9BxVatbxDoMmgXkEZlM0NzAtxBI0ZjZkbpuU/dPB45rJoAqaf8A8e7f739BXo9jrnhubTNLj1fY1x9mW1lkMLE2gjd2VwQOSxKD5c8Bs15xp/8Ax7t/vf0FW6tuzBq7PQ7rxTpeqQAmWxjuINRnuEN+t0FcM+UdTAeoAA+YemD2rN0XU7J/Glzrmq6pYW295wyRQz4cvGyhlAQ/Llv4iD14rjqKztpbyt+Fh3O40K10+28H6wmo3kcllPeQRLcRySRIzKrPwfKdz16MgHoas6xqkmnyeJG1GeOC51iyt3s/sxkIkjyBjJUEHYCDuAzzxzXE2Orajpe/+zb+6s/Mxv8As8zR7sdM4PPU1BcXM93cPPdzSTzSHLySMWZj7k8mm9X/AF2sC01/re51kfiHToPEPhW981nj0+1hiuiqHKFWbI5HOAR0qPQrvSvD/ihriXUre9t54polnhimHkFhgMwKo3fnYc4zg1ydFH/B/EX/AAPwO5s/EdhpupaNHI+ltp9pcvL/AMS9LpmhLLt3fv8AtnDYXuuevXOv7rTrfwXLpsOrLqF7NqC3TskUgXGxlPzOASehOQOvfmuXoo/r+vuDr/Xn/mOi2ecnnbvL3Dfs64749673U9X8PRaT4gh026t3a/RBAUF000uJFYmVpPl3dTwPXkdDwFFHSwLR3OzuPEunv4ba8SRv7fuLNdOlG1j+7B5kLEYJZAq9c10MMaLcaJbWzwrrh0hbaCG4nkCkOrclEiZTwT/y0HYkCvK60F1/WEsvsaatfLa7PL8gXLhNv93bnGPah6p/13/zBXT/AK8v8ig6GORkbG5SQcHPP1pKKKACiiigAooooAK1/CuqwaJ4mtL68jaS3Qssqr1KspU4/A1kUU07Adhrevwjw/e6dDqkeoteXCbFt4HihtoI8lVVGVdrEnkAEcckk1z99bWNnHZS6bqhu5ZIw8yiBojbvx8uT97HqPSs+ilsG52d54oaDQ9Rgk1S11O+1JRE72tmIgqAglpHMaM7HoOuOTnNMZ9JsPDJsNF12yWe7jB1CeWG4Ej9xCmIiAg7nOWPXA4rj6KOjQbBRRRQAUUUUAFFFFAHR+ENZtNN/tK01AxpFfW+xJZofNjjlU7kLJg5GfY9uCKk8Sa3HqdrpmnPqLXxt2eS5vyjYZ5CMhQwDbVAA5A9gBiuYooDbY2B5GkeJ4zoWuK0cTAx6g8DxqDjnKYZsdRjBz9K09a1yG50G00KK+tp83P2ie5htBbwRnG0BVVFY4ySTtyegziuUoo6WDrc6rxJNptx4b0a3s9XtbmfToGjkjSOZS5Z85UtGBgA9yK5WiigOlgooooAKKKKACut8Pa9b2/ha40w3sOnXyXP2i2vJoWkChlCsFKqxR8AEMB64I61yVFMDpdYv9P8ReKrdLjUZLXToIEtVvpYWkdlRfvlAcks2fz5qjpNw2n6xcCw1a3toirxefcwM8c8ecYaPY/Xg4IrIopAdRr+rW+uyadpy6hBHbWELr9rltzFG7scnakaEqvAAG0dMnGaZ45urDUvEEmo6ZqMN3HMqLsSOVWTaiqSdyAdR2JrmqKAWgUUUUAFFFFABRRRQAV0/g6fTrB7241DVba1NxZT2qRPHMzBnXAY7UIx+OfauYooDqmdB4dn07Rdcmv7u7huDYxtJaKkblbibHyY3KMAHnLAdBVzw34hih03U7S+uore7uJUura8uYTMqTKTkkAMckMcHacHnrg1ydFHSwG/4s1mPVJ7GCC6kvI7G2ERupAQZ3JLO/POCTxnnisCiigCpp//AB7t/vf0FW6KKqW43uFFFFSIKKKKACiiigAooooAKKKKACiiigAooooAKKKKACiiigAooooAKKKKACiiigAooooAKKKKACiiigAooooAKKKKACiiigAooooAKKKKACiiigAooooAKKKKACiiigAooooAKKKKACiiigAooooAKKKKAP/Z)"
      ]
    },
    {
      "cell_type": "code",
      "metadata": {
        "id": "1KApB0QseS_3"
      },
      "source": [
        ""
      ],
      "execution_count": null,
      "outputs": []
    }
  ]
}